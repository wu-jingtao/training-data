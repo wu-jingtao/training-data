{
  "nbformat": 4,
  "nbformat_minor": 0,
  "metadata": {
    "colab": {
      "name": "AISHELL开源版-数据分析报告.ipynb",
      "provenance": [],
      "collapsed_sections": [],
      "toc_visible": true
    },
    "kernelspec": {
      "name": "python3",
      "display_name": "Python 3"
    },
    "language_info": {
      "name": "python"
    }
  },
  "cells": [
    {
      "cell_type": "markdown",
      "metadata": {
        "id": "GyL-ZcdI871-"
      },
      "source": [
        "# AISHELL开源版 - 数据分析报告"
      ]
    },
    {
      "cell_type": "code",
      "metadata": {
        "id": "B6TgHjV_fdOH"
      },
      "source": [
        "!pip install pypinyin"
      ],
      "execution_count": null,
      "outputs": []
    },
    {
      "cell_type": "code",
      "metadata": {
        "id": "vsxWFmwj87nY"
      },
      "source": [
        "import os\n",
        "import glob\n",
        "import librosa\n",
        "import pandas as pd\n",
        "import matplotlib.pyplot as plt\n",
        "import matplotlib.ticker as mticker\n",
        "import IPython.display as ipd\n",
        "from tqdm import tqdm\n",
        "from pypinyin import lazy_pinyin, Style"
      ],
      "execution_count": null,
      "outputs": []
    },
    {
      "cell_type": "markdown",
      "metadata": {
        "id": "ngOrMZ33DocY"
      },
      "source": [
        "## 挂载 Google Drive"
      ]
    },
    {
      "cell_type": "code",
      "metadata": {
        "colab": {
          "base_uri": "https://localhost:8080/"
        },
        "id": "HCbJgjRR83ee",
        "outputId": "62a64a08-013b-45ec-8249-c0a25f4d22c6"
      },
      "source": [
        "from google.colab import drive\n",
        "drive.mount('/content/drive')"
      ],
      "execution_count": null,
      "outputs": [
        {
          "output_type": "stream",
          "text": [
            "Mounted at /content/drive\n"
          ],
          "name": "stdout"
        }
      ]
    },
    {
      "cell_type": "markdown",
      "metadata": {
        "id": "32zM58xDD2Xl"
      },
      "source": [
        "## 解压数据\n",
        "\n",
        "数据来自：[AISHELL开源版 - 数据下载](https://github.com/wu-jingtao/training-data/blob/master/speech_recognition/chinese/AISHELL开源版/notebooks/AISHELL开源版-下载数据.ipynb)"
      ]
    },
    {
      "cell_type": "code",
      "metadata": {
        "id": "r2bTGQ-HD28l"
      },
      "source": [
        "!tar zxvf /content/drive/Shareddrives/TeamDrive_top_edu/原始数据/AISHELL开源版/data_aishell.tgz > unzip_log.txt"
      ],
      "execution_count": null,
      "outputs": []
    },
    {
      "cell_type": "code",
      "metadata": {
        "colab": {
          "base_uri": "https://localhost:8080/"
        },
        "id": "5rOPQ56EaS_k",
        "outputId": "ef5838d1-3852-49ca-cb99-7e3d16d5095c"
      },
      "source": [
        "for file in tqdm(glob.glob('/content/data_aishell/wav/*.tar.gz')):\n",
        "  !tar -zxvf {file} -C /content/data_aishell >> unzip_single_log.txt"
      ],
      "execution_count": null,
      "outputs": [
        {
          "output_type": "stream",
          "text": [
            "100%|██████████| 400/400 [06:11<00:00,  1.08it/s]\n"
          ],
          "name": "stderr"
        }
      ]
    },
    {
      "cell_type": "markdown",
      "metadata": {
        "id": "1D3LUCrLq3Rg"
      },
      "source": [
        "## 工具方法"
      ]
    },
    {
      "cell_type": "markdown",
      "metadata": {
        "id": "_P1Eu7vm2JLd"
      },
      "source": [
        "查看音频"
      ]
    },
    {
      "cell_type": "code",
      "metadata": {
        "id": "9akT0_r3q5zY"
      },
      "source": [
        "# 这个要在执行完 `统计音频时长` 和 `统计句子长度` 之后才能运行\n",
        "def show_audio(name):\n",
        "  path = file_list[name]\n",
        "  audio, sr = librosa.load(path, sr=None)\n",
        "  text = sentences[name]\n",
        "  print(''.join(text))\n",
        "  ipd.display(ipd.Audio(audio, rate=sr))"
      ],
      "execution_count": null,
      "outputs": []
    },
    {
      "cell_type": "markdown",
      "metadata": {
        "id": "mrFsMklkcql4"
      },
      "source": [
        "## 统计音频时长"
      ]
    },
    {
      "cell_type": "code",
      "metadata": {
        "id": "cbuaf_Swx0-a"
      },
      "source": [
        "# 音频文件列表\n",
        "file_list = dict()\n",
        "\n",
        "for file in glob.glob('/content/data_aishell/**/*.wav', recursive=True):\n",
        "  name = os.path.splitext(os.path.split(file)[1])[0]\n",
        "  file_list[name] = file"
      ],
      "execution_count": null,
      "outputs": []
    },
    {
      "cell_type": "code",
      "metadata": {
        "colab": {
          "base_uri": "https://localhost:8080/"
        },
        "id": "lFutGC4-c4Nn",
        "outputId": "e619b03d-783f-4089-d731-57d2abbabc92"
      },
      "source": [
        "audio_duration = dict()\n",
        "\n",
        "for name, path in tqdm(list(file_list.items())):\n",
        "  audio_duration[name] = librosa.get_duration(filename=path)\n",
        "\n",
        "audio_duration = pd.DataFrame.from_dict(audio_duration, orient='index', columns=['duration'])\n",
        "audio_duration = audio_duration.sort_values('duration', ascending=False)"
      ],
      "execution_count": null,
      "outputs": [
        {
          "output_type": "stream",
          "text": [
            "100%|██████████| 141925/141925 [03:26<00:00, 686.30it/s]\n"
          ],
          "name": "stderr"
        }
      ]
    },
    {
      "cell_type": "markdown",
      "metadata": {
        "id": "D4VGHq1gh7VK"
      },
      "source": [
        "总时长（小时）"
      ]
    },
    {
      "cell_type": "code",
      "metadata": {
        "colab": {
          "base_uri": "https://localhost:8080/"
        },
        "id": "0xvouflVg-wS",
        "outputId": "3baaf0cd-ead9-499f-dd1e-c438272e0f3a"
      },
      "source": [
        "audio_duration.sum() / 3600"
      ],
      "execution_count": null,
      "outputs": [
        {
          "output_type": "execute_result",
          "data": {
            "text/plain": [
              "duration    179.377617\n",
              "dtype: float64"
            ]
          },
          "metadata": {
            "tags": []
          },
          "execution_count": 35
        }
      ]
    },
    {
      "cell_type": "markdown",
      "metadata": {
        "id": "ZDuE0lURh8nR"
      },
      "source": [
        "总体特征"
      ]
    },
    {
      "cell_type": "code",
      "metadata": {
        "colab": {
          "base_uri": "https://localhost:8080/",
          "height": 297
        },
        "id": "ih_TU0LvdViG",
        "outputId": "e1f65d60-6393-48ea-9a91-e22b932a1959"
      },
      "source": [
        "audio_duration.describe()"
      ],
      "execution_count": null,
      "outputs": [
        {
          "output_type": "execute_result",
          "data": {
            "text/html": [
              "<div>\n",
              "<style scoped>\n",
              "    .dataframe tbody tr th:only-of-type {\n",
              "        vertical-align: middle;\n",
              "    }\n",
              "\n",
              "    .dataframe tbody tr th {\n",
              "        vertical-align: top;\n",
              "    }\n",
              "\n",
              "    .dataframe thead th {\n",
              "        text-align: right;\n",
              "    }\n",
              "</style>\n",
              "<table border=\"1\" class=\"dataframe\">\n",
              "  <thead>\n",
              "    <tr style=\"text-align: right;\">\n",
              "      <th></th>\n",
              "      <th>duration</th>\n",
              "    </tr>\n",
              "  </thead>\n",
              "  <tbody>\n",
              "    <tr>\n",
              "      <th>count</th>\n",
              "      <td>141925.000000</td>\n",
              "    </tr>\n",
              "    <tr>\n",
              "      <th>mean</th>\n",
              "      <td>4.550005</td>\n",
              "    </tr>\n",
              "    <tr>\n",
              "      <th>std</th>\n",
              "      <td>1.376110</td>\n",
              "    </tr>\n",
              "    <tr>\n",
              "      <th>min</th>\n",
              "      <td>0.000000</td>\n",
              "    </tr>\n",
              "    <tr>\n",
              "      <th>25%</th>\n",
              "      <td>3.507062</td>\n",
              "    </tr>\n",
              "    <tr>\n",
              "      <th>50%</th>\n",
              "      <td>4.286000</td>\n",
              "    </tr>\n",
              "    <tr>\n",
              "      <th>75%</th>\n",
              "      <td>5.362813</td>\n",
              "    </tr>\n",
              "    <tr>\n",
              "      <th>max</th>\n",
              "      <td>14.699938</td>\n",
              "    </tr>\n",
              "  </tbody>\n",
              "</table>\n",
              "</div>"
            ],
            "text/plain": [
              "            duration\n",
              "count  141925.000000\n",
              "mean        4.550005\n",
              "std         1.376110\n",
              "min         0.000000\n",
              "25%         3.507062\n",
              "50%         4.286000\n",
              "75%         5.362813\n",
              "max        14.699938"
            ]
          },
          "metadata": {
            "tags": []
          },
          "execution_count": 36
        }
      ]
    },
    {
      "cell_type": "markdown",
      "metadata": {
        "id": "IBcDCwTEiBh7"
      },
      "source": [
        "时长分布"
      ]
    },
    {
      "cell_type": "code",
      "metadata": {
        "colab": {
          "base_uri": "https://localhost:8080/",
          "height": 320
        },
        "id": "9PKDHdgDiHEj",
        "outputId": "5d1c9447-4305-495a-fd04-a0c3e2d89bab"
      },
      "source": [
        "audio_duration.plot.hist(bins=50, figsize=(15, 5))\n",
        "plt.ylabel('number')\n",
        "plt.gca().xaxis.set_major_formatter(mticker.FormatStrFormatter('%.1f s'))"
      ],
      "execution_count": null,
      "outputs": [
        {
          "output_type": "display_data",
          "data": {
            "image/png": "[encoded data removed]",
            "text/plain": [
              "<Figure size 1080x360 with 1 Axes>"
            ]
          },
          "metadata": {
            "tags": [],
            "needs_background": "light"
          }
        }
      ]
    },
    {
      "cell_type": "markdown",
      "metadata": {
        "id": "EOX5J8YAmYcV"
      },
      "source": [
        "最长的 5 条音频"
      ]
    },
    {
      "cell_type": "code",
      "metadata": {
        "colab": {
          "base_uri": "https://localhost:8080/",
          "height": 204
        },
        "id": "Yz2JzbFFmm_j",
        "outputId": "8382064e-96b0-4157-928b-562997dfa5e1"
      },
      "source": [
        "audio_duration.head()"
      ],
      "execution_count": null,
      "outputs": [
        {
          "output_type": "execute_result",
          "data": {
            "text/html": [
              "<div>\n",
              "<style scoped>\n",
              "    .dataframe tbody tr th:only-of-type {\n",
              "        vertical-align: middle;\n",
              "    }\n",
              "\n",
              "    .dataframe tbody tr th {\n",
              "        vertical-align: top;\n",
              "    }\n",
              "\n",
              "    .dataframe thead th {\n",
              "        text-align: right;\n",
              "    }\n",
              "</style>\n",
              "<table border=\"1\" class=\"dataframe\">\n",
              "  <thead>\n",
              "    <tr style=\"text-align: right;\">\n",
              "      <th></th>\n",
              "      <th>duration</th>\n",
              "    </tr>\n",
              "  </thead>\n",
              "  <tbody>\n",
              "    <tr>\n",
              "      <th>BAC009S0768W0452</th>\n",
              "      <td>14.699938</td>\n",
              "    </tr>\n",
              "    <tr>\n",
              "      <th>BAC009S0658W0472</th>\n",
              "      <td>14.531250</td>\n",
              "    </tr>\n",
              "    <tr>\n",
              "      <th>BAC009S0212W0468</th>\n",
              "      <td>13.975812</td>\n",
              "    </tr>\n",
              "    <tr>\n",
              "      <th>BAC009S0906W0219</th>\n",
              "      <td>13.927000</td>\n",
              "    </tr>\n",
              "    <tr>\n",
              "      <th>BAC009S0708W0216</th>\n",
              "      <td>13.371000</td>\n",
              "    </tr>\n",
              "  </tbody>\n",
              "</table>\n",
              "</div>"
            ],
            "text/plain": [
              "                   duration\n",
              "BAC009S0768W0452  14.699938\n",
              "BAC009S0658W0472  14.531250\n",
              "BAC009S0212W0468  13.975812\n",
              "BAC009S0906W0219  13.927000\n",
              "BAC009S0708W0216  13.371000"
            ]
          },
          "metadata": {
            "tags": []
          },
          "execution_count": 38
        }
      ]
    },
    {
      "cell_type": "markdown",
      "metadata": {
        "id": "MVBccEMor7hO"
      },
      "source": [
        "## 统计句子长度"
      ]
    },
    {
      "cell_type": "code",
      "metadata": {
        "id": "18ZEbGTpsKeW"
      },
      "source": [
        "sentences = dict()\n",
        "\n",
        "with open('/content/data_aishell/transcript/aishell_transcript_v0.8.txt') as f:\n",
        "  for line in f:\n",
        "    # 编号的长度为16\n",
        "    if len(line) > 16:\n",
        "      name = line[:16]\n",
        "      words = list(line[16:].strip().replace(' ', ''))\n",
        "      sentences[name] = words"
      ],
      "execution_count": null,
      "outputs": []
    },
    {
      "cell_type": "markdown",
      "metadata": {
        "id": "9AVGRJ4pua5i"
      },
      "source": [
        "计算字数"
      ]
    },
    {
      "cell_type": "code",
      "metadata": {
        "id": "T30qADyNtVv0"
      },
      "source": [
        "sentences_length = dict()\n",
        "for k, v in sentences.items():\n",
        "  sentences_length[k] = len(v)\n",
        "\n",
        "sentences_length = pd.DataFrame.from_dict(sentences_length, orient='index', columns=['length'])\n",
        "sentences_length = sentences_length.sort_values('length', ascending=False)"
      ],
      "execution_count": null,
      "outputs": []
    },
    {
      "cell_type": "markdown",
      "metadata": {
        "id": "izdfhvCuufnq"
      },
      "source": [
        "总字数"
      ]
    },
    {
      "cell_type": "code",
      "metadata": {
        "colab": {
          "base_uri": "https://localhost:8080/"
        },
        "id": "qpmeWn0Gt8Ea",
        "outputId": "5b9094a9-75c6-41b2-dd9b-94e97c574039"
      },
      "source": [
        "sentences_length.sum()"
      ],
      "execution_count": null,
      "outputs": [
        {
          "output_type": "execute_result",
          "data": {
            "text/plain": [
              "length    2040219\n",
              "dtype: int64"
            ]
          },
          "metadata": {
            "tags": []
          },
          "execution_count": 51
        }
      ]
    },
    {
      "cell_type": "markdown",
      "metadata": {
        "id": "-c4WNyALutc6"
      },
      "source": [
        "总体特征"
      ]
    },
    {
      "cell_type": "code",
      "metadata": {
        "colab": {
          "base_uri": "https://localhost:8080/",
          "height": 297
        },
        "id": "4fBavUK9ujba",
        "outputId": "febab74b-e92b-4ad5-a065-4fe286690629"
      },
      "source": [
        "sentences_length.describe()"
      ],
      "execution_count": null,
      "outputs": [
        {
          "output_type": "execute_result",
          "data": {
            "text/html": [
              "<div>\n",
              "<style scoped>\n",
              "    .dataframe tbody tr th:only-of-type {\n",
              "        vertical-align: middle;\n",
              "    }\n",
              "\n",
              "    .dataframe tbody tr th {\n",
              "        vertical-align: top;\n",
              "    }\n",
              "\n",
              "    .dataframe thead th {\n",
              "        text-align: right;\n",
              "    }\n",
              "</style>\n",
              "<table border=\"1\" class=\"dataframe\">\n",
              "  <thead>\n",
              "    <tr style=\"text-align: right;\">\n",
              "      <th></th>\n",
              "      <th>length</th>\n",
              "    </tr>\n",
              "  </thead>\n",
              "  <tbody>\n",
              "    <tr>\n",
              "      <th>count</th>\n",
              "      <td>141600.000000</td>\n",
              "    </tr>\n",
              "    <tr>\n",
              "      <th>mean</th>\n",
              "      <td>14.408326</td>\n",
              "    </tr>\n",
              "    <tr>\n",
              "      <th>std</th>\n",
              "      <td>4.309294</td>\n",
              "    </tr>\n",
              "    <tr>\n",
              "      <th>min</th>\n",
              "      <td>1.000000</td>\n",
              "    </tr>\n",
              "    <tr>\n",
              "      <th>25%</th>\n",
              "      <td>11.000000</td>\n",
              "    </tr>\n",
              "    <tr>\n",
              "      <th>50%</th>\n",
              "      <td>14.000000</td>\n",
              "    </tr>\n",
              "    <tr>\n",
              "      <th>75%</th>\n",
              "      <td>18.000000</td>\n",
              "    </tr>\n",
              "    <tr>\n",
              "      <th>max</th>\n",
              "      <td>44.000000</td>\n",
              "    </tr>\n",
              "  </tbody>\n",
              "</table>\n",
              "</div>"
            ],
            "text/plain": [
              "              length\n",
              "count  141600.000000\n",
              "mean       14.408326\n",
              "std         4.309294\n",
              "min         1.000000\n",
              "25%        11.000000\n",
              "50%        14.000000\n",
              "75%        18.000000\n",
              "max        44.000000"
            ]
          },
          "metadata": {
            "tags": []
          },
          "execution_count": 52
        }
      ]
    },
    {
      "cell_type": "markdown",
      "metadata": {
        "id": "pT5k3SN2vrJr"
      },
      "source": [
        "长度分布"
      ]
    },
    {
      "cell_type": "code",
      "metadata": {
        "colab": {
          "base_uri": "https://localhost:8080/",
          "height": 338
        },
        "id": "4FQ120PRvscJ",
        "outputId": "44b5c613-301a-4c97-e67f-e303774c36bd"
      },
      "source": [
        "sentences_length.plot.hist(bins=20, figsize=(10, 5))\n",
        "plt.ylabel('number')"
      ],
      "execution_count": null,
      "outputs": [
        {
          "output_type": "execute_result",
          "data": {
            "text/plain": [
              "Text(0, 0.5, 'number')"
            ]
          },
          "metadata": {
            "tags": []
          },
          "execution_count": 92
        },
        {
          "output_type": "display_data",
          "data": {
            "image/png": "[encoded data removed]",
            "text/plain": [
              "<Figure size 720x360 with 1 Axes>"
            ]
          },
          "metadata": {
            "tags": [],
            "needs_background": "light"
          }
        }
      ]
    },
    {
      "cell_type": "markdown",
      "metadata": {
        "id": "wmnITuGXuxeS"
      },
      "source": [
        "最长的 5 条句子"
      ]
    },
    {
      "cell_type": "code",
      "metadata": {
        "colab": {
          "base_uri": "https://localhost:8080/",
          "height": 204
        },
        "id": "UiTKi2qlu2rL",
        "outputId": "6129db77-d30a-470f-a098-280f2aedb631"
      },
      "source": [
        "sentences_length.head()"
      ],
      "execution_count": null,
      "outputs": [
        {
          "output_type": "execute_result",
          "data": {
            "text/html": [
              "<div>\n",
              "<style scoped>\n",
              "    .dataframe tbody tr th:only-of-type {\n",
              "        vertical-align: middle;\n",
              "    }\n",
              "\n",
              "    .dataframe tbody tr th {\n",
              "        vertical-align: top;\n",
              "    }\n",
              "\n",
              "    .dataframe thead th {\n",
              "        text-align: right;\n",
              "    }\n",
              "</style>\n",
              "<table border=\"1\" class=\"dataframe\">\n",
              "  <thead>\n",
              "    <tr style=\"text-align: right;\">\n",
              "      <th></th>\n",
              "      <th>length</th>\n",
              "    </tr>\n",
              "  </thead>\n",
              "  <tbody>\n",
              "    <tr>\n",
              "      <th>BAC009S0107W0142</th>\n",
              "      <td>44</td>\n",
              "    </tr>\n",
              "    <tr>\n",
              "      <th>BAC009S0073W0126</th>\n",
              "      <td>39</td>\n",
              "    </tr>\n",
              "    <tr>\n",
              "      <th>BAC009S0657W0266</th>\n",
              "      <td>39</td>\n",
              "    </tr>\n",
              "    <tr>\n",
              "      <th>BAC009S0089W0364</th>\n",
              "      <td>38</td>\n",
              "    </tr>\n",
              "    <tr>\n",
              "      <th>BAC009S0915W0421</th>\n",
              "      <td>37</td>\n",
              "    </tr>\n",
              "  </tbody>\n",
              "</table>\n",
              "</div>"
            ],
            "text/plain": [
              "                  length\n",
              "BAC009S0107W0142      44\n",
              "BAC009S0073W0126      39\n",
              "BAC009S0657W0266      39\n",
              "BAC009S0089W0364      38\n",
              "BAC009S0915W0421      37"
            ]
          },
          "metadata": {
            "tags": []
          },
          "execution_count": 54
        }
      ]
    },
    {
      "cell_type": "markdown",
      "metadata": {
        "id": "R-cypVniwHSR"
      },
      "source": [
        "## 统计语速变化"
      ]
    },
    {
      "cell_type": "code",
      "metadata": {
        "id": "aDOceOQ9wTmw"
      },
      "source": [
        "speed_change = pd.merge(audio_duration, sentences_length, left_index=True, right_index=True)\n",
        "speed_change = speed_change['duration'] / speed_change['length'] * 1000\n",
        "speed_change = pd.DataFrame(speed_change, columns=['speed (ms)'])\n",
        "speed_change = speed_change.sort_values('speed (ms)', ascending=False)"
      ],
      "execution_count": null,
      "outputs": []
    },
    {
      "cell_type": "markdown",
      "metadata": {
        "id": "iFmTrJ0OzpYt"
      },
      "source": [
        "总体特征"
      ]
    },
    {
      "cell_type": "code",
      "metadata": {
        "colab": {
          "base_uri": "https://localhost:8080/",
          "height": 297
        },
        "id": "knR20-tOyI5P",
        "outputId": "71abd758-21dd-4957-f19b-2409c48dd406"
      },
      "source": [
        "speed_change.describe()"
      ],
      "execution_count": null,
      "outputs": [
        {
          "output_type": "execute_result",
          "data": {
            "text/html": [
              "<div>\n",
              "<style scoped>\n",
              "    .dataframe tbody tr th:only-of-type {\n",
              "        vertical-align: middle;\n",
              "    }\n",
              "\n",
              "    .dataframe tbody tr th {\n",
              "        vertical-align: top;\n",
              "    }\n",
              "\n",
              "    .dataframe thead th {\n",
              "        text-align: right;\n",
              "    }\n",
              "</style>\n",
              "<table border=\"1\" class=\"dataframe\">\n",
              "  <thead>\n",
              "    <tr style=\"text-align: right;\">\n",
              "      <th></th>\n",
              "      <th>speed (ms)</th>\n",
              "    </tr>\n",
              "  </thead>\n",
              "  <tbody>\n",
              "    <tr>\n",
              "      <th>count</th>\n",
              "      <td>141600.000000</td>\n",
              "    </tr>\n",
              "    <tr>\n",
              "      <th>mean</th>\n",
              "      <td>320.784689</td>\n",
              "    </tr>\n",
              "    <tr>\n",
              "      <th>std</th>\n",
              "      <td>52.419231</td>\n",
              "    </tr>\n",
              "    <tr>\n",
              "      <th>min</th>\n",
              "      <td>178.350543</td>\n",
              "    </tr>\n",
              "    <tr>\n",
              "      <th>25%</th>\n",
              "      <td>285.400000</td>\n",
              "    </tr>\n",
              "    <tr>\n",
              "      <th>50%</th>\n",
              "      <td>313.818182</td>\n",
              "    </tr>\n",
              "    <tr>\n",
              "      <th>75%</th>\n",
              "      <td>347.626420</td>\n",
              "    </tr>\n",
              "    <tr>\n",
              "      <th>max</th>\n",
              "      <td>1650.125000</td>\n",
              "    </tr>\n",
              "  </tbody>\n",
              "</table>\n",
              "</div>"
            ],
            "text/plain": [
              "          speed (ms)\n",
              "count  141600.000000\n",
              "mean      320.784689\n",
              "std        52.419231\n",
              "min       178.350543\n",
              "25%       285.400000\n",
              "50%       313.818182\n",
              "75%       347.626420\n",
              "max      1650.125000"
            ]
          },
          "metadata": {
            "tags": []
          },
          "execution_count": 80
        }
      ]
    },
    {
      "cell_type": "markdown",
      "metadata": {
        "id": "GHcp9q6vzzZs"
      },
      "source": [
        "语速分布"
      ]
    },
    {
      "cell_type": "code",
      "metadata": {
        "colab": {
          "base_uri": "https://localhost:8080/",
          "height": 320
        },
        "id": "539V5oZ2z1Ct",
        "outputId": "a755fb2e-94d8-43d4-fef4-383e6e1f8294"
      },
      "source": [
        "speed_change.plot.hist(bins=50, figsize=(15, 5))\n",
        "plt.ylabel('number')\n",
        "plt.gca().xaxis.set_major_formatter(mticker.FormatStrFormatter('%.1f ms'))"
      ],
      "execution_count": null,
      "outputs": [
        {
          "output_type": "display_data",
          "data": {
            "image/png": "[encoded data removed]",
            "text/plain": [
              "<Figure size 1080x360 with 1 Axes>"
            ]
          },
          "metadata": {
            "tags": [],
            "needs_background": "light"
          }
        }
      ]
    },
    {
      "cell_type": "markdown",
      "metadata": {
        "id": "RoaLG2bY0PK7"
      },
      "source": [
        "语速最快的 5 条音频"
      ]
    },
    {
      "cell_type": "code",
      "metadata": {
        "colab": {
          "base_uri": "https://localhost:8080/",
          "height": 204
        },
        "id": "AEqj_18Y0Zi0",
        "outputId": "919c80dd-0304-4abc-9d10-d11dde603bf9"
      },
      "source": [
        "speed_change.tail().iloc[::-1]"
      ],
      "execution_count": null,
      "outputs": [
        {
          "output_type": "execute_result",
          "data": {
            "text/html": [
              "<div>\n",
              "<style scoped>\n",
              "    .dataframe tbody tr th:only-of-type {\n",
              "        vertical-align: middle;\n",
              "    }\n",
              "\n",
              "    .dataframe tbody tr th {\n",
              "        vertical-align: top;\n",
              "    }\n",
              "\n",
              "    .dataframe thead th {\n",
              "        text-align: right;\n",
              "    }\n",
              "</style>\n",
              "<table border=\"1\" class=\"dataframe\">\n",
              "  <thead>\n",
              "    <tr style=\"text-align: right;\">\n",
              "      <th></th>\n",
              "      <th>speed (ms)</th>\n",
              "    </tr>\n",
              "  </thead>\n",
              "  <tbody>\n",
              "    <tr>\n",
              "      <th>BAC009S0904W0263</th>\n",
              "      <td>178.350543</td>\n",
              "    </tr>\n",
              "    <tr>\n",
              "      <th>BAC009S0135W0430</th>\n",
              "      <td>181.955357</td>\n",
              "    </tr>\n",
              "    <tr>\n",
              "      <th>BAC009S0904W0304</th>\n",
              "      <td>182.360795</td>\n",
              "    </tr>\n",
              "    <tr>\n",
              "      <th>BAC009S0135W0395</th>\n",
              "      <td>182.551136</td>\n",
              "    </tr>\n",
              "    <tr>\n",
              "      <th>BAC009S0124W0391</th>\n",
              "      <td>182.815476</td>\n",
              "    </tr>\n",
              "  </tbody>\n",
              "</table>\n",
              "</div>"
            ],
            "text/plain": [
              "                  speed (ms)\n",
              "BAC009S0904W0263  178.350543\n",
              "BAC009S0135W0430  181.955357\n",
              "BAC009S0904W0304  182.360795\n",
              "BAC009S0135W0395  182.551136\n",
              "BAC009S0124W0391  182.815476"
            ]
          },
          "metadata": {
            "tags": []
          },
          "execution_count": 82
        }
      ]
    },
    {
      "cell_type": "markdown",
      "metadata": {
        "id": "czGTiUXw0v_r"
      },
      "source": [
        "语速最慢的 5 条音频"
      ]
    },
    {
      "cell_type": "code",
      "metadata": {
        "colab": {
          "base_uri": "https://localhost:8080/",
          "height": 204
        },
        "id": "ixSrwyUkzMAV",
        "outputId": "f5364e10-cf32-4bca-cfa4-94fa4799259a"
      },
      "source": [
        "# 都只有一个字\n",
        "speed_change.head()"
      ],
      "execution_count": null,
      "outputs": [
        {
          "output_type": "execute_result",
          "data": {
            "text/html": [
              "<div>\n",
              "<style scoped>\n",
              "    .dataframe tbody tr th:only-of-type {\n",
              "        vertical-align: middle;\n",
              "    }\n",
              "\n",
              "    .dataframe tbody tr th {\n",
              "        vertical-align: top;\n",
              "    }\n",
              "\n",
              "    .dataframe thead th {\n",
              "        text-align: right;\n",
              "    }\n",
              "</style>\n",
              "<table border=\"1\" class=\"dataframe\">\n",
              "  <thead>\n",
              "    <tr style=\"text-align: right;\">\n",
              "      <th></th>\n",
              "      <th>speed (ms)</th>\n",
              "    </tr>\n",
              "  </thead>\n",
              "  <tbody>\n",
              "    <tr>\n",
              "      <th>BAC009S0094W0364</th>\n",
              "      <td>1650.1250</td>\n",
              "    </tr>\n",
              "    <tr>\n",
              "      <th>BAC009S0094W0360</th>\n",
              "      <td>1605.9375</td>\n",
              "    </tr>\n",
              "    <tr>\n",
              "      <th>BAC009S0094W0361</th>\n",
              "      <td>1587.1875</td>\n",
              "    </tr>\n",
              "    <tr>\n",
              "      <th>BAC009S0094W0359</th>\n",
              "      <td>1551.0000</td>\n",
              "    </tr>\n",
              "    <tr>\n",
              "      <th>BAC009S0094W0362</th>\n",
              "      <td>1541.0000</td>\n",
              "    </tr>\n",
              "  </tbody>\n",
              "</table>\n",
              "</div>"
            ],
            "text/plain": [
              "                  speed (ms)\n",
              "BAC009S0094W0364   1650.1250\n",
              "BAC009S0094W0360   1605.9375\n",
              "BAC009S0094W0361   1587.1875\n",
              "BAC009S0094W0359   1551.0000\n",
              "BAC009S0094W0362   1541.0000"
            ]
          },
          "metadata": {
            "tags": []
          },
          "execution_count": 84
        }
      ]
    },
    {
      "cell_type": "markdown",
      "metadata": {
        "id": "GtsiaMTRmuFb"
      },
      "source": [
        "## 统计发音覆盖范围"
      ]
    },
    {
      "cell_type": "markdown",
      "metadata": {
        "id": "YIkhK9oF4hW_"
      },
      "source": [
        "### 5 种声调的分布情况"
      ]
    },
    {
      "cell_type": "code",
      "metadata": {
        "id": "ggy7_OSc7dGW"
      },
      "source": [
        "pinyin_distribution = dict()\n",
        "\n",
        "for words in sentences.values():\n",
        "  pinyins = lazy_pinyin(words, Style.TONE3, neutral_tone_with_five=True)\n",
        "  for i in pinyins:\n",
        "    if i in pinyin_distribution:\n",
        "      pinyin_distribution[i] +=1 \n",
        "    else:\n",
        "      pinyin_distribution[i] = 1\n",
        "\n",
        "pinyin_distribution = pd.DataFrame.from_dict(pinyin_distribution, orient='index', columns=['number'])\n",
        "pinyin_distribution = pinyin_distribution.sort_values('number', ascending=False)"
      ],
      "execution_count": null,
      "outputs": []
    },
    {
      "cell_type": "markdown",
      "metadata": {
        "id": "WcwBIo0v26Hx"
      },
      "source": [
        "总体特征"
      ]
    },
    {
      "cell_type": "code",
      "metadata": {
        "colab": {
          "base_uri": "https://localhost:8080/",
          "height": 297
        },
        "id": "wJjBRLFcrQ-v",
        "outputId": "3d8719aa-b9d3-41ed-c530-a80e57e8ca56"
      },
      "source": [
        "# 从结果来看，这个数据集并没有覆盖到所有的发音，一个使用4种声调的拼音表有1644种发音，而这里使用5种声调却只有1146种\n",
        "pinyin_distribution.describe()"
      ],
      "execution_count": null,
      "outputs": [
        {
          "output_type": "execute_result",
          "data": {
            "text/html": [
              "<div>\n",
              "<style scoped>\n",
              "    .dataframe tbody tr th:only-of-type {\n",
              "        vertical-align: middle;\n",
              "    }\n",
              "\n",
              "    .dataframe tbody tr th {\n",
              "        vertical-align: top;\n",
              "    }\n",
              "\n",
              "    .dataframe thead th {\n",
              "        text-align: right;\n",
              "    }\n",
              "</style>\n",
              "<table border=\"1\" class=\"dataframe\">\n",
              "  <thead>\n",
              "    <tr style=\"text-align: right;\">\n",
              "      <th></th>\n",
              "      <th>number</th>\n",
              "    </tr>\n",
              "  </thead>\n",
              "  <tbody>\n",
              "    <tr>\n",
              "      <th>count</th>\n",
              "      <td>1146.000000</td>\n",
              "    </tr>\n",
              "    <tr>\n",
              "      <th>mean</th>\n",
              "      <td>1780.295812</td>\n",
              "    </tr>\n",
              "    <tr>\n",
              "      <th>std</th>\n",
              "      <td>3662.474905</td>\n",
              "    </tr>\n",
              "    <tr>\n",
              "      <th>min</th>\n",
              "      <td>1.000000</td>\n",
              "    </tr>\n",
              "    <tr>\n",
              "      <th>25%</th>\n",
              "      <td>78.000000</td>\n",
              "    </tr>\n",
              "    <tr>\n",
              "      <th>50%</th>\n",
              "      <td>458.500000</td>\n",
              "    </tr>\n",
              "    <tr>\n",
              "      <th>75%</th>\n",
              "      <td>2006.500000</td>\n",
              "    </tr>\n",
              "    <tr>\n",
              "      <th>max</th>\n",
              "      <td>59022.000000</td>\n",
              "    </tr>\n",
              "  </tbody>\n",
              "</table>\n",
              "</div>"
            ],
            "text/plain": [
              "             number\n",
              "count   1146.000000\n",
              "mean    1780.295812\n",
              "std     3662.474905\n",
              "min        1.000000\n",
              "25%       78.000000\n",
              "50%      458.500000\n",
              "75%     2006.500000\n",
              "max    59022.000000"
            ]
          },
          "metadata": {
            "tags": []
          },
          "execution_count": 94
        }
      ]
    },
    {
      "cell_type": "markdown",
      "metadata": {
        "id": "BhmSKKug34Tf"
      },
      "source": [
        "发音分布"
      ]
    },
    {
      "cell_type": "code",
      "metadata": {
        "colab": {
          "base_uri": "https://localhost:8080/",
          "height": 338
        },
        "id": "LczICnlj35yQ",
        "outputId": "e13ac740-ed18-4765-adc4-e5144d9959d8"
      },
      "source": [
        "pinyin_distribution.plot.hist(bins=30, figsize=(10, 5))\n",
        "plt.ylabel('number')"
      ],
      "execution_count": null,
      "outputs": [
        {
          "output_type": "execute_result",
          "data": {
            "text/plain": [
              "Text(0, 0.5, 'number')"
            ]
          },
          "metadata": {
            "tags": []
          },
          "execution_count": 95
        },
        {
          "output_type": "display_data",
          "data": {
            "image/png": "[encoded data removed]",
            "text/plain": [
              "<Figure size 720x360 with 1 Axes>"
            ]
          },
          "metadata": {
            "tags": [],
            "needs_background": "light"
          }
        }
      ]
    },
    {
      "cell_type": "markdown",
      "metadata": {
        "id": "19bZnRNt4ps2"
      },
      "source": [
        "出现次数前 5 的发音"
      ]
    },
    {
      "cell_type": "code",
      "metadata": {
        "colab": {
          "base_uri": "https://localhost:8080/",
          "height": 204
        },
        "id": "zE8QR2p14sum",
        "outputId": "ff514613-a7b8-4b5f-b650-a0c9eb20a053"
      },
      "source": [
        "pinyin_distribution.head()"
      ],
      "execution_count": null,
      "outputs": [
        {
          "output_type": "execute_result",
          "data": {
            "text/html": [
              "<div>\n",
              "<style scoped>\n",
              "    .dataframe tbody tr th:only-of-type {\n",
              "        vertical-align: middle;\n",
              "    }\n",
              "\n",
              "    .dataframe tbody tr th {\n",
              "        vertical-align: top;\n",
              "    }\n",
              "\n",
              "    .dataframe thead th {\n",
              "        text-align: right;\n",
              "    }\n",
              "</style>\n",
              "<table border=\"1\" class=\"dataframe\">\n",
              "  <thead>\n",
              "    <tr style=\"text-align: right;\">\n",
              "      <th></th>\n",
              "      <th>number</th>\n",
              "    </tr>\n",
              "  </thead>\n",
              "  <tbody>\n",
              "    <tr>\n",
              "      <th>de5</th>\n",
              "      <td>59022</td>\n",
              "    </tr>\n",
              "    <tr>\n",
              "      <th>shi4</th>\n",
              "      <td>45006</td>\n",
              "    </tr>\n",
              "    <tr>\n",
              "      <th>yi1</th>\n",
              "      <td>33665</td>\n",
              "    </tr>\n",
              "    <tr>\n",
              "      <th>shi2</th>\n",
              "      <td>27529</td>\n",
              "    </tr>\n",
              "    <tr>\n",
              "      <th>bu4</th>\n",
              "      <td>21339</td>\n",
              "    </tr>\n",
              "  </tbody>\n",
              "</table>\n",
              "</div>"
            ],
            "text/plain": [
              "      number\n",
              "de5    59022\n",
              "shi4   45006\n",
              "yi1    33665\n",
              "shi2   27529\n",
              "bu4    21339"
            ]
          },
          "metadata": {
            "tags": []
          },
          "execution_count": 96
        }
      ]
    },
    {
      "cell_type": "markdown",
      "metadata": {
        "id": "VKo9FbHV4yEX"
      },
      "source": [
        "### 去除声调后的分布情况"
      ]
    },
    {
      "cell_type": "code",
      "metadata": {
        "id": "vlzkV7Q15SC4"
      },
      "source": [
        "pinyin_distribution_without_intonation = dict()\n",
        "\n",
        "for words in sentences.values():\n",
        "  pinyins = lazy_pinyin(words)\n",
        "  for i in pinyins:\n",
        "    if i in pinyin_distribution_without_intonation:\n",
        "      pinyin_distribution_without_intonation[i] +=1 \n",
        "    else:\n",
        "      pinyin_distribution_without_intonation[i] = 1\n",
        "\n",
        "pinyin_distribution_without_intonation = pd.DataFrame.from_dict(pinyin_distribution_without_intonation, orient='index', columns=['number'])\n",
        "pinyin_distribution_without_intonation = pinyin_distribution_without_intonation.sort_values('number', ascending=False)"
      ],
      "execution_count": null,
      "outputs": []
    },
    {
      "cell_type": "markdown",
      "metadata": {
        "id": "j3yWuNY65sOm"
      },
      "source": [
        "总体特征"
      ]
    },
    {
      "cell_type": "code",
      "metadata": {
        "colab": {
          "base_uri": "https://localhost:8080/",
          "height": 297
        },
        "id": "P4yDpRcB5c5I",
        "outputId": "9e630892-fd6f-45bf-eb5e-cda8d74ce440"
      },
      "source": [
        "# 从结果来看，不带声调的发音覆盖的比较好，不带声调的拼音表有411种发音，这里有404种\n",
        "pinyin_distribution_without_intonation.describe()"
      ],
      "execution_count": null,
      "outputs": [
        {
          "output_type": "execute_result",
          "data": {
            "text/html": [
              "<div>\n",
              "<style scoped>\n",
              "    .dataframe tbody tr th:only-of-type {\n",
              "        vertical-align: middle;\n",
              "    }\n",
              "\n",
              "    .dataframe tbody tr th {\n",
              "        vertical-align: top;\n",
              "    }\n",
              "\n",
              "    .dataframe thead th {\n",
              "        text-align: right;\n",
              "    }\n",
              "</style>\n",
              "<table border=\"1\" class=\"dataframe\">\n",
              "  <thead>\n",
              "    <tr style=\"text-align: right;\">\n",
              "      <th></th>\n",
              "      <th>number</th>\n",
              "    </tr>\n",
              "  </thead>\n",
              "  <tbody>\n",
              "    <tr>\n",
              "      <th>count</th>\n",
              "      <td>404.000000</td>\n",
              "    </tr>\n",
              "    <tr>\n",
              "      <th>mean</th>\n",
              "      <td>5050.047030</td>\n",
              "    </tr>\n",
              "    <tr>\n",
              "      <th>std</th>\n",
              "      <td>7799.701044</td>\n",
              "    </tr>\n",
              "    <tr>\n",
              "      <th>min</th>\n",
              "      <td>1.000000</td>\n",
              "    </tr>\n",
              "    <tr>\n",
              "      <th>25%</th>\n",
              "      <td>606.000000</td>\n",
              "    </tr>\n",
              "    <tr>\n",
              "      <th>50%</th>\n",
              "      <td>2514.000000</td>\n",
              "    </tr>\n",
              "    <tr>\n",
              "      <th>75%</th>\n",
              "      <td>6667.750000</td>\n",
              "    </tr>\n",
              "    <tr>\n",
              "      <th>max</th>\n",
              "      <td>79789.000000</td>\n",
              "    </tr>\n",
              "  </tbody>\n",
              "</table>\n",
              "</div>"
            ],
            "text/plain": [
              "             number\n",
              "count    404.000000\n",
              "mean    5050.047030\n",
              "std     7799.701044\n",
              "min        1.000000\n",
              "25%      606.000000\n",
              "50%     2514.000000\n",
              "75%     6667.750000\n",
              "max    79789.000000"
            ]
          },
          "metadata": {
            "tags": []
          },
          "execution_count": 98
        }
      ]
    },
    {
      "cell_type": "markdown",
      "metadata": {
        "id": "9DN2Kb1l6KAl"
      },
      "source": [
        "发音分布"
      ]
    },
    {
      "cell_type": "code",
      "metadata": {
        "colab": {
          "base_uri": "https://localhost:8080/",
          "height": 338
        },
        "id": "Dn-SPrXY6J5b",
        "outputId": "0ee9e736-634e-4acc-90db-bd8eb030aa4d"
      },
      "source": [
        "pinyin_distribution_without_intonation.plot.hist(bins=30, figsize=(10, 5))\n",
        "plt.ylabel('number')"
      ],
      "execution_count": null,
      "outputs": [
        {
          "output_type": "execute_result",
          "data": {
            "text/plain": [
              "Text(0, 0.5, 'number')"
            ]
          },
          "metadata": {
            "tags": []
          },
          "execution_count": 99
        },
        {
          "output_type": "display_data",
          "data": {
            "image/png": "[encoded data removed]",
            "text/plain": [
              "<Figure size 720x360 with 1 Axes>"
            ]
          },
          "metadata": {
            "tags": [],
            "needs_background": "light"
          }
        }
      ]
    },
    {
      "cell_type": "markdown",
      "metadata": {
        "id": "a4dRpv4K6dZt"
      },
      "source": [
        "出现次数前 5 的发音"
      ]
    },
    {
      "cell_type": "code",
      "metadata": {
        "colab": {
          "base_uri": "https://localhost:8080/",
          "height": 204
        },
        "id": "A7qTRdca6fIU",
        "outputId": "14ec44b5-9e31-4011-d22d-1f1390c6f891"
      },
      "source": [
        "pinyin_distribution_without_intonation.head()"
      ],
      "execution_count": null,
      "outputs": [
        {
          "output_type": "execute_result",
          "data": {
            "text/html": [
              "<div>\n",
              "<style scoped>\n",
              "    .dataframe tbody tr th:only-of-type {\n",
              "        vertical-align: middle;\n",
              "    }\n",
              "\n",
              "    .dataframe tbody tr th {\n",
              "        vertical-align: top;\n",
              "    }\n",
              "\n",
              "    .dataframe thead th {\n",
              "        text-align: right;\n",
              "    }\n",
              "</style>\n",
              "<table border=\"1\" class=\"dataframe\">\n",
              "  <thead>\n",
              "    <tr style=\"text-align: right;\">\n",
              "      <th></th>\n",
              "      <th>number</th>\n",
              "    </tr>\n",
              "  </thead>\n",
              "  <tbody>\n",
              "    <tr>\n",
              "      <th>shi</th>\n",
              "      <td>79789</td>\n",
              "    </tr>\n",
              "    <tr>\n",
              "      <th>de</th>\n",
              "      <td>63543</td>\n",
              "    </tr>\n",
              "    <tr>\n",
              "      <th>yi</th>\n",
              "      <td>56822</td>\n",
              "    </tr>\n",
              "    <tr>\n",
              "      <th>ji</th>\n",
              "      <td>38777</td>\n",
              "    </tr>\n",
              "    <tr>\n",
              "      <th>zhi</th>\n",
              "      <td>29249</td>\n",
              "    </tr>\n",
              "  </tbody>\n",
              "</table>\n",
              "</div>"
            ],
            "text/plain": [
              "     number\n",
              "shi   79789\n",
              "de    63543\n",
              "yi    56822\n",
              "ji    38777\n",
              "zhi   29249"
            ]
          },
          "metadata": {
            "tags": []
          },
          "execution_count": 100
        }
      ]
    }
  ]
}