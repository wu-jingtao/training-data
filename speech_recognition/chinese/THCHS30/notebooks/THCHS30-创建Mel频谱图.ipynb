{
  "nbformat": 4,
  "nbformat_minor": 0,
  "metadata": {
    "colab": {
      "name": "THCHS30-创建Mel频谱图.ipynb",
      "provenance": [],
      "collapsed_sections": [],
      "toc_visible": true
    },
    "kernelspec": {
      "name": "python3",
      "display_name": "Python 3"
    },
    "language_info": {
      "name": "python"
    }
  },
  "cells": [
    {
      "cell_type": "markdown",
      "metadata": {
        "id": "ibN8jtCiZBW-"
      },
      "source": [
        "# THCHS30 - 创建 Mel 频谱图\n",
        "\n",
        "音频经过了以下变换：\n",
        "\n",
        "1. 采样率与原始音频保持一致 `16000hz`\n",
        "1. `win_length` 设置为 `100ms`，`hop_length` 设置为 `50ms`\n",
        "1. Mel 频谱图 [filter-bank](https://librosa.org/doc/latest/generated/librosa.filters.mel.html) 选择 `80`\n",
        "1. 将 Mel 频谱图转换成 [power spectrogram](https://librosa.org/doc/latest/generated/librosa.power_to_db.html)\n",
        "1. 将取值范围调整到 `[0, 1]`\n",
        "\n",
        "文本经过以下变换：\n",
        "\n",
        "1. 拼音经过 [拼音字典](https://github.com/wu-jingtao/training-data/blob/master/speech_recognition/chinese/拼音字典/README.md) 转换成对应的数字索引"
      ]
    },
    {
      "cell_type": "code",
      "metadata": {
        "id": "IatKRwnUYbzQ"
      },
      "source": [
        "import os\n",
        "import re\n",
        "import json\n",
        "import glob\n",
        "import datetime\n",
        "import librosa\n",
        "import librosa.display\n",
        "import numpy as np\n",
        "import tensorflow as tf\n",
        "import matplotlib.pyplot as plt\n",
        "from tqdm import tqdm"
      ],
      "execution_count": null,
      "outputs": []
    },
    {
      "cell_type": "markdown",
      "metadata": {
        "id": "WIhDQwRIZvEy"
      },
      "source": [
        "## 挂载 Google Drive"
      ]
    },
    {
      "cell_type": "code",
      "metadata": {
        "colab": {
          "base_uri": "https://localhost:8080/"
        },
        "id": "wx0Bb8gtZuYt",
        "outputId": "5f138eab-bd25-4bb0-8eda-7f991af4da29"
      },
      "source": [
        "from google.colab import drive\n",
        "drive.mount('/content/drive')"
      ],
      "execution_count": null,
      "outputs": [
        {
          "output_type": "stream",
          "text": [
            "Mounted at /content/drive\n"
          ],
          "name": "stdout"
        }
      ]
    },
    {
      "cell_type": "markdown",
      "metadata": {
        "id": "JHG9JZ4ZZ0Vy"
      },
      "source": [
        "## 解压数据\n",
        "\n",
        "数据来自：[THCHS30数据下载.ipynb](https://github.com/wu-jingtao/training-data/blob/master/speech_recognition/chinese/THCHS30/notebooks/THCHS30数据下载.ipynb)"
      ]
    },
    {
      "cell_type": "code",
      "metadata": {
        "id": "OnKi4kxaV2-3"
      },
      "source": [
        "!tar zxvf /content/drive/Shareddrives/TeamDrive_top_edu/原始数据/THCHS30/data_thchs30.tgz > unzip_log.txt"
      ],
      "execution_count": null,
      "outputs": []
    },
    {
      "cell_type": "code",
      "metadata": {
        "id": "GLhwH0PLZ1na"
      },
      "source": [
        "!tar zxvf /content/drive/Shareddrives/TeamDrive_top_edu/原始数据/THCHS30/test-noise.tgz > unzip_log.txt"
      ],
      "execution_count": null,
      "outputs": []
    },
    {
      "cell_type": "markdown",
      "metadata": {
        "id": "KkF0Q0-SeLmd"
      },
      "source": [
        "## 加载拼音字典"
      ]
    },
    {
      "cell_type": "code",
      "metadata": {
        "id": "dGiWZ1D5eYFm"
      },
      "source": [
        "!wget https://raw.githubusercontent.com/wu-jingtao/training-data/master/speech_recognition/chinese/拼音字典/pinyin_mapper.json"
      ],
      "execution_count": null,
      "outputs": []
    },
    {
      "cell_type": "code",
      "metadata": {
        "id": "6RmPnTzVebD1"
      },
      "source": [
        "!wget https://raw.githubusercontent.com/wu-jingtao/training-data/master/speech_recognition/chinese/拼音字典/pinyin_mapper_without_intonation.json"
      ],
      "execution_count": null,
      "outputs": []
    },
    {
      "cell_type": "code",
      "metadata": {
        "id": "SEQoBgG1ecJV"
      },
      "source": [
        "with open('pinyin_mapper.json') as f:\n",
        "  pinyin_mapper = json.load(f)"
      ],
      "execution_count": null,
      "outputs": []
    },
    {
      "cell_type": "code",
      "metadata": {
        "id": "zt5umAnwedaF"
      },
      "source": [
        "with open('pinyin_mapper_without_intonation.json') as f:\n",
        "  pinyin_mapper_without_intonation = json.load(f)"
      ],
      "execution_count": null,
      "outputs": []
    },
    {
      "cell_type": "markdown",
      "metadata": {
        "id": "pV5UIdqgZThF"
      },
      "source": [
        "## 文件列表"
      ]
    },
    {
      "cell_type": "code",
      "metadata": {
        "id": "wfLFvvmuZVgl"
      },
      "source": [
        "audio_list = glob.glob('/content/data_thchs30/data/*.wav')\n",
        "noise_audio_list = glob.glob('/content/test-noise/0db/**/*.wav')"
      ],
      "execution_count": null,
      "outputs": []
    },
    {
      "cell_type": "markdown",
      "metadata": {
        "id": "aRslkyR5dZOu"
      },
      "source": [
        "## 读取音频对应文本"
      ]
    },
    {
      "cell_type": "code",
      "metadata": {
        "id": "0dujQxqRhQdC"
      },
      "source": [
        "audio_words = dict()\n",
        "audio_pinyins = dict()\n",
        "\n",
        "for path in audio_list:\n",
        "  name = os.path.splitext(os.path.split(path)[1])[0]\n",
        "  with open(path + '.trn') as f:\n",
        "    words = next(f).strip()\n",
        "    words = list(filter(lambda x: x != ' ', words))\n",
        "    pinyins = next(f).strip().split(' ')\n",
        "    audio_words[name] = words\n",
        "    audio_pinyins[name] = pinyins"
      ],
      "execution_count": null,
      "outputs": []
    },
    {
      "cell_type": "markdown",
      "metadata": {
        "id": "hHs2WHh9f1cU"
      },
      "source": [
        "## 构建 [Mel](https://librosa.org/doc/latest/generated/librosa.feature.melspectrogram.html) 频谱图"
      ]
    },
    {
      "cell_type": "code",
      "metadata": {
        "id": "2syulEwkiDF6"
      },
      "source": [
        "def get_melspectrogram(file_list):\n",
        "  def generator():\n",
        "    for path in file_list:\n",
        "      audio, sr = librosa.load(path, sr=None)\n",
        "      S = librosa.feature.melspectrogram(audio, sr, n_fft=sr//10, hop_length=sr//20, n_mels=80)\n",
        "      S_dB = librosa.power_to_db(S, ref=np.max)\n",
        "      S_dB = (S_dB + 80) / 80\n",
        "      yield S_dB.T\n",
        "  return generator"
      ],
      "execution_count": null,
      "outputs": []
    },
    {
      "cell_type": "code",
      "metadata": {
        "id": "ka5Kz4owbN87"
      },
      "source": [
        "mel = tf.data.Dataset.from_generator(get_melspectrogram(audio_list), output_signature=tf.TensorSpec(shape=(None, 80), dtype=tf.float32))\n",
        "noise_mel = tf.data.Dataset.from_generator(get_melspectrogram(noise_audio_list), output_signature=tf.TensorSpec(shape=(None, 80), dtype=tf.float32))"
      ],
      "execution_count": null,
      "outputs": []
    },
    {
      "cell_type": "markdown",
      "metadata": {
        "id": "Xfp6fLB_qdnf"
      },
      "source": [
        "查看效果"
      ]
    },
    {
      "cell_type": "code",
      "metadata": {
        "colab": {
          "base_uri": "https://localhost:8080/",
          "height": 386
        },
        "id": "EqoSc4zwoA5u",
        "outputId": "a56516e1-ab37-4eb3-d1d2-3fa5b82ed3c2"
      },
      "source": [
        "sample_data = next(mel.as_numpy_iterator())\n",
        "print(f'数据形状 {sample_data.shape}')\n",
        "\n",
        "fig, ax = plt.subplots(figsize=(15, 5))\n",
        "img = librosa.display.specshow(sample_data.T, x_axis='time', y_axis='mel', sr=16000, ax=ax)\n",
        "fig.colorbar(img, ax=ax)\n",
        "ax.set(title='Mel-frequency spectrogram')"
      ],
      "execution_count": null,
      "outputs": [
        {
          "output_type": "stream",
          "text": [
            "数据形状 (200, 80)\n"
          ],
          "name": "stdout"
        },
        {
          "output_type": "execute_result",
          "data": {
            "text/plain": [
              "[Text(0.5, 1.0, 'Mel-frequency spectrogram')]"
            ]
          },
          "metadata": {
            "tags": []
          },
          "execution_count": 35
        },
        {
          "output_type": "display_data",
          "data": {
            "image/png": "[encoded data removed]",
            "text/plain": [
              "<Figure size 1080x360 with 2 Axes>"
            ]
          },
          "metadata": {
            "tags": [],
            "needs_background": "light"
          }
        }
      ]
    },
    {
      "cell_type": "markdown",
      "metadata": {
        "id": "WwMl3IRZhKdK"
      },
      "source": [
        "## 构建文本"
      ]
    },
    {
      "cell_type": "code",
      "metadata": {
        "id": "DdtKknZE-tHA"
      },
      "source": [
        "def get_words(file_list):\n",
        "  def generator():\n",
        "    for path in file_list:\n",
        "      name = os.path.splitext(os.path.split(path)[1])[0]\n",
        "      yield audio_words[name]\n",
        "  return generator"
      ],
      "execution_count": null,
      "outputs": []
    },
    {
      "cell_type": "code",
      "metadata": {
        "id": "I-Ew-7RFfr-e"
      },
      "source": [
        "words = tf.data.Dataset.from_generator(get_words(audio_list), output_signature=tf.TensorSpec(shape=(None,), dtype=tf.string))\n",
        "noise_words = tf.data.Dataset.from_generator(get_words(noise_audio_list), output_signature=tf.TensorSpec(shape=(None,), dtype=tf.string))"
      ],
      "execution_count": null,
      "outputs": []
    },
    {
      "cell_type": "markdown",
      "metadata": {
        "id": "fBl1_mQigzU8"
      },
      "source": [
        "查看效果"
      ]
    },
    {
      "cell_type": "code",
      "metadata": {
        "id": "mCwn-XJLuHii",
        "colab": {
          "base_uri": "https://localhost:8080/",
          "height": 35
        },
        "outputId": "6866ba32-16d5-4ebd-933b-79448eef25b6"
      },
      "source": [
        "' '.join(map(lambda x: str(x, 'utf-8'), next(words.as_numpy_iterator())))"
      ],
      "execution_count": null,
      "outputs": [
        {
          "output_type": "execute_result",
          "data": {
            "application/vnd.google.colaboratory.intrinsic+json": {
              "type": "string"
            },
            "text/plain": [
              "'拍 卖 单 位 应 当 在 赃 物 拍 卖 完 毕 五 天 内 将 赃 物 拍 卖 款 移 送 委 托 单 位 上 交 同 级 国 库'"
            ]
          },
          "metadata": {
            "tags": []
          },
          "execution_count": 40
        }
      ]
    },
    {
      "cell_type": "markdown",
      "metadata": {
        "id": "hZZo09mfiTtT"
      },
      "source": [
        "## 构建拼音"
      ]
    },
    {
      "cell_type": "code",
      "metadata": {
        "id": "0bpiT3Q3_h-_"
      },
      "source": [
        "def get_pinyins(file_list):\n",
        "  def generator():\n",
        "    for path in file_list:\n",
        "      name = os.path.splitext(os.path.split(path)[1])[0]\n",
        "      yield audio_pinyins[name]\n",
        "  return generator"
      ],
      "execution_count": null,
      "outputs": []
    },
    {
      "cell_type": "code",
      "metadata": {
        "id": "eG6zLyi9iVf6"
      },
      "source": [
        "pinyins = tf.data.Dataset.from_generator(get_pinyins(audio_list), output_signature=tf.TensorSpec(shape=(None,), dtype=tf.string))\n",
        "noise_pinyins = tf.data.Dataset.from_generator(get_pinyins(noise_audio_list), output_signature=tf.TensorSpec(shape=(None,), dtype=tf.string))"
      ],
      "execution_count": null,
      "outputs": []
    },
    {
      "cell_type": "markdown",
      "metadata": {
        "id": "Ij6QFeAUvcvo"
      },
      "source": [
        "查看效果"
      ]
    },
    {
      "cell_type": "code",
      "metadata": {
        "colab": {
          "base_uri": "https://localhost:8080/",
          "height": 53
        },
        "id": "wteryZYQa500",
        "outputId": "f362a45c-efc8-43ed-bb1c-27be980def84"
      },
      "source": [
        "' '.join(map(lambda x: str(x, 'utf-8'), next(pinyins.as_numpy_iterator())))"
      ],
      "execution_count": null,
      "outputs": [
        {
          "output_type": "execute_result",
          "data": {
            "application/vnd.google.colaboratory.intrinsic+json": {
              "type": "string"
            },
            "text/plain": [
              "'pai1 mai4 dan1 wei4 ying1 dang1 zai4 zang1 wu4 pai1 mai4 wan2 bi4 wu3 tian1 nei4 jiang1 zang1 wu4 pai1 mai4 kuan3 yi2 song4 wei3 tuo1 dan1 wei4 shang4 jiao1 tong2 ji2 guo2 ku4'"
            ]
          },
          "metadata": {
            "tags": []
          },
          "execution_count": 46
        }
      ]
    },
    {
      "cell_type": "markdown",
      "metadata": {
        "id": "swxU5MsHihuB"
      },
      "source": [
        "## 构建有声调拼音索引"
      ]
    },
    {
      "cell_type": "code",
      "metadata": {
        "id": "WVNZFUTpimJU"
      },
      "source": [
        "def get_pinyin_index(file_list):\n",
        "  def generator():\n",
        "    regex = re.compile('^([a-z]+)(\\d?)$')\n",
        "    for path in file_list:\n",
        "      name = os.path.splitext(os.path.split(path)[1])[0]\n",
        "      pinyins = audio_pinyins[name]\n",
        "      result = np.empty(shape=len(pinyins), dtype=np.uint16)\n",
        "      for i, pinyin in enumerate(pinyins):\n",
        "        yin, diao = regex.match(pinyin).groups()\n",
        "        if diao != '' and diao in '1234':\n",
        "          result[i] = pinyin_mapper[pinyin]\n",
        "        else:\n",
        "          # 将第5声轻音归为1声\n",
        "          result[i] = pinyin_mapper[yin + '1']\n",
        "      yield result\n",
        "  return generator"
      ],
      "execution_count": null,
      "outputs": []
    },
    {
      "cell_type": "code",
      "metadata": {
        "id": "_Pu4D7_dkYvH"
      },
      "source": [
        "pinyin_index = tf.data.Dataset.from_generator(get_pinyin_index(audio_list), output_signature=tf.TensorSpec(shape=(None,), dtype=tf.uint16))\n",
        "noise_pinyin_index = tf.data.Dataset.from_generator(get_pinyin_index(noise_audio_list), output_signature=tf.TensorSpec(shape=(None,), dtype=tf.uint16))"
      ],
      "execution_count": null,
      "outputs": []
    },
    {
      "cell_type": "markdown",
      "metadata": {
        "id": "zLdBF5tIkthG"
      },
      "source": [
        "查看效果"
      ]
    },
    {
      "cell_type": "code",
      "metadata": {
        "colab": {
          "base_uri": "https://localhost:8080/"
        },
        "id": "wbSNRiBBkvEH",
        "outputId": "5b61c753-b12f-497d-e765-507ec78fc0ab"
      },
      "source": [
        "sample_data = next(pinyin_index.as_numpy_iterator())\n",
        "sample_data = list(map(lambda x: str(x), sample_data))\n",
        "print(' '.join(sample_data))\n",
        "print(' '.join(map(lambda x: pinyin_mapper[x], sample_data)))"
      ],
      "execution_count": null,
      "outputs": [
        {
          "output_type": "stream",
          "text": [
            "952 767 232 1363 1464 236 1503 1508 1379 952 767 1353 55 1378 1300 863 536 1508 1379 952 767 634 1457 1243 1362 1340 232 1363 1175 540 1317 525 445 623\n",
            "pai1 mai4 dan1 wei4 ying1 dang1 zai4 zang1 wu4 pai1 mai4 wan2 bi4 wu3 tian1 nei4 jiang1 zang1 wu4 pai1 mai4 kuan3 yi2 song4 wei3 tuo1 dan1 wei4 shang4 jiao1 tong2 ji2 guo2 ku4\n"
          ],
          "name": "stdout"
        }
      ]
    },
    {
      "cell_type": "markdown",
      "metadata": {
        "id": "3s0tYTauzaAs"
      },
      "source": [
        "## 构建无声调拼音索引"
      ]
    },
    {
      "cell_type": "code",
      "metadata": {
        "id": "mF523sBWlJ7v"
      },
      "source": [
        "def get_pinyin_index_without_intonation(file_list):\n",
        "  def generator():\n",
        "    regex = re.compile('^([a-z]+)\\d?$')\n",
        "    for path in file_list:\n",
        "      name = os.path.splitext(os.path.split(path)[1])[0]\n",
        "      pinyins = audio_pinyins[name]\n",
        "      result = np.empty(shape=len(pinyins), dtype=np.uint16)\n",
        "      for i, pinyin in enumerate(pinyins):\n",
        "        yin = regex.match(pinyin).group(1)\n",
        "        result[i] = pinyin_mapper_without_intonation[yin]\n",
        "      yield result\n",
        "  return generator"
      ],
      "execution_count": null,
      "outputs": []
    },
    {
      "cell_type": "code",
      "metadata": {
        "id": "SOqRFR70ll0N"
      },
      "source": [
        "pinyin_index_without_intonation = tf.data.Dataset.from_generator(get_pinyin_index_without_intonation(audio_list), output_signature=tf.TensorSpec(shape=(None,), dtype=tf.uint16))\n",
        "noise_pinyin_index_without_intonation = tf.data.Dataset.from_generator(get_pinyin_index_without_intonation(noise_audio_list), output_signature=tf.TensorSpec(shape=(None,), dtype=tf.uint16))"
      ],
      "execution_count": null,
      "outputs": []
    },
    {
      "cell_type": "markdown",
      "metadata": {
        "id": "GYMtsLLJlsAl"
      },
      "source": [
        "查看效果"
      ]
    },
    {
      "cell_type": "code",
      "metadata": {
        "colab": {
          "base_uri": "https://localhost:8080/"
        },
        "id": "fQpNI3a5ltD1",
        "outputId": "b53a3bfc-cf23-438c-defe-527ea06d3c89"
      },
      "source": [
        "sample_data = next(pinyin_index_without_intonation.as_numpy_iterator())\n",
        "sample_data = list(map(lambda x: str(x), sample_data))\n",
        "print(' '.join(sample_data))\n",
        "print(' '.join(map(lambda x: pinyin_mapper_without_intonation[x], sample_data)))"
      ],
      "execution_count": null,
      "outputs": [
        {
          "output_type": "stream",
          "text": [
            "238 191 58 340 366 59 375 377 344 238 191 338 13 344 325 215 134 377 344 238 191 158 364 310 340 335 58 340 293 135 329 131 111 155\n",
            "pai mai dan wei ying dang zai zang wu pai mai wan bi wu tian nei jiang zang wu pai mai kuan yi song wei tuo dan wei shang jiao tong ji guo ku\n"
          ],
          "name": "stdout"
        }
      ]
    },
    {
      "cell_type": "markdown",
      "metadata": {
        "id": "_emJyuYLSG91"
      },
      "source": [
        "## 创建缓存数据"
      ]
    },
    {
      "cell_type": "markdown",
      "metadata": {
        "id": "tBPZ6t2Pe3wA"
      },
      "source": [
        "无噪音数据"
      ]
    },
    {
      "cell_type": "code",
      "metadata": {
        "id": "6k41SSWGVlu5"
      },
      "source": [
        "!mkdir THCHS30_mel"
      ],
      "execution_count": null,
      "outputs": []
    },
    {
      "cell_type": "code",
      "metadata": {
        "id": "6YvYkK0BST6N"
      },
      "source": [
        "mel_cache = mel.cache('THCHS30_mel/audios')\n",
        "words_cache = words.cache('THCHS30_mel/words')\n",
        "pinyins_cache = pinyins.cache('THCHS30_mel/pinyins')\n",
        "pinyin_index_cache = pinyin_index.cache('THCHS30_mel/pinyin_index')\n",
        "pinyin_index_without_intonation_cache = pinyin_index_without_intonation.cache('THCHS30_mel/pinyin_index_without_intonation')"
      ],
      "execution_count": null,
      "outputs": []
    },
    {
      "cell_type": "code",
      "metadata": {
        "colab": {
          "base_uri": "https://localhost:8080/"
        },
        "id": "4NTvrTPAfFzl",
        "outputId": "7a526bbf-7f1f-4980-e762-745bb106b44e"
      },
      "source": [
        "with tqdm(total=len(audio_list), desc='mel_cache') as pbar:\n",
        "  for i in mel_cache: pbar.update()\n",
        "\n",
        "with tqdm(total=len(audio_list), desc='words_cache') as pbar:\n",
        "  for i in words_cache: pbar.update()\n",
        "\n",
        "with tqdm(total=len(audio_list), desc='pinyins_cache') as pbar:\n",
        "  for i in pinyins_cache: pbar.update()\n",
        "\n",
        "with tqdm(total=len(audio_list), desc='pinyin_index_cache') as pbar:\n",
        "  for i in pinyin_index_cache: pbar.update()\n",
        "\n",
        "with tqdm(total=len(audio_list), desc='pinyin_index_without_intonation_cache') as pbar:\n",
        "  for i in pinyin_index_without_intonation_cache: pbar.update()"
      ],
      "execution_count": null,
      "outputs": [
        {
          "output_type": "stream",
          "text": [
            "mel_cache: 100%|██████████| 13388/13388 [03:44<00:00, 59.60it/s]\n",
            "words_cache: 100%|██████████| 13388/13388 [00:04<00:00, 2689.84it/s]\n",
            "pinyins_cache: 100%|██████████| 13388/13388 [00:04<00:00, 2740.44it/s]\n",
            "pinyin_index_cache: 100%|██████████| 13388/13388 [00:05<00:00, 2480.72it/s]\n",
            "pinyin_index_without_intonation_cache: 100%|██████████| 13388/13388 [00:05<00:00, 2555.60it/s]\n"
          ],
          "name": "stderr"
        }
      ]
    },
    {
      "cell_type": "markdown",
      "metadata": {
        "id": "AW0H1aUoe6Tk"
      },
      "source": [
        "有噪音数据"
      ]
    },
    {
      "cell_type": "code",
      "metadata": {
        "id": "LfJQYLkVfIOK"
      },
      "source": [
        "!mkdir THCHS30_mel_noise"
      ],
      "execution_count": null,
      "outputs": []
    },
    {
      "cell_type": "code",
      "metadata": {
        "id": "E7D0hNyPer3U"
      },
      "source": [
        "noise_mel_cache = noise_mel.cache('THCHS30_mel_noise/audios')\n",
        "noise_words_cache = noise_words.cache('THCHS30_mel_noise/words')\n",
        "noise_pinyins_cache = noise_pinyins.cache('THCHS30_mel_noise/pinyins')\n",
        "noise_pinyin_index_cache = noise_pinyin_index.cache('THCHS30_mel_noise/pinyin_index')\n",
        "noise_pinyin_index_without_intonation_cache = noise_pinyin_index_without_intonation.cache('THCHS30_mel_noise/pinyin_index_without_intonation')"
      ],
      "execution_count": null,
      "outputs": []
    },
    {
      "cell_type": "code",
      "metadata": {
        "colab": {
          "base_uri": "https://localhost:8080/"
        },
        "id": "9tdFa1qCU1qJ",
        "outputId": "61b59443-2759-4978-f747-e740c4bc80e2"
      },
      "source": [
        "with tqdm(total=len(noise_audio_list), desc='noise_mel_cache') as pbar:\n",
        "  for i in noise_mel_cache: pbar.update()\n",
        "\n",
        "with tqdm(total=len(noise_audio_list), desc='noise_words_cache') as pbar:\n",
        "  for i in noise_words_cache: pbar.update()\n",
        "\n",
        "with tqdm(total=len(noise_audio_list), desc='noise_pinyins_cache') as pbar:\n",
        "  for i in noise_pinyins_cache: pbar.update()\n",
        "\n",
        "with tqdm(total=len(noise_audio_list), desc='noise_pinyin_index_cache') as pbar:\n",
        "  for i in noise_pinyin_index_cache: pbar.update()\n",
        "\n",
        "with tqdm(total=len(noise_audio_list), desc='noise_pinyin_index_without_intonation_cache') as pbar:\n",
        "  for i in noise_pinyin_index_without_intonation_cache: pbar.update()"
      ],
      "execution_count": null,
      "outputs": [
        {
          "output_type": "stream",
          "text": [
            "noise_mel_cache: 100%|██████████| 7485/7485 [02:05<00:00, 59.54it/s]\n",
            "noise_words_cache: 100%|██████████| 7485/7485 [00:02<00:00, 2661.98it/s]\n",
            "noise_pinyins_cache: 100%|██████████| 7485/7485 [00:02<00:00, 2695.55it/s]\n",
            "noise_pinyin_index_cache: 100%|██████████| 7485/7485 [00:03<00:00, 2467.24it/s]\n",
            "noise_pinyin_index_without_intonation_cache: 100%|██████████| 7485/7485 [00:02<00:00, 2534.39it/s]\n"
          ],
          "name": "stderr"
        }
      ]
    },
    {
      "cell_type": "markdown",
      "metadata": {
        "id": "tfhx9fyYgIeG"
      },
      "source": [
        "## 创建说明文件"
      ]
    },
    {
      "cell_type": "code",
      "metadata": {
        "id": "Pkwotsx8xuJI"
      },
      "source": [
        "readme = '''数据来源：http://www.openslr.org/18/\n",
        "项目地址：https://github.com/wu-jingtao/training-data/blob/master/speech_recognition/chinese/README.md\n",
        "创建时间：{}\n",
        "\n",
        "数据类型：\n",
        "audios：音频对应的 mel 频谱图\n",
        "  {}\n",
        "\n",
        "words：音频对应的文字\n",
        "  {}\n",
        "\n",
        "pinyins：音频对应的拼音\n",
        "  {}\n",
        "\n",
        "pinyin_index：音频对应的带声调拼音索引\n",
        "  {}\n",
        "\n",
        "pinyin_index_without_intonation：音频对应的不带声调拼音索引\n",
        "  {}\n",
        "\n",
        "示例代码：\n",
        ">>> data = tf.data.Dataset.from_generator(lambda: None, output_signature=tf.TensorSpec(shape=(None, 80), dtype=tf.float32))\n",
        ">>> data = data.cache('文件夹路径/audio')\n",
        "'''\n",
        "\n",
        "readme = readme.format(\n",
        "      datetime.datetime.today(),\n",
        "      mel_cache.element_spec,\n",
        "      words_cache.element_spec,\n",
        "      pinyins_cache.element_spec,\n",
        "      pinyin_index_cache.element_spec,\n",
        "      pinyin_index_without_intonation_cache.element_spec\n",
        "    )\n",
        "\n",
        "with open('THCHS30_mel/README.txt', 'w') as f:\n",
        "  f.write(readme)\n",
        "\n",
        "with open('THCHS30_mel_noise/README.txt', 'w') as f:\n",
        "  f.write(readme)"
      ],
      "execution_count": null,
      "outputs": []
    },
    {
      "cell_type": "markdown",
      "metadata": {
        "id": "7NoSYS_FwttQ"
      },
      "source": [
        "## 压缩文件"
      ]
    },
    {
      "cell_type": "code",
      "metadata": {
        "id": "T8VHWslewwoQ"
      },
      "source": [
        "!7z a THCHS30_mel.7z THCHS30_mel > zip_log.txt"
      ],
      "execution_count": null,
      "outputs": []
    },
    {
      "cell_type": "code",
      "metadata": {
        "id": "i_zS-PoAhw7U"
      },
      "source": [
        "!7z a THCHS30_mel_noise.7z THCHS30_mel_noise > zip_noise_log.txt"
      ],
      "execution_count": null,
      "outputs": []
    },
    {
      "cell_type": "markdown",
      "metadata": {
        "id": "ICJ_UagCwpMR"
      },
      "source": [
        "## 保存到 Google Drive"
      ]
    },
    {
      "cell_type": "code",
      "metadata": {
        "id": "0fAXbhgb0_xs"
      },
      "source": [
        "!cp THCHS30_mel.7z /content/drive/Shareddrives/TeamDrive_top_edu/生成数据/THCHS30_mel.7z"
      ],
      "execution_count": null,
      "outputs": []
    },
    {
      "cell_type": "code",
      "metadata": {
        "id": "d0BMiMmsiEGT"
      },
      "source": [
        "!cp THCHS30_mel_noise.7z /content/drive/Shareddrives/TeamDrive_top_edu/生成数据/THCHS30_mel_noise.7z"
      ],
      "execution_count": null,
      "outputs": []
    },
    {
      "cell_type": "code",
      "metadata": {
        "id": "CD_Uf7Dh1BNL"
      },
      "source": [
        "!cp -r THCHS30_mel /content/drive/Shareddrives/TeamDrive_top_edu/生成数据/"
      ],
      "execution_count": null,
      "outputs": []
    },
    {
      "cell_type": "code",
      "metadata": {
        "id": "aatQSKp6iH54"
      },
      "source": [
        "!cp -r THCHS30_mel_noise /content/drive/Shareddrives/TeamDrive_top_edu/生成数据/"
      ],
      "execution_count": null,
      "outputs": []
    }
  ]
}