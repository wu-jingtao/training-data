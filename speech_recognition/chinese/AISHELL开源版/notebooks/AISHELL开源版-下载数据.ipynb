{
  "nbformat": 4,
  "nbformat_minor": 0,
  "metadata": {
    "colab": {
      "name": "AISHELL开源版-下载数据.ipynb",
      "provenance": [],
      "collapsed_sections": [],
      "toc_visible": true
    },
    "kernelspec": {
      "name": "python3",
      "display_name": "Python 3"
    },
    "language_info": {
      "name": "python"
    }
  },
  "cells": [
    {
      "cell_type": "markdown",
      "metadata": {
        "id": "H2zXEz-P9w5s"
      },
      "source": [
        "## 挂载 Google Drive"
      ]
    },
    {
      "cell_type": "code",
      "metadata": {
        "colab": {
          "base_uri": "https://localhost:8080/"
        },
        "id": "t0sW_x4E9ykX",
        "outputId": "2b2e293d-f21d-49cd-8d1f-66463b7ee349"
      },
      "source": [
        "from google.colab import drive\n",
        "drive.mount('/content/drive')"
      ],
      "execution_count": 1,
      "outputs": [
        {
          "output_type": "stream",
          "text": [
            "Mounted at /content/drive\n"
          ],
          "name": "stdout"
        }
      ]
    },
    {
      "cell_type": "markdown",
      "metadata": {
        "id": "knBVz3VR91Zt"
      },
      "source": [
        "## 下载数据\n",
        "\n",
        "下载地址：[http://www.openslr.org/33/](http://www.openslr.org/33/)"
      ]
    },
    {
      "cell_type": "code",
      "metadata": {
        "colab": {
          "base_uri": "https://localhost:8080/"
        },
        "id": "cc8ZTT-f9piA",
        "outputId": "47211069-1b37-4818-f1ad-0e0dda72f64d"
      },
      "source": [
        "!wget https://www.openslr.org/resources/33/data_aishell.tgz"
      ],
      "execution_count": 2,
      "outputs": [
        {
          "output_type": "stream",
          "text": [
            "--2021-04-25 14:54:13--  https://www.openslr.org/resources/33/data_aishell.tgz\n",
            "Resolving www.openslr.org (www.openslr.org)... 46.101.158.64\n",
            "Connecting to www.openslr.org (www.openslr.org)|46.101.158.64|:443... connected.\n",
            "HTTP request sent, awaiting response... 200 OK\n",
            "Length: 15582913665 (15G) [application/x-gzip]\n",
            "Saving to: ‘data_aishell.tgz’\n",
            "\n",
            "data_aishell.tgz    100%[===================>]  14.51G  67.2MB/s    in 4m 2s   \n",
            "\n",
            "2021-04-25 14:58:15 (61.3 MB/s) - ‘data_aishell.tgz’ saved [15582913665/15582913665]\n",
            "\n"
          ],
          "name": "stdout"
        }
      ]
    },
    {
      "cell_type": "code",
      "metadata": {
        "colab": {
          "base_uri": "https://localhost:8080/"
        },
        "id": "xvuDdpN_ha_Q",
        "outputId": "3b6b01cd-e9c8-4c0f-c9d9-998deb6ea16d"
      },
      "source": [
        "!wget https://www.openslr.org/resources/33/resource_aishell.tgz"
      ],
      "execution_count": 3,
      "outputs": [
        {
          "output_type": "stream",
          "text": [
            "--2021-04-25 14:58:15--  https://www.openslr.org/resources/33/resource_aishell.tgz\n",
            "Resolving www.openslr.org (www.openslr.org)... 46.101.158.64\n",
            "Connecting to www.openslr.org (www.openslr.org)|46.101.158.64|:443... connected.\n",
            "HTTP request sent, awaiting response... 200 OK\n",
            "Length: 1246920 (1.2M) [application/x-gzip]\n",
            "Saving to: ‘resource_aishell.tgz’\n",
            "\n",
            "resource_aishell.tg 100%[===================>]   1.19M  --.-KB/s    in 0.06s   \n",
            "\n",
            "2021-04-25 14:58:16 (20.3 MB/s) - ‘resource_aishell.tgz’ saved [1246920/1246920]\n",
            "\n"
          ],
          "name": "stdout"
        }
      ]
    },
    {
      "cell_type": "markdown",
      "metadata": {
        "id": "AYFKIzAz-rL8"
      },
      "source": [
        "## 复制到 Google Drive"
      ]
    },
    {
      "cell_type": "markdown",
      "metadata": {
        "id": "4iuF0NjxB7J5"
      },
      "source": [
        "文件保存路径"
      ]
    },
    {
      "cell_type": "code",
      "metadata": {
        "id": "PsbZXPRhBYUo"
      },
      "source": [
        "save_path = '/content/drive/Shareddrives/TeamDrive_top_edu/原始数据/AISHELL开源版'"
      ],
      "execution_count": 4,
      "outputs": []
    },
    {
      "cell_type": "markdown",
      "metadata": {
        "id": "lhvoERllB7qC"
      },
      "source": [
        "创建保存目录"
      ]
    },
    {
      "cell_type": "code",
      "metadata": {
        "id": "7nY34s9f_oUy"
      },
      "source": [
        "!mkdir -p {save_path}"
      ],
      "execution_count": 5,
      "outputs": []
    },
    {
      "cell_type": "markdown",
      "metadata": {
        "id": "DvuFoQ_4CaX3"
      },
      "source": [
        "保存数据"
      ]
    },
    {
      "cell_type": "code",
      "metadata": {
        "id": "z6H1ME_9-4y7"
      },
      "source": [
        "!cp data_aishell.tgz {save_path}/data_aishell.tgz"
      ],
      "execution_count": 6,
      "outputs": []
    },
    {
      "cell_type": "code",
      "metadata": {
        "id": "hG2qFZ5NiaqV"
      },
      "source": [
        "!cp resource_aishell.tgz {save_path}/resource_aishell.tgz"
      ],
      "execution_count": 7,
      "outputs": []
    }
  ]
}