{
  "nbformat": 4,
  "nbformat_minor": 0,
  "metadata": {
    "colab": {
      "name": "ST-CMDS-下载数据.ipynb",
      "provenance": [],
      "collapsed_sections": [],
      "toc_visible": true
    },
    "kernelspec": {
      "name": "python3",
      "display_name": "Python 3"
    },
    "language_info": {
      "name": "python"
    }
  },
  "cells": [
    {
      "cell_type": "markdown",
      "metadata": {
        "id": "H2zXEz-P9w5s"
      },
      "source": [
        "## 挂载 Google Drive"
      ]
    },
    {
      "cell_type": "code",
      "metadata": {
        "colab": {
          "base_uri": "https://localhost:8080/"
        },
        "id": "t0sW_x4E9ykX",
        "outputId": "112a02ed-8c21-47c7-b50b-3fbb9c27019e"
      },
      "source": [
        "from google.colab import drive\n",
        "drive.mount('/content/drive')"
      ],
      "execution_count": 1,
      "outputs": [
        {
          "output_type": "stream",
          "text": [
            "Mounted at /content/drive\n"
          ],
          "name": "stdout"
        }
      ]
    },
    {
      "cell_type": "markdown",
      "metadata": {
        "id": "knBVz3VR91Zt"
      },
      "source": [
        "## 下载数据\n",
        "\n",
        "下载地址：[http://www.openslr.org/38/](http://www.openslr.org/38/)"
      ]
    },
    {
      "cell_type": "code",
      "metadata": {
        "colab": {
          "base_uri": "https://localhost:8080/"
        },
        "id": "cc8ZTT-f9piA",
        "outputId": "306f977f-e0c5-4c8d-cb66-052f3cd87c67"
      },
      "source": [
        "!wget https://www.openslr.org/resources/38/ST-CMDS-20170001_1-OS.tar.gz"
      ],
      "execution_count": 2,
      "outputs": [
        {
          "output_type": "stream",
          "text": [
            "--2021-04-25 02:38:17--  https://www.openslr.org/resources/38/ST-CMDS-20170001_1-OS.tar.gz\n",
            "Resolving www.openslr.org (www.openslr.org)... 46.101.158.64\n",
            "Connecting to www.openslr.org (www.openslr.org)|46.101.158.64|:443... connected.\n",
            "HTTP request sent, awaiting response... 200 OK\n",
            "Length: 8231662593 (7.7G) [application/x-gzip]\n",
            "Saving to: ‘ST-CMDS-20170001_1-OS.tar.gz’\n",
            "\n",
            "ST-CMDS-20170001_1- 100%[===================>]   7.67G  29.6MB/s    in 4m 30s  \n",
            "\n",
            "2021-04-25 02:42:47 (29.1 MB/s) - ‘ST-CMDS-20170001_1-OS.tar.gz’ saved [8231662593/8231662593]\n",
            "\n"
          ],
          "name": "stdout"
        }
      ]
    },
    {
      "cell_type": "markdown",
      "metadata": {
        "id": "AYFKIzAz-rL8"
      },
      "source": [
        "## 复制到 Google Drive"
      ]
    },
    {
      "cell_type": "markdown",
      "metadata": {
        "id": "4iuF0NjxB7J5"
      },
      "source": [
        "文件保存路径"
      ]
    },
    {
      "cell_type": "code",
      "metadata": {
        "id": "PsbZXPRhBYUo"
      },
      "source": [
        "save_path = '/content/drive/Shareddrives/TeamDrive_top_edu/原始数据/ST-CMDS'"
      ],
      "execution_count": 3,
      "outputs": []
    },
    {
      "cell_type": "markdown",
      "metadata": {
        "id": "lhvoERllB7qC"
      },
      "source": [
        "创建保存目录"
      ]
    },
    {
      "cell_type": "code",
      "metadata": {
        "id": "7nY34s9f_oUy"
      },
      "source": [
        "!mkdir -p {save_path}"
      ],
      "execution_count": 4,
      "outputs": []
    },
    {
      "cell_type": "markdown",
      "metadata": {
        "id": "DvuFoQ_4CaX3"
      },
      "source": [
        "保存数据"
      ]
    },
    {
      "cell_type": "code",
      "metadata": {
        "id": "z6H1ME_9-4y7"
      },
      "source": [
        "!cp ST-CMDS-20170001_1-OS.tar.gz {save_path}/ST-CMDS-20170001_1-OS.tar.gz"
      ],
      "execution_count": 5,
      "outputs": []
    }
  ]
}