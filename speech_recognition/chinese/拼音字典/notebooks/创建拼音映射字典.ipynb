{
  "nbformat": 4,
  "nbformat_minor": 0,
  "metadata": {
    "orig_nbformat": 2,
    "kernelspec": {
      "name": "python3",
      "display_name": "Python 3"
    },
    "colab": {
      "name": "创建拼音映射字典.ipynb",
      "provenance": [],
      "collapsed_sections": [],
      "toc_visible": true
    },
    "language_info": {
      "name": "python"
    }
  },
  "cells": [
    {
      "cell_type": "markdown",
      "metadata": {
        "id": "p1YG75lOTjoc"
      },
      "source": [
        "# 创建拼音映射字典"
      ]
    },
    {
      "cell_type": "code",
      "metadata": {
        "id": "3dpPXTdwTjol"
      },
      "source": [
        "import json\n",
        "import re"
      ],
      "execution_count": 7,
      "outputs": []
    },
    {
      "cell_type": "markdown",
      "metadata": {
        "id": "SG6-wfCCTjon"
      },
      "source": [
        "## 加载拼音表"
      ]
    },
    {
      "cell_type": "code",
      "metadata": {
        "colab": {
          "base_uri": "https://localhost:8080/"
        },
        "id": "dFBXHq-zTmLa",
        "outputId": "0603ec47-6abf-4766-c832-f30b06508328"
      },
      "source": [
        "!wget https://raw.githubusercontent.com/wu-jingtao/training-data/master/speech_recognition/chinese/拼音字典/phonetic.txt"
      ],
      "execution_count": 2,
      "outputs": [
        {
          "output_type": "stream",
          "text": [
            "--2021-04-22 02:01:17--  https://raw.githubusercontent.com/wu-jingtao/training-data/master/speech_recognition/chinese/%E6%8B%BC%E9%9F%B3%E5%AD%97%E5%85%B8/phonetic.txt\n",
            "Resolving raw.githubusercontent.com (raw.githubusercontent.com)... 185.199.108.133, 185.199.109.133, 185.199.110.133, ...\n",
            "Connecting to raw.githubusercontent.com (raw.githubusercontent.com)|185.199.108.133|:443... connected.\n",
            "HTTP request sent, awaiting response... 200 OK\n",
            "Length: 1737 (1.7K) [text/plain]\n",
            "Saving to: ‘phonetic.txt’\n",
            "\n",
            "\rphonetic.txt          0%[                    ]       0  --.-KB/s               \rphonetic.txt        100%[===================>]   1.70K  --.-KB/s    in 0s      \n",
            "\n",
            "2021-04-22 02:01:17 (28.9 MB/s) - ‘phonetic.txt’ saved [1737/1737]\n",
            "\n"
          ],
          "name": "stdout"
        }
      ]
    },
    {
      "cell_type": "code",
      "metadata": {
        "id": "S2oesRVDTjon"
      },
      "source": [
        "with open('phonetic.txt') as f:\n",
        "  phonetic = f.readlines()\n",
        "  phonetic = list(map(lambda x: x.strip(), phonetic))"
      ],
      "execution_count": 50,
      "outputs": []
    },
    {
      "cell_type": "markdown",
      "metadata": {
        "id": "q8LgNucqTjoo"
      },
      "source": [
        "## 创建 `5` 种声调的拼音映射字典\n",
        "\n",
        "`1` 为[阴平](https://baike.baidu.com/item/%E9%98%B4%E5%B9%B3)、`2` 为[阳平](https://baike.baidu.com/item/%E9%98%B3%E5%B9%B3)、`3` 为[上声](https://baike.baidu.com/item/%E4%B8%8A%E5%A3%B0)、`4` 为[去声](https://baike.baidu.com/item/%E5%8E%BB%E5%A3%B0)、`5` 为`轻声`\n",
        "    \n"
      ]
    },
    {
      "cell_type": "code",
      "metadata": {
        "id": "dSBKzsZoTjop"
      },
      "source": [
        "intonation_5 = {'count': 0}\n",
        "\n",
        "for pinyin in phonetic:\n",
        "  for intonation in range(1, 6):\n",
        "    pronunciation = pinyin + str(intonation)\n",
        "    intonation_5[intonation_5[\"count\"]] = pronunciation\n",
        "    intonation_5[pronunciation] = intonation_5[\"count\"]\n",
        "    intonation_5[\"count\"] += 1\n",
        "  \n",
        "  # 将无声调归为轻声\n",
        "  intonation_5[pinyin] = intonation_5[pinyin + '5']\n",
        "  intonation_5[pinyin + '0'] = intonation_5[pinyin + '5']"
      ],
      "execution_count": 51,
      "outputs": []
    },
    {
      "cell_type": "markdown",
      "metadata": {
        "id": "S6KlGC8QTjop"
      },
      "source": [
        "## 创建 `4` 种声调的拼音映射字典\n",
        "\n",
        "`1` 为[阴平](https://baike.baidu.com/item/%E9%98%B4%E5%B9%B3)、`2` 为[阳平](https://baike.baidu.com/item/%E9%98%B3%E5%B9%B3)、`3` 为[上声](https://baike.baidu.com/item/%E4%B8%8A%E5%A3%B0)、`4` 为[去声](https://baike.baidu.com/item/%E5%8E%BB%E5%A3%B0)"
      ]
    },
    {
      "cell_type": "code",
      "metadata": {
        "id": "G7JnOpDvTjop"
      },
      "source": [
        "intonation_4 = {'count': 0}\n",
        "\n",
        "for pinyin in phonetic:\n",
        "  for intonation in range(1, 5):\n",
        "    pronunciation = pinyin + str(intonation)\n",
        "    intonation_4[intonation_4[\"count\"]] = pronunciation\n",
        "    intonation_4[pronunciation] = intonation_4[\"count\"]\n",
        "    intonation_4[\"count\"] += 1\n",
        "  \n",
        "  # 将轻声归为一声\n",
        "  intonation_4[pinyin + '5'] = intonation_4[pinyin + '1']\n",
        "\n",
        "  # 将无声调归为一声\n",
        "  intonation_4[pinyin] = intonation_4[pinyin + '1']\n",
        "  intonation_4[pinyin + '0'] = intonation_4[pinyin + '1']"
      ],
      "execution_count": 52,
      "outputs": []
    },
    {
      "cell_type": "markdown",
      "metadata": {
        "id": "jG4L5VauTjoq"
      },
      "source": [
        "## 创建无声调的拼音映射字典"
      ]
    },
    {
      "cell_type": "code",
      "metadata": {
        "id": "oHL31zy3Tjoq"
      },
      "source": [
        "intonation_0 = {'count': 0}\n",
        "\n",
        "for pinyin in phonetic:\n",
        "  intonation_0[intonation_0[\"count\"]] = pinyin\n",
        "  intonation_0[pinyin] = intonation_0[\"count\"]\n",
        "  intonation_0[\"count\"] += 1\n",
        "\n",
        "  # 添加5声调到无声调的索引\n",
        "  for intonation in range(6):\n",
        "    pronunciation = pinyin + str(intonation)\n",
        "    intonation_0[pronunciation] = intonation_0[pinyin]"
      ],
      "execution_count": 53,
      "outputs": []
    },
    {
      "cell_type": "markdown",
      "metadata": {
        "id": "67qajgmaUXLD"
      },
      "source": [
        "## 创建无声调加模糊音拼音映射字典\n",
        "\n",
        "模糊音参考的是 [百度拼音输入法](https://jingyan.baidu.com/article/636f38bb35428fd6b84610f5.html)"
      ]
    },
    {
      "cell_type": "code",
      "metadata": {
        "id": "IxmSagHQVWv9"
      },
      "source": [
        "# 模糊音列表\n",
        "fuzzy_pinyin = [\n",
        "  {'target': re.compile('^ch'), 'replace': 'c'}, \n",
        "  {'target': re.compile('^sh'), 'replace': 's'}, \n",
        "  {'target': re.compile('^zh'), 'replace': 'z'}, \n",
        "  {'target': re.compile('^n'), 'replace': 'l'}, \n",
        "  {'target': re.compile('^h'), 'replace': 'f'}, \n",
        "  {'target': re.compile('^l'), 'replace': 'r'}, \n",
        "  {'target': re.compile('ang$'), 'replace': 'an'}, \n",
        "  {'target': re.compile('eng$'), 'replace': 'en'}, \n",
        "  {'target': re.compile('ing$'), 'replace': 'in'}, \n",
        "  {'target': re.compile('iang$'), 'replace': 'ian'}, \n",
        "  {'target': re.compile('uang$'), 'replace': 'uan'}\n",
        "]"
      ],
      "execution_count": 54,
      "outputs": []
    },
    {
      "cell_type": "code",
      "metadata": {
        "id": "qnAhSw11Tjor"
      },
      "source": [
        "intonation_fuzzy = {'count': 0}\n",
        "\n",
        "for pinyin in phonetic:\n",
        "  fuzzy = pinyin\n",
        "  for pattern in fuzzy_pinyin:\n",
        "    fuzzy = pattern['target'].sub(pattern['replace'], fuzzy)\n",
        "\n",
        "  if fuzzy not in intonation_fuzzy:\n",
        "    intonation_fuzzy[intonation_fuzzy[\"count\"]] = fuzzy\n",
        "    intonation_fuzzy[fuzzy] = intonation_fuzzy[\"count\"]\n",
        "    intonation_fuzzy[\"count\"] += 1\n",
        "\n",
        "  # 添加5声调到模糊音的索引\n",
        "  for intonation in range(6):\n",
        "    pronunciation = pinyin + str(intonation)\n",
        "    intonation_fuzzy[pronunciation] = intonation_fuzzy[fuzzy]"
      ],
      "execution_count": 55,
      "outputs": []
    },
    {
      "cell_type": "markdown",
      "metadata": {
        "id": "wXbL0Qe3gKQl"
      },
      "source": [
        "## 保存结果"
      ]
    },
    {
      "cell_type": "code",
      "metadata": {
        "id": "9K6fm1VtgL4L"
      },
      "source": [
        "with open('intonation_5.json', 'w') as f:\n",
        "  json.dump(intonation_5, f)\n",
        "\n",
        "with open('intonation_4.json', 'w') as f:\n",
        "  json.dump(intonation_4, f)\n",
        "\n",
        "with open('intonation_0.json', 'w') as f:\n",
        "  json.dump(intonation_0, f)\n",
        "\n",
        "with open('intonation_fuzzy.json', 'w') as f:\n",
        "  json.dump(intonation_fuzzy, f)"
      ],
      "execution_count": 56,
      "outputs": []
    }
  ]
}