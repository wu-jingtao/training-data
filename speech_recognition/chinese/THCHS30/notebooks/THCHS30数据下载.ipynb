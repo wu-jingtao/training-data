{
  "nbformat": 4,
  "nbformat_minor": 0,
  "metadata": {
    "colab": {
      "name": "THCHS30下载数据.ipynb",
      "provenance": [],
      "collapsed_sections": [],
      "toc_visible": true
    },
    "kernelspec": {
      "name": "python3",
      "display_name": "Python 3"
    },
    "language_info": {
      "name": "python"
    }
  },
  "cells": [
    {
      "cell_type": "markdown",
      "metadata": {
        "id": "H2zXEz-P9w5s"
      },
      "source": [
        "## 挂载 Google Drive"
      ]
    },
    {
      "cell_type": "code",
      "metadata": {
        "colab": {
          "base_uri": "https://localhost:8080/"
        },
        "id": "t0sW_x4E9ykX",
        "outputId": "4e67f79b-bef4-4c82-d9d9-566b823d836b"
      },
      "source": [
        "from google.colab import drive\n",
        "drive.mount('/content/drive')"
      ],
      "execution_count": 2,
      "outputs": [
        {
          "output_type": "stream",
          "text": [
            "Mounted at /content/drive\n"
          ],
          "name": "stdout"
        }
      ]
    },
    {
      "cell_type": "markdown",
      "metadata": {
        "id": "knBVz3VR91Zt"
      },
      "source": [
        "## 下载数据\n",
        "\n",
        "下载地址：[http://www.openslr.org/18/](http://www.openslr.org/18/)"
      ]
    },
    {
      "cell_type": "code",
      "metadata": {
        "colab": {
          "base_uri": "https://localhost:8080/"
        },
        "id": "cc8ZTT-f9piA",
        "outputId": "f9325adc-e782-408d-8314-1ef141df6804"
      },
      "source": [
        "!wget https://www.openslr.org/resources/18/data_thchs30.tgz"
      ],
      "execution_count": 1,
      "outputs": [
        {
          "output_type": "stream",
          "text": [
            "--2021-04-04 13:01:42--  https://www.openslr.org/resources/18/data_thchs30.tgz\n",
            "Resolving www.openslr.org (www.openslr.org)... 46.101.158.64\n",
            "Connecting to www.openslr.org (www.openslr.org)|46.101.158.64|:443... connected.\n",
            "HTTP request sent, awaiting response... 200 OK\n",
            "Length: 6453425169 (6.0G) [application/x-gzip]\n",
            "Saving to: ‘data_thchs30.tgz’\n",
            "\n",
            "data_thchs30.tgz    100%[===================>]   6.01G  29.7MB/s    in 3m 33s  \n",
            "\n",
            "2021-04-04 13:05:15 (28.9 MB/s) - ‘data_thchs30.tgz’ saved [6453425169/6453425169]\n",
            "\n"
          ],
          "name": "stdout"
        }
      ]
    },
    {
      "cell_type": "code",
      "metadata": {
        "colab": {
          "base_uri": "https://localhost:8080/"
        },
        "id": "ZBhGTVwz-dYM",
        "outputId": "96d4f4cf-d0bd-44e6-a7fb-1175b4c2658c"
      },
      "source": [
        "!wget https://www.openslr.org/resources/18/test-noise.tgz"
      ],
      "execution_count": 3,
      "outputs": [
        {
          "output_type": "stream",
          "text": [
            "--2021-04-04 13:06:28--  https://www.openslr.org/resources/18/test-noise.tgz\n",
            "Resolving www.openslr.org (www.openslr.org)... 46.101.158.64\n",
            "Connecting to www.openslr.org (www.openslr.org)|46.101.158.64|:443... connected.\n",
            "HTTP request sent, awaiting response... 200 OK\n",
            "Length: 1971460210 (1.8G) [application/x-gzip]\n",
            "Saving to: ‘test-noise.tgz’\n",
            "\n",
            "test-noise.tgz      100%[===================>]   1.84G  29.2MB/s    in 65s     \n",
            "\n",
            "2021-04-04 13:07:34 (28.9 MB/s) - ‘test-noise.tgz’ saved [1971460210/1971460210]\n",
            "\n"
          ],
          "name": "stdout"
        }
      ]
    },
    {
      "cell_type": "code",
      "metadata": {
        "colab": {
          "base_uri": "https://localhost:8080/"
        },
        "id": "AAQmREZn-ldb",
        "outputId": "ca9c01a0-6552-48b0-9fda-db5726d3a4da"
      },
      "source": [
        "!wget https://www.openslr.org/resources/18/resource.tgz"
      ],
      "execution_count": 4,
      "outputs": [
        {
          "output_type": "stream",
          "text": [
            "--2021-04-04 13:07:34--  https://www.openslr.org/resources/18/resource.tgz\n",
            "Resolving www.openslr.org (www.openslr.org)... 46.101.158.64\n",
            "Connecting to www.openslr.org (www.openslr.org)|46.101.158.64|:443... connected.\n",
            "HTTP request sent, awaiting response... 200 OK\n",
            "Length: 24813708 (24M) [application/x-gzip]\n",
            "Saving to: ‘resource.tgz’\n",
            "\n",
            "resource.tgz        100%[===================>]  23.66M  16.0MB/s    in 1.5s    \n",
            "\n",
            "2021-04-04 13:07:36 (16.0 MB/s) - ‘resource.tgz’ saved [24813708/24813708]\n",
            "\n"
          ],
          "name": "stdout"
        }
      ]
    },
    {
      "cell_type": "markdown",
      "metadata": {
        "id": "AYFKIzAz-rL8"
      },
      "source": [
        "## 复制到 Google Drive"
      ]
    },
    {
      "cell_type": "markdown",
      "metadata": {
        "id": "4iuF0NjxB7J5"
      },
      "source": [
        "文件保存路径"
      ]
    },
    {
      "cell_type": "code",
      "metadata": {
        "id": "PsbZXPRhBYUo"
      },
      "source": [
        "save_path = '/content/drive/Shareddrives/TeamDrive_top_edu/THCHS30'"
      ],
      "execution_count": 11,
      "outputs": []
    },
    {
      "cell_type": "markdown",
      "metadata": {
        "id": "lhvoERllB7qC"
      },
      "source": [
        "创建保存目录"
      ]
    },
    {
      "cell_type": "code",
      "metadata": {
        "id": "7nY34s9f_oUy"
      },
      "source": [
        "!mkdir -p {save_path}"
      ],
      "execution_count": 15,
      "outputs": []
    },
    {
      "cell_type": "markdown",
      "metadata": {
        "id": "DvuFoQ_4CaX3"
      },
      "source": [
        "保存数据"
      ]
    },
    {
      "cell_type": "code",
      "metadata": {
        "id": "z6H1ME_9-4y7"
      },
      "source": [
        "!cp data_thchs30.tgz {save_path}/data_thchs30.tgz"
      ],
      "execution_count": 6,
      "outputs": []
    },
    {
      "cell_type": "code",
      "metadata": {
        "id": "nTdEyctL_InD"
      },
      "source": [
        "!cp test-noise.tgz {save_path}/test-noise.tgz"
      ],
      "execution_count": 7,
      "outputs": []
    },
    {
      "cell_type": "code",
      "metadata": {
        "id": "wrSHSIG9_IPj"
      },
      "source": [
        "!cp resource.tgz {save_path}/resource.tgz"
      ],
      "execution_count": 8,
      "outputs": []
    }
  ]
}