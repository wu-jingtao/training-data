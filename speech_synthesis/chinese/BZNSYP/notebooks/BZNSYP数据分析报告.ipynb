{
  "nbformat": 4,
  "nbformat_minor": 0,
  "metadata": {
    "colab": {
      "name": "BZNSYP数据分析报告.ipynb",
      "provenance": [],
      "collapsed_sections": [
        "mrFsMklkcql4"
      ],
      "toc_visible": true
    },
    "kernelspec": {
      "name": "python3",
      "display_name": "Python 3"
    },
    "language_info": {
      "name": "python"
    }
  },
  "cells": [
    {
      "cell_type": "markdown",
      "metadata": {
        "id": "GyL-ZcdI871-"
      },
      "source": [
        "# BZNSYP - 数据分析报告"
      ]
    },
    {
      "cell_type": "code",
      "metadata": {
        "id": "vsxWFmwj87nY"
      },
      "source": [
        "import os\n",
        "import glob\n",
        "import librosa\n",
        "import pandas as pd\n",
        "import matplotlib.pyplot as plt\n",
        "import matplotlib.ticker as mticker\n",
        "from tqdm import tqdm"
      ],
      "execution_count": 1,
      "outputs": []
    },
    {
      "cell_type": "markdown",
      "metadata": {
        "id": "ngOrMZ33DocY"
      },
      "source": [
        "## 挂载 Google Drive"
      ]
    },
    {
      "cell_type": "code",
      "metadata": {
        "colab": {
          "base_uri": "https://localhost:8080/"
        },
        "id": "HCbJgjRR83ee",
        "outputId": "2c875606-012b-45a3-9706-566f842d6554"
      },
      "source": [
        "from google.colab import drive\n",
        "drive.mount('/content/drive')"
      ],
      "execution_count": 2,
      "outputs": [
        {
          "output_type": "stream",
          "text": [
            "Mounted at /content/drive\n"
          ],
          "name": "stdout"
        }
      ]
    },
    {
      "cell_type": "markdown",
      "metadata": {
        "id": "32zM58xDD2Xl"
      },
      "source": [
        "## 解压数据\n",
        "\n",
        "数据来自：[标贝科技 - 中文标准女声音库](https://test.data-baker.com/#/data/index/source)\n",
        "\n",
        "这个必须得手动下载，然后再上传到 Google Drive 上"
      ]
    },
    {
      "cell_type": "code",
      "metadata": {
        "id": "ZIeLSFs05mRu"
      },
      "source": [
        "!unrar x /content/drive/MyDrive/训练数据/语音/BZNSYP/BZNSYP.rar /content > unzip_log.txt"
      ],
      "execution_count": 4,
      "outputs": []
    },
    {
      "cell_type": "markdown",
      "metadata": {
        "id": "mrFsMklkcql4"
      },
      "source": [
        "## 统计音频时长"
      ]
    },
    {
      "cell_type": "code",
      "metadata": {
        "colab": {
          "base_uri": "https://localhost:8080/"
        },
        "id": "lFutGC4-c4Nn",
        "outputId": "9192ead2-4737-4cac-9797-10d7fcd641ef"
      },
      "source": [
        "audio_duration = dict()\n",
        "\n",
        "for file in tqdm(glob.glob('/content/Wave/*.wav')):\n",
        "  name = os.path.splitext(os.path.split(file)[1])[0]\n",
        "  audio_duration[name] = librosa.get_duration(filename=file)\n",
        "\n",
        "audio_duration = pd.DataFrame.from_dict(audio_duration, orient='index', columns=['duration'])\n",
        "audio_duration = audio_duration.sort_values('duration', ascending=False)"
      ],
      "execution_count": 5,
      "outputs": [
        {
          "output_type": "stream",
          "text": [
            "100%|██████████| 10000/10000 [00:08<00:00, 1235.16it/s]\n"
          ],
          "name": "stderr"
        }
      ]
    },
    {
      "cell_type": "markdown",
      "metadata": {
        "id": "D4VGHq1gh7VK"
      },
      "source": [
        "总时长（小时）"
      ]
    },
    {
      "cell_type": "code",
      "metadata": {
        "colab": {
          "base_uri": "https://localhost:8080/"
        },
        "id": "0xvouflVg-wS",
        "outputId": "abc449ab-88e4-4134-9692-d63465b06f00"
      },
      "source": [
        "audio_duration.sum() / 3600"
      ],
      "execution_count": 6,
      "outputs": [
        {
          "output_type": "execute_result",
          "data": {
            "text/plain": [
              "duration    11.855612\n",
              "dtype: float64"
            ]
          },
          "metadata": {
            "tags": []
          },
          "execution_count": 6
        }
      ]
    },
    {
      "cell_type": "markdown",
      "metadata": {
        "id": "ZDuE0lURh8nR"
      },
      "source": [
        "总体特征"
      ]
    },
    {
      "cell_type": "code",
      "metadata": {
        "colab": {
          "base_uri": "https://localhost:8080/",
          "height": 297
        },
        "id": "ih_TU0LvdViG",
        "outputId": "a1a38ee6-ad07-4108-ca49-01aea4b4c4a3"
      },
      "source": [
        "audio_duration.describe()"
      ],
      "execution_count": 7,
      "outputs": [
        {
          "output_type": "execute_result",
          "data": {
            "text/html": [
              "<div>\n",
              "<style scoped>\n",
              "    .dataframe tbody tr th:only-of-type {\n",
              "        vertical-align: middle;\n",
              "    }\n",
              "\n",
              "    .dataframe tbody tr th {\n",
              "        vertical-align: top;\n",
              "    }\n",
              "\n",
              "    .dataframe thead th {\n",
              "        text-align: right;\n",
              "    }\n",
              "</style>\n",
              "<table border=\"1\" class=\"dataframe\">\n",
              "  <thead>\n",
              "    <tr style=\"text-align: right;\">\n",
              "      <th></th>\n",
              "      <th>duration</th>\n",
              "    </tr>\n",
              "  </thead>\n",
              "  <tbody>\n",
              "    <tr>\n",
              "      <th>count</th>\n",
              "      <td>10000.000000</td>\n",
              "    </tr>\n",
              "    <tr>\n",
              "      <th>mean</th>\n",
              "      <td>4.268020</td>\n",
              "    </tr>\n",
              "    <tr>\n",
              "      <th>std</th>\n",
              "      <td>1.253692</td>\n",
              "    </tr>\n",
              "    <tr>\n",
              "      <th>min</th>\n",
              "      <td>1.415000</td>\n",
              "    </tr>\n",
              "    <tr>\n",
              "      <th>25%</th>\n",
              "      <td>3.205750</td>\n",
              "    </tr>\n",
              "    <tr>\n",
              "      <th>50%</th>\n",
              "      <td>4.229000</td>\n",
              "    </tr>\n",
              "    <tr>\n",
              "      <th>75%</th>\n",
              "      <td>5.235250</td>\n",
              "    </tr>\n",
              "    <tr>\n",
              "      <th>max</th>\n",
              "      <td>8.329000</td>\n",
              "    </tr>\n",
              "  </tbody>\n",
              "</table>\n",
              "</div>"
            ],
            "text/plain": [
              "           duration\n",
              "count  10000.000000\n",
              "mean       4.268020\n",
              "std        1.253692\n",
              "min        1.415000\n",
              "25%        3.205750\n",
              "50%        4.229000\n",
              "75%        5.235250\n",
              "max        8.329000"
            ]
          },
          "metadata": {
            "tags": []
          },
          "execution_count": 7
        }
      ]
    },
    {
      "cell_type": "markdown",
      "metadata": {
        "id": "IBcDCwTEiBh7"
      },
      "source": [
        "时长分布"
      ]
    },
    {
      "cell_type": "code",
      "metadata": {
        "colab": {
          "base_uri": "https://localhost:8080/",
          "height": 320
        },
        "id": "9PKDHdgDiHEj",
        "outputId": "e4c106a1-f86b-4e2f-df4b-85f30b73ddc8"
      },
      "source": [
        "audio_duration.plot.hist(bins=50, figsize=(15, 5))\n",
        "plt.ylabel('number')\n",
        "plt.gca().xaxis.set_major_formatter(mticker.FormatStrFormatter('%.1f s'))"
      ],
      "execution_count": 8,
      "outputs": [
        {
          "output_type": "display_data",
          "data": {
            "image/png": "[encoded data removed]",
            "text/plain": [
              "<Figure size 1080x360 with 1 Axes>"
            ]
          },
          "metadata": {
            "tags": [],
            "needs_background": "light"
          }
        }
      ]
    },
    {
      "cell_type": "markdown",
      "metadata": {
        "id": "EOX5J8YAmYcV"
      },
      "source": [
        "最长的 5 条音频"
      ]
    },
    {
      "cell_type": "code",
      "metadata": {
        "colab": {
          "base_uri": "https://localhost:8080/",
          "height": 204
        },
        "id": "Yz2JzbFFmm_j",
        "outputId": "5efe3071-8a8f-4db7-c26b-51fc92ad2f23"
      },
      "source": [
        "audio_duration.head()"
      ],
      "execution_count": 9,
      "outputs": [
        {
          "output_type": "execute_result",
          "data": {
            "text/html": [
              "<div>\n",
              "<style scoped>\n",
              "    .dataframe tbody tr th:only-of-type {\n",
              "        vertical-align: middle;\n",
              "    }\n",
              "\n",
              "    .dataframe tbody tr th {\n",
              "        vertical-align: top;\n",
              "    }\n",
              "\n",
              "    .dataframe thead th {\n",
              "        text-align: right;\n",
              "    }\n",
              "</style>\n",
              "<table border=\"1\" class=\"dataframe\">\n",
              "  <thead>\n",
              "    <tr style=\"text-align: right;\">\n",
              "      <th></th>\n",
              "      <th>duration</th>\n",
              "    </tr>\n",
              "  </thead>\n",
              "  <tbody>\n",
              "    <tr>\n",
              "      <th>007537</th>\n",
              "      <td>8.329</td>\n",
              "    </tr>\n",
              "    <tr>\n",
              "      <th>001760</th>\n",
              "      <td>8.320</td>\n",
              "    </tr>\n",
              "    <tr>\n",
              "      <th>008224</th>\n",
              "      <td>7.936</td>\n",
              "    </tr>\n",
              "    <tr>\n",
              "      <th>000805</th>\n",
              "      <td>7.930</td>\n",
              "    </tr>\n",
              "    <tr>\n",
              "      <th>007892</th>\n",
              "      <td>7.833</td>\n",
              "    </tr>\n",
              "  </tbody>\n",
              "</table>\n",
              "</div>"
            ],
            "text/plain": [
              "        duration\n",
              "007537     8.329\n",
              "001760     8.320\n",
              "008224     7.936\n",
              "000805     7.930\n",
              "007892     7.833"
            ]
          },
          "metadata": {
            "tags": []
          },
          "execution_count": 9
        }
      ]
    },
    {
      "cell_type": "markdown",
      "metadata": {
        "id": "oQNi4Rlv2iOm"
      },
      "source": [
        "最短的 5 条音频"
      ]
    },
    {
      "cell_type": "code",
      "metadata": {
        "id": "TggqyKz32lkd",
        "colab": {
          "base_uri": "https://localhost:8080/",
          "height": 204
        },
        "outputId": "d3531588-defd-49ea-9a6e-603837895286"
      },
      "source": [
        "audio_duration.tail().iloc[::-1]"
      ],
      "execution_count": 10,
      "outputs": [
        {
          "output_type": "execute_result",
          "data": {
            "text/html": [
              "<div>\n",
              "<style scoped>\n",
              "    .dataframe tbody tr th:only-of-type {\n",
              "        vertical-align: middle;\n",
              "    }\n",
              "\n",
              "    .dataframe tbody tr th {\n",
              "        vertical-align: top;\n",
              "    }\n",
              "\n",
              "    .dataframe thead th {\n",
              "        text-align: right;\n",
              "    }\n",
              "</style>\n",
              "<table border=\"1\" class=\"dataframe\">\n",
              "  <thead>\n",
              "    <tr style=\"text-align: right;\">\n",
              "      <th></th>\n",
              "      <th>duration</th>\n",
              "    </tr>\n",
              "  </thead>\n",
              "  <tbody>\n",
              "    <tr>\n",
              "      <th>007245</th>\n",
              "      <td>1.415</td>\n",
              "    </tr>\n",
              "    <tr>\n",
              "      <th>008724</th>\n",
              "      <td>1.575</td>\n",
              "    </tr>\n",
              "    <tr>\n",
              "      <th>009338</th>\n",
              "      <td>1.590</td>\n",
              "    </tr>\n",
              "    <tr>\n",
              "      <th>006752</th>\n",
              "      <td>1.618</td>\n",
              "    </tr>\n",
              "    <tr>\n",
              "      <th>001042</th>\n",
              "      <td>1.630</td>\n",
              "    </tr>\n",
              "  </tbody>\n",
              "</table>\n",
              "</div>"
            ],
            "text/plain": [
              "        duration\n",
              "007245     1.415\n",
              "008724     1.575\n",
              "009338     1.590\n",
              "006752     1.618\n",
              "001042     1.630"
            ]
          },
          "metadata": {
            "tags": []
          },
          "execution_count": 10
        }
      ]
    },
    {
      "cell_type": "markdown",
      "metadata": {
        "id": "MVBccEMor7hO"
      },
      "source": [
        "## 统计句子长度"
      ]
    },
    {
      "cell_type": "markdown",
      "metadata": {
        "id": "U0moaQpwuWdL"
      },
      "source": [
        "读取音频对应的句子"
      ]
    },
    {
      "cell_type": "code",
      "metadata": {
        "id": "18ZEbGTpsKeW"
      },
      "source": [
        "sentences = dict()\n",
        "\n",
        "with open('/content/ProsodyLabeling/000001-010000.txt', 'r', encoding='utf-8') as f:\n",
        "  while True:\n",
        "    l1 = f.readline()\n",
        "    l2 = f.readline()\n",
        "    if len(l1) == 0: break\n",
        "\n",
        "    name, words = l1.split('\\t')\n",
        "    pinyins = l2.strip().split(' ')\n",
        "    sentences[name] = pinyins"
      ],
      "execution_count": 12,
      "outputs": []
    },
    {
      "cell_type": "markdown",
      "metadata": {
        "id": "9AVGRJ4pua5i"
      },
      "source": [
        "计算字数"
      ]
    },
    {
      "cell_type": "code",
      "metadata": {
        "id": "T30qADyNtVv0"
      },
      "source": [
        "sentences_length = dict()\n",
        "for k, v in sentences.items():\n",
        "  sentences_length[k] = len(v)\n",
        "\n",
        "sentences_length = pd.DataFrame.from_dict(sentences_length, orient='index', columns=['length'])\n",
        "sentences_length = sentences_length.sort_values('length', ascending=False)"
      ],
      "execution_count": 13,
      "outputs": []
    },
    {
      "cell_type": "markdown",
      "metadata": {
        "id": "izdfhvCuufnq"
      },
      "source": [
        "总字数"
      ]
    },
    {
      "cell_type": "code",
      "metadata": {
        "colab": {
          "base_uri": "https://localhost:8080/"
        },
        "id": "qpmeWn0Gt8Ea",
        "outputId": "4a58cb7b-c8d5-4f36-c9dd-d74ea3bb330b"
      },
      "source": [
        "sentences_length.sum()"
      ],
      "execution_count": 14,
      "outputs": [
        {
          "output_type": "execute_result",
          "data": {
            "text/plain": [
              "length    162864\n",
              "dtype: int64"
            ]
          },
          "metadata": {
            "tags": []
          },
          "execution_count": 14
        }
      ]
    },
    {
      "cell_type": "markdown",
      "metadata": {
        "id": "-c4WNyALutc6"
      },
      "source": [
        "总体特征"
      ]
    },
    {
      "cell_type": "code",
      "metadata": {
        "colab": {
          "base_uri": "https://localhost:8080/",
          "height": 297
        },
        "id": "4fBavUK9ujba",
        "outputId": "472ba42f-88a6-4c98-f127-c6c6130ffc77"
      },
      "source": [
        "sentences_length.describe()"
      ],
      "execution_count": 15,
      "outputs": [
        {
          "output_type": "execute_result",
          "data": {
            "text/html": [
              "<div>\n",
              "<style scoped>\n",
              "    .dataframe tbody tr th:only-of-type {\n",
              "        vertical-align: middle;\n",
              "    }\n",
              "\n",
              "    .dataframe tbody tr th {\n",
              "        vertical-align: top;\n",
              "    }\n",
              "\n",
              "    .dataframe thead th {\n",
              "        text-align: right;\n",
              "    }\n",
              "</style>\n",
              "<table border=\"1\" class=\"dataframe\">\n",
              "  <thead>\n",
              "    <tr style=\"text-align: right;\">\n",
              "      <th></th>\n",
              "      <th>length</th>\n",
              "    </tr>\n",
              "  </thead>\n",
              "  <tbody>\n",
              "    <tr>\n",
              "      <th>count</th>\n",
              "      <td>10000.00000</td>\n",
              "    </tr>\n",
              "    <tr>\n",
              "      <th>mean</th>\n",
              "      <td>16.28640</td>\n",
              "    </tr>\n",
              "    <tr>\n",
              "      <th>std</th>\n",
              "      <td>5.39406</td>\n",
              "    </tr>\n",
              "    <tr>\n",
              "      <th>min</th>\n",
              "      <td>3.00000</td>\n",
              "    </tr>\n",
              "    <tr>\n",
              "      <th>25%</th>\n",
              "      <td>12.00000</td>\n",
              "    </tr>\n",
              "    <tr>\n",
              "      <th>50%</th>\n",
              "      <td>16.00000</td>\n",
              "    </tr>\n",
              "    <tr>\n",
              "      <th>75%</th>\n",
              "      <td>20.00000</td>\n",
              "    </tr>\n",
              "    <tr>\n",
              "      <th>max</th>\n",
              "      <td>34.00000</td>\n",
              "    </tr>\n",
              "  </tbody>\n",
              "</table>\n",
              "</div>"
            ],
            "text/plain": [
              "            length\n",
              "count  10000.00000\n",
              "mean      16.28640\n",
              "std        5.39406\n",
              "min        3.00000\n",
              "25%       12.00000\n",
              "50%       16.00000\n",
              "75%       20.00000\n",
              "max       34.00000"
            ]
          },
          "metadata": {
            "tags": []
          },
          "execution_count": 15
        }
      ]
    },
    {
      "cell_type": "markdown",
      "metadata": {
        "id": "pT5k3SN2vrJr"
      },
      "source": [
        "长度分布"
      ]
    },
    {
      "cell_type": "code",
      "metadata": {
        "colab": {
          "base_uri": "https://localhost:8080/",
          "height": 338
        },
        "id": "4FQ120PRvscJ",
        "outputId": "0db34b03-54fd-42fd-dde0-013c331ec785"
      },
      "source": [
        "sentences_length.plot.hist(bins=20, figsize=(10, 5))\n",
        "plt.ylabel('number')"
      ],
      "execution_count": 16,
      "outputs": [
        {
          "output_type": "execute_result",
          "data": {
            "text/plain": [
              "Text(0, 0.5, 'number')"
            ]
          },
          "metadata": {
            "tags": []
          },
          "execution_count": 16
        },
        {
          "output_type": "display_data",
          "data": {
            "image/png": "[encoded data removed]",
            "text/plain": [
              "<Figure size 720x360 with 1 Axes>"
            ]
          },
          "metadata": {
            "tags": [],
            "needs_background": "light"
          }
        }
      ]
    },
    {
      "cell_type": "markdown",
      "metadata": {
        "id": "wmnITuGXuxeS"
      },
      "source": [
        "最长的 5 条句子"
      ]
    },
    {
      "cell_type": "code",
      "metadata": {
        "colab": {
          "base_uri": "https://localhost:8080/",
          "height": 204
        },
        "id": "UiTKi2qlu2rL",
        "outputId": "1426b833-c5f8-4c74-e7e9-1f32a24841d6"
      },
      "source": [
        "sentences_length.head()"
      ],
      "execution_count": 17,
      "outputs": [
        {
          "output_type": "execute_result",
          "data": {
            "text/html": [
              "<div>\n",
              "<style scoped>\n",
              "    .dataframe tbody tr th:only-of-type {\n",
              "        vertical-align: middle;\n",
              "    }\n",
              "\n",
              "    .dataframe tbody tr th {\n",
              "        vertical-align: top;\n",
              "    }\n",
              "\n",
              "    .dataframe thead th {\n",
              "        text-align: right;\n",
              "    }\n",
              "</style>\n",
              "<table border=\"1\" class=\"dataframe\">\n",
              "  <thead>\n",
              "    <tr style=\"text-align: right;\">\n",
              "      <th></th>\n",
              "      <th>length</th>\n",
              "    </tr>\n",
              "  </thead>\n",
              "  <tbody>\n",
              "    <tr>\n",
              "      <th>009010</th>\n",
              "      <td>34</td>\n",
              "    </tr>\n",
              "    <tr>\n",
              "      <th>001760</th>\n",
              "      <td>34</td>\n",
              "    </tr>\n",
              "    <tr>\n",
              "      <th>009975</th>\n",
              "      <td>33</td>\n",
              "    </tr>\n",
              "    <tr>\n",
              "      <th>007537</th>\n",
              "      <td>32</td>\n",
              "    </tr>\n",
              "    <tr>\n",
              "      <th>009057</th>\n",
              "      <td>32</td>\n",
              "    </tr>\n",
              "  </tbody>\n",
              "</table>\n",
              "</div>"
            ],
            "text/plain": [
              "        length\n",
              "009010      34\n",
              "001760      34\n",
              "009975      33\n",
              "007537      32\n",
              "009057      32"
            ]
          },
          "metadata": {
            "tags": []
          },
          "execution_count": 17
        }
      ]
    },
    {
      "cell_type": "markdown",
      "metadata": {
        "id": "UlbNIumR23vF"
      },
      "source": [
        "最短的 5 条句子"
      ]
    },
    {
      "cell_type": "code",
      "metadata": {
        "id": "-2JQwVuv26d9",
        "colab": {
          "base_uri": "https://localhost:8080/",
          "height": 204
        },
        "outputId": "6c3a95ee-1e5e-4bfb-bf9c-d5c116953a48"
      },
      "source": [
        "sentences_length.tail().iloc[::-1]"
      ],
      "execution_count": 18,
      "outputs": [
        {
          "output_type": "execute_result",
          "data": {
            "text/html": [
              "<div>\n",
              "<style scoped>\n",
              "    .dataframe tbody tr th:only-of-type {\n",
              "        vertical-align: middle;\n",
              "    }\n",
              "\n",
              "    .dataframe tbody tr th {\n",
              "        vertical-align: top;\n",
              "    }\n",
              "\n",
              "    .dataframe thead th {\n",
              "        text-align: right;\n",
              "    }\n",
              "</style>\n",
              "<table border=\"1\" class=\"dataframe\">\n",
              "  <thead>\n",
              "    <tr style=\"text-align: right;\">\n",
              "      <th></th>\n",
              "      <th>length</th>\n",
              "    </tr>\n",
              "  </thead>\n",
              "  <tbody>\n",
              "    <tr>\n",
              "      <th>007245</th>\n",
              "      <td>3</td>\n",
              "    </tr>\n",
              "    <tr>\n",
              "      <th>006752</th>\n",
              "      <td>4</td>\n",
              "    </tr>\n",
              "    <tr>\n",
              "      <th>008724</th>\n",
              "      <td>4</td>\n",
              "    </tr>\n",
              "    <tr>\n",
              "      <th>005547</th>\n",
              "      <td>5</td>\n",
              "    </tr>\n",
              "    <tr>\n",
              "      <th>004147</th>\n",
              "      <td>5</td>\n",
              "    </tr>\n",
              "  </tbody>\n",
              "</table>\n",
              "</div>"
            ],
            "text/plain": [
              "        length\n",
              "007245       3\n",
              "006752       4\n",
              "008724       4\n",
              "005547       5\n",
              "004147       5"
            ]
          },
          "metadata": {
            "tags": []
          },
          "execution_count": 18
        }
      ]
    },
    {
      "cell_type": "markdown",
      "metadata": {
        "id": "R-cypVniwHSR"
      },
      "source": [
        "## 统计语速变化"
      ]
    },
    {
      "cell_type": "code",
      "metadata": {
        "id": "aDOceOQ9wTmw"
      },
      "source": [
        "speed_change = audio_duration['duration'] / sentences_length['length'] * 1000\n",
        "speed_change = pd.DataFrame(speed_change, columns=['speed (ms)'])\n",
        "speed_change = speed_change.sort_values('speed (ms)', ascending=False)"
      ],
      "execution_count": 19,
      "outputs": []
    },
    {
      "cell_type": "markdown",
      "metadata": {
        "id": "iFmTrJ0OzpYt"
      },
      "source": [
        "总体特征"
      ]
    },
    {
      "cell_type": "code",
      "metadata": {
        "colab": {
          "base_uri": "https://localhost:8080/",
          "height": 297
        },
        "id": "knR20-tOyI5P",
        "outputId": "9ad2e982-7ef3-49a8-91e1-bb2f14b64955"
      },
      "source": [
        "speed_change.describe()"
      ],
      "execution_count": 20,
      "outputs": [
        {
          "output_type": "execute_result",
          "data": {
            "text/html": [
              "<div>\n",
              "<style scoped>\n",
              "    .dataframe tbody tr th:only-of-type {\n",
              "        vertical-align: middle;\n",
              "    }\n",
              "\n",
              "    .dataframe tbody tr th {\n",
              "        vertical-align: top;\n",
              "    }\n",
              "\n",
              "    .dataframe thead th {\n",
              "        text-align: right;\n",
              "    }\n",
              "</style>\n",
              "<table border=\"1\" class=\"dataframe\">\n",
              "  <thead>\n",
              "    <tr style=\"text-align: right;\">\n",
              "      <th></th>\n",
              "      <th>speed (ms)</th>\n",
              "    </tr>\n",
              "  </thead>\n",
              "  <tbody>\n",
              "    <tr>\n",
              "      <th>count</th>\n",
              "      <td>10000.000000</td>\n",
              "    </tr>\n",
              "    <tr>\n",
              "      <th>mean</th>\n",
              "      <td>267.173196</td>\n",
              "    </tr>\n",
              "    <tr>\n",
              "      <th>std</th>\n",
              "      <td>24.863373</td>\n",
              "    </tr>\n",
              "    <tr>\n",
              "      <th>min</th>\n",
              "      <td>203.181818</td>\n",
              "    </tr>\n",
              "    <tr>\n",
              "      <th>25%</th>\n",
              "      <td>249.629934</td>\n",
              "    </tr>\n",
              "    <tr>\n",
              "      <th>50%</th>\n",
              "      <td>263.000000</td>\n",
              "    </tr>\n",
              "    <tr>\n",
              "      <th>75%</th>\n",
              "      <td>280.666667</td>\n",
              "    </tr>\n",
              "    <tr>\n",
              "      <th>max</th>\n",
              "      <td>471.666667</td>\n",
              "    </tr>\n",
              "  </tbody>\n",
              "</table>\n",
              "</div>"
            ],
            "text/plain": [
              "         speed (ms)\n",
              "count  10000.000000\n",
              "mean     267.173196\n",
              "std       24.863373\n",
              "min      203.181818\n",
              "25%      249.629934\n",
              "50%      263.000000\n",
              "75%      280.666667\n",
              "max      471.666667"
            ]
          },
          "metadata": {
            "tags": []
          },
          "execution_count": 20
        }
      ]
    },
    {
      "cell_type": "markdown",
      "metadata": {
        "id": "GHcp9q6vzzZs"
      },
      "source": [
        "语速分布"
      ]
    },
    {
      "cell_type": "code",
      "metadata": {
        "colab": {
          "base_uri": "https://localhost:8080/",
          "height": 320
        },
        "id": "539V5oZ2z1Ct",
        "outputId": "d6d0a611-35ed-493a-d459-73e5eee21c91"
      },
      "source": [
        "speed_change.plot.hist(bins=50, figsize=(15, 5))\n",
        "plt.ylabel('number')\n",
        "plt.gca().xaxis.set_major_formatter(mticker.FormatStrFormatter('%.1f ms'))"
      ],
      "execution_count": 21,
      "outputs": [
        {
          "output_type": "display_data",
          "data": {
            "image/png": "[encoded data removed]",
            "text/plain": [
              "<Figure size 1080x360 with 1 Axes>"
            ]
          },
          "metadata": {
            "tags": [],
            "needs_background": "light"
          }
        }
      ]
    },
    {
      "cell_type": "markdown",
      "metadata": {
        "id": "RoaLG2bY0PK7"
      },
      "source": [
        "语速最快的 5 条音频"
      ]
    },
    {
      "cell_type": "code",
      "metadata": {
        "colab": {
          "base_uri": "https://localhost:8080/",
          "height": 204
        },
        "id": "AEqj_18Y0Zi0",
        "outputId": "1dca774a-74c6-42d0-81da-502b27c9c4e5"
      },
      "source": [
        "speed_change.tail().iloc[::-1]"
      ],
      "execution_count": 22,
      "outputs": [
        {
          "output_type": "execute_result",
          "data": {
            "text/html": [
              "<div>\n",
              "<style scoped>\n",
              "    .dataframe tbody tr th:only-of-type {\n",
              "        vertical-align: middle;\n",
              "    }\n",
              "\n",
              "    .dataframe tbody tr th {\n",
              "        vertical-align: top;\n",
              "    }\n",
              "\n",
              "    .dataframe thead th {\n",
              "        text-align: right;\n",
              "    }\n",
              "</style>\n",
              "<table border=\"1\" class=\"dataframe\">\n",
              "  <thead>\n",
              "    <tr style=\"text-align: right;\">\n",
              "      <th></th>\n",
              "      <th>speed (ms)</th>\n",
              "    </tr>\n",
              "  </thead>\n",
              "  <tbody>\n",
              "    <tr>\n",
              "      <th>009237</th>\n",
              "      <td>203.181818</td>\n",
              "    </tr>\n",
              "    <tr>\n",
              "      <th>009331</th>\n",
              "      <td>207.692308</td>\n",
              "    </tr>\n",
              "    <tr>\n",
              "      <th>006892</th>\n",
              "      <td>207.947368</td>\n",
              "    </tr>\n",
              "    <tr>\n",
              "      <th>006256</th>\n",
              "      <td>208.555556</td>\n",
              "    </tr>\n",
              "    <tr>\n",
              "      <th>008587</th>\n",
              "      <td>209.736842</td>\n",
              "    </tr>\n",
              "  </tbody>\n",
              "</table>\n",
              "</div>"
            ],
            "text/plain": [
              "        speed (ms)\n",
              "009237  203.181818\n",
              "009331  207.692308\n",
              "006892  207.947368\n",
              "006256  208.555556\n",
              "008587  209.736842"
            ]
          },
          "metadata": {
            "tags": []
          },
          "execution_count": 22
        }
      ]
    },
    {
      "cell_type": "markdown",
      "metadata": {
        "id": "czGTiUXw0v_r"
      },
      "source": [
        "语速最慢的 5 条音频"
      ]
    },
    {
      "cell_type": "code",
      "metadata": {
        "colab": {
          "base_uri": "https://localhost:8080/",
          "height": 204
        },
        "id": "ixSrwyUkzMAV",
        "outputId": "8ddf1f9c-a9d6-400a-da44-788df9d6d4ba"
      },
      "source": [
        "speed_change.head()"
      ],
      "execution_count": 23,
      "outputs": [
        {
          "output_type": "execute_result",
          "data": {
            "text/html": [
              "<div>\n",
              "<style scoped>\n",
              "    .dataframe tbody tr th:only-of-type {\n",
              "        vertical-align: middle;\n",
              "    }\n",
              "\n",
              "    .dataframe tbody tr th {\n",
              "        vertical-align: top;\n",
              "    }\n",
              "\n",
              "    .dataframe thead th {\n",
              "        text-align: right;\n",
              "    }\n",
              "</style>\n",
              "<table border=\"1\" class=\"dataframe\">\n",
              "  <thead>\n",
              "    <tr style=\"text-align: right;\">\n",
              "      <th></th>\n",
              "      <th>speed (ms)</th>\n",
              "    </tr>\n",
              "  </thead>\n",
              "  <tbody>\n",
              "    <tr>\n",
              "      <th>007245</th>\n",
              "      <td>471.666667</td>\n",
              "    </tr>\n",
              "    <tr>\n",
              "      <th>006752</th>\n",
              "      <td>404.500000</td>\n",
              "    </tr>\n",
              "    <tr>\n",
              "      <th>009875</th>\n",
              "      <td>398.600000</td>\n",
              "    </tr>\n",
              "    <tr>\n",
              "      <th>004133</th>\n",
              "      <td>398.400000</td>\n",
              "    </tr>\n",
              "    <tr>\n",
              "      <th>000177</th>\n",
              "      <td>394.285714</td>\n",
              "    </tr>\n",
              "  </tbody>\n",
              "</table>\n",
              "</div>"
            ],
            "text/plain": [
              "        speed (ms)\n",
              "007245  471.666667\n",
              "006752  404.500000\n",
              "009875  398.600000\n",
              "004133  398.400000\n",
              "000177  394.285714"
            ]
          },
          "metadata": {
            "tags": []
          },
          "execution_count": 23
        }
      ]
    },
    {
      "cell_type": "markdown",
      "metadata": {
        "id": "GtsiaMTRmuFb"
      },
      "source": [
        "## 统计发音覆盖范围\n",
        "\n",
        "注意这个数据集里面包含的有儿化音，例如：`景儿-jingr3`，所有的儿化音都是在标准音后面加上 `r`。"
      ]
    },
    {
      "cell_type": "markdown",
      "metadata": {
        "id": "YIkhK9oF4hW_"
      },
      "source": [
        "### 5 种声调的分布情况"
      ]
    },
    {
      "cell_type": "code",
      "metadata": {
        "id": "86zza7NlpuM4"
      },
      "source": [
        "pinyin_distribution = dict()\n",
        "\n",
        "for pinyins in sentences.values():\n",
        "  for i in pinyins:\n",
        "    if i in pinyin_distribution:\n",
        "      pinyin_distribution[i] +=1 \n",
        "    else:\n",
        "      pinyin_distribution[i] = 1\n",
        "\n",
        "pinyin_distribution = pd.DataFrame.from_dict(pinyin_distribution, orient='index', columns=['number'])\n",
        "pinyin_distribution = pinyin_distribution.sort_values('number', ascending=False)"
      ],
      "execution_count": 24,
      "outputs": []
    },
    {
      "cell_type": "markdown",
      "metadata": {
        "id": "WcwBIo0v26Hx"
      },
      "source": [
        "总体特征"
      ]
    },
    {
      "cell_type": "code",
      "metadata": {
        "colab": {
          "base_uri": "https://localhost:8080/",
          "height": 297
        },
        "id": "wJjBRLFcrQ-v",
        "outputId": "c9594539-5f4b-4d11-cf15-35f2dd005729"
      },
      "source": [
        "pinyin_distribution.describe()"
      ],
      "execution_count": 25,
      "outputs": [
        {
          "output_type": "execute_result",
          "data": {
            "text/html": [
              "<div>\n",
              "<style scoped>\n",
              "    .dataframe tbody tr th:only-of-type {\n",
              "        vertical-align: middle;\n",
              "    }\n",
              "\n",
              "    .dataframe tbody tr th {\n",
              "        vertical-align: top;\n",
              "    }\n",
              "\n",
              "    .dataframe thead th {\n",
              "        text-align: right;\n",
              "    }\n",
              "</style>\n",
              "<table border=\"1\" class=\"dataframe\">\n",
              "  <thead>\n",
              "    <tr style=\"text-align: right;\">\n",
              "      <th></th>\n",
              "      <th>number</th>\n",
              "    </tr>\n",
              "  </thead>\n",
              "  <tbody>\n",
              "    <tr>\n",
              "      <th>count</th>\n",
              "      <td>1607.000000</td>\n",
              "    </tr>\n",
              "    <tr>\n",
              "      <th>mean</th>\n",
              "      <td>101.346609</td>\n",
              "    </tr>\n",
              "    <tr>\n",
              "      <th>std</th>\n",
              "      <td>220.944415</td>\n",
              "    </tr>\n",
              "    <tr>\n",
              "      <th>min</th>\n",
              "      <td>1.000000</td>\n",
              "    </tr>\n",
              "    <tr>\n",
              "      <th>25%</th>\n",
              "      <td>14.000000</td>\n",
              "    </tr>\n",
              "    <tr>\n",
              "      <th>50%</th>\n",
              "      <td>30.000000</td>\n",
              "    </tr>\n",
              "    <tr>\n",
              "      <th>75%</th>\n",
              "      <td>105.000000</td>\n",
              "    </tr>\n",
              "    <tr>\n",
              "      <th>max</th>\n",
              "      <td>4948.000000</td>\n",
              "    </tr>\n",
              "  </tbody>\n",
              "</table>\n",
              "</div>"
            ],
            "text/plain": [
              "            number\n",
              "count  1607.000000\n",
              "mean    101.346609\n",
              "std     220.944415\n",
              "min       1.000000\n",
              "25%      14.000000\n",
              "50%      30.000000\n",
              "75%     105.000000\n",
              "max    4948.000000"
            ]
          },
          "metadata": {
            "tags": []
          },
          "execution_count": 25
        }
      ]
    },
    {
      "cell_type": "markdown",
      "metadata": {
        "id": "BhmSKKug34Tf"
      },
      "source": [
        "发音分布"
      ]
    },
    {
      "cell_type": "code",
      "metadata": {
        "colab": {
          "base_uri": "https://localhost:8080/",
          "height": 338
        },
        "id": "LczICnlj35yQ",
        "outputId": "8321c948-edf7-43b6-a696-911aea67a91d"
      },
      "source": [
        "pinyin_distribution.plot.hist(bins=30, figsize=(10, 5))\n",
        "plt.ylabel('number')"
      ],
      "execution_count": 26,
      "outputs": [
        {
          "output_type": "execute_result",
          "data": {
            "text/plain": [
              "Text(0, 0.5, 'number')"
            ]
          },
          "metadata": {
            "tags": []
          },
          "execution_count": 26
        },
        {
          "output_type": "display_data",
          "data": {
            "image/png": "[encoded data removed]",
            "text/plain": [
              "<Figure size 720x360 with 1 Axes>"
            ]
          },
          "metadata": {
            "tags": [],
            "needs_background": "light"
          }
        }
      ]
    },
    {
      "cell_type": "markdown",
      "metadata": {
        "id": "19bZnRNt4ps2"
      },
      "source": [
        "出现次数前 5 的发音"
      ]
    },
    {
      "cell_type": "code",
      "metadata": {
        "colab": {
          "base_uri": "https://localhost:8080/",
          "height": 204
        },
        "id": "zE8QR2p14sum",
        "outputId": "b3f9eac2-8a51-4ae5-e680-c559e9901423"
      },
      "source": [
        "pinyin_distribution.head()"
      ],
      "execution_count": 27,
      "outputs": [
        {
          "output_type": "execute_result",
          "data": {
            "text/html": [
              "<div>\n",
              "<style scoped>\n",
              "    .dataframe tbody tr th:only-of-type {\n",
              "        vertical-align: middle;\n",
              "    }\n",
              "\n",
              "    .dataframe tbody tr th {\n",
              "        vertical-align: top;\n",
              "    }\n",
              "\n",
              "    .dataframe thead th {\n",
              "        text-align: right;\n",
              "    }\n",
              "</style>\n",
              "<table border=\"1\" class=\"dataframe\">\n",
              "  <thead>\n",
              "    <tr style=\"text-align: right;\">\n",
              "      <th></th>\n",
              "      <th>number</th>\n",
              "    </tr>\n",
              "  </thead>\n",
              "  <tbody>\n",
              "    <tr>\n",
              "      <th>de5</th>\n",
              "      <td>4948</td>\n",
              "    </tr>\n",
              "    <tr>\n",
              "      <th>shi4</th>\n",
              "      <td>2899</td>\n",
              "    </tr>\n",
              "    <tr>\n",
              "      <th>yi4</th>\n",
              "      <td>1863</td>\n",
              "    </tr>\n",
              "    <tr>\n",
              "      <th>le5</th>\n",
              "      <td>1696</td>\n",
              "    </tr>\n",
              "    <tr>\n",
              "      <th>zai4</th>\n",
              "      <td>1483</td>\n",
              "    </tr>\n",
              "  </tbody>\n",
              "</table>\n",
              "</div>"
            ],
            "text/plain": [
              "      number\n",
              "de5     4948\n",
              "shi4    2899\n",
              "yi4     1863\n",
              "le5     1696\n",
              "zai4    1483"
            ]
          },
          "metadata": {
            "tags": []
          },
          "execution_count": 27
        }
      ]
    },
    {
      "cell_type": "markdown",
      "metadata": {
        "id": "VKo9FbHV4yEX"
      },
      "source": [
        "### 去除声调后的分布情况"
      ]
    },
    {
      "cell_type": "code",
      "metadata": {
        "id": "vlzkV7Q15SC4"
      },
      "source": [
        "pinyin_distribution_without_intonation = dict()\n",
        "\n",
        "for pinyins in sentences.values():\n",
        "  for i in pinyins:\n",
        "    i = i[:-1]\n",
        "    if i in pinyin_distribution_without_intonation:\n",
        "      pinyin_distribution_without_intonation[i] +=1 \n",
        "    else:\n",
        "      pinyin_distribution_without_intonation[i] = 1\n",
        "\n",
        "pinyin_distribution_without_intonation = pd.DataFrame.from_dict(pinyin_distribution_without_intonation, orient='index', columns=['number'])\n",
        "pinyin_distribution_without_intonation = pinyin_distribution_without_intonation.sort_values('number', ascending=False)"
      ],
      "execution_count": 28,
      "outputs": []
    },
    {
      "cell_type": "markdown",
      "metadata": {
        "id": "j3yWuNY65sOm"
      },
      "source": [
        "总体特征"
      ]
    },
    {
      "cell_type": "code",
      "metadata": {
        "colab": {
          "base_uri": "https://localhost:8080/",
          "height": 297
        },
        "id": "P4yDpRcB5c5I",
        "outputId": "48a8650a-a9ea-444e-b223-0da6b47a9885"
      },
      "source": [
        "pinyin_distribution_without_intonation.describe()"
      ],
      "execution_count": 29,
      "outputs": [
        {
          "output_type": "execute_result",
          "data": {
            "text/html": [
              "<div>\n",
              "<style scoped>\n",
              "    .dataframe tbody tr th:only-of-type {\n",
              "        vertical-align: middle;\n",
              "    }\n",
              "\n",
              "    .dataframe tbody tr th {\n",
              "        vertical-align: top;\n",
              "    }\n",
              "\n",
              "    .dataframe thead th {\n",
              "        text-align: right;\n",
              "    }\n",
              "</style>\n",
              "<table border=\"1\" class=\"dataframe\">\n",
              "  <thead>\n",
              "    <tr style=\"text-align: right;\">\n",
              "      <th></th>\n",
              "      <th>number</th>\n",
              "    </tr>\n",
              "  </thead>\n",
              "  <tbody>\n",
              "    <tr>\n",
              "      <th>count</th>\n",
              "      <td>462.000000</td>\n",
              "    </tr>\n",
              "    <tr>\n",
              "      <th>mean</th>\n",
              "      <td>352.519481</td>\n",
              "    </tr>\n",
              "    <tr>\n",
              "      <th>std</th>\n",
              "      <td>527.154061</td>\n",
              "    </tr>\n",
              "    <tr>\n",
              "      <th>min</th>\n",
              "      <td>1.000000</td>\n",
              "    </tr>\n",
              "    <tr>\n",
              "      <th>25%</th>\n",
              "      <td>57.000000</td>\n",
              "    </tr>\n",
              "    <tr>\n",
              "      <th>50%</th>\n",
              "      <td>187.500000</td>\n",
              "    </tr>\n",
              "    <tr>\n",
              "      <th>75%</th>\n",
              "      <td>443.000000</td>\n",
              "    </tr>\n",
              "    <tr>\n",
              "      <th>max</th>\n",
              "      <td>5197.000000</td>\n",
              "    </tr>\n",
              "  </tbody>\n",
              "</table>\n",
              "</div>"
            ],
            "text/plain": [
              "            number\n",
              "count   462.000000\n",
              "mean    352.519481\n",
              "std     527.154061\n",
              "min       1.000000\n",
              "25%      57.000000\n",
              "50%     187.500000\n",
              "75%     443.000000\n",
              "max    5197.000000"
            ]
          },
          "metadata": {
            "tags": []
          },
          "execution_count": 29
        }
      ]
    },
    {
      "cell_type": "markdown",
      "metadata": {
        "id": "9DN2Kb1l6KAl"
      },
      "source": [
        "发音分布"
      ]
    },
    {
      "cell_type": "code",
      "metadata": {
        "colab": {
          "base_uri": "https://localhost:8080/",
          "height": 338
        },
        "id": "Dn-SPrXY6J5b",
        "outputId": "6f6169eb-d184-45da-de9b-93361a296005"
      },
      "source": [
        "pinyin_distribution_without_intonation.plot.hist(bins=30, figsize=(10, 5))\n",
        "plt.ylabel('number')"
      ],
      "execution_count": 30,
      "outputs": [
        {
          "output_type": "execute_result",
          "data": {
            "text/plain": [
              "Text(0, 0.5, 'number')"
            ]
          },
          "metadata": {
            "tags": []
          },
          "execution_count": 30
        },
        {
          "output_type": "display_data",
          "data": {
            "image/png": "[encoded data removed]",
            "text/plain": [
              "<Figure size 720x360 with 1 Axes>"
            ]
          },
          "metadata": {
            "tags": [],
            "needs_background": "light"
          }
        }
      ]
    },
    {
      "cell_type": "markdown",
      "metadata": {
        "id": "a4dRpv4K6dZt"
      },
      "source": [
        "出现次数前 5 的发音"
      ]
    },
    {
      "cell_type": "code",
      "metadata": {
        "colab": {
          "base_uri": "https://localhost:8080/",
          "height": 204
        },
        "id": "A7qTRdca6fIU",
        "outputId": "d41a7b45-eef1-4eb4-a05b-7cfb5d131046"
      },
      "source": [
        "pinyin_distribution_without_intonation.head()"
      ],
      "execution_count": 31,
      "outputs": [
        {
          "output_type": "execute_result",
          "data": {
            "text/html": [
              "<div>\n",
              "<style scoped>\n",
              "    .dataframe tbody tr th:only-of-type {\n",
              "        vertical-align: middle;\n",
              "    }\n",
              "\n",
              "    .dataframe tbody tr th {\n",
              "        vertical-align: top;\n",
              "    }\n",
              "\n",
              "    .dataframe thead th {\n",
              "        text-align: right;\n",
              "    }\n",
              "</style>\n",
              "<table border=\"1\" class=\"dataframe\">\n",
              "  <thead>\n",
              "    <tr style=\"text-align: right;\">\n",
              "      <th></th>\n",
              "      <th>number</th>\n",
              "    </tr>\n",
              "  </thead>\n",
              "  <tbody>\n",
              "    <tr>\n",
              "      <th>de</th>\n",
              "      <td>5197</td>\n",
              "    </tr>\n",
              "    <tr>\n",
              "      <th>shi</th>\n",
              "      <td>4758</td>\n",
              "    </tr>\n",
              "    <tr>\n",
              "      <th>yi</th>\n",
              "      <td>4409</td>\n",
              "    </tr>\n",
              "    <tr>\n",
              "      <th>you</th>\n",
              "      <td>2424</td>\n",
              "    </tr>\n",
              "    <tr>\n",
              "      <th>bu</th>\n",
              "      <td>2112</td>\n",
              "    </tr>\n",
              "  </tbody>\n",
              "</table>\n",
              "</div>"
            ],
            "text/plain": [
              "     number\n",
              "de     5197\n",
              "shi    4758\n",
              "yi     4409\n",
              "you    2424\n",
              "bu     2112"
            ]
          },
          "metadata": {
            "tags": []
          },
          "execution_count": 31
        }
      ]
    }
  ]
}