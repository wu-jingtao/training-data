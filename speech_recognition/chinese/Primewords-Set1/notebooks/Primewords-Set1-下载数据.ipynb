{
  "nbformat": 4,
  "nbformat_minor": 0,
  "metadata": {
    "colab": {
      "name": "Primewords-Set1-下载数据.ipynb",
      "provenance": [],
      "collapsed_sections": [],
      "toc_visible": true
    },
    "kernelspec": {
      "name": "python3",
      "display_name": "Python 3"
    },
    "language_info": {
      "name": "python"
    }
  },
  "cells": [
    {
      "cell_type": "markdown",
      "metadata": {
        "id": "H2zXEz-P9w5s"
      },
      "source": [
        "## 挂载 Google Drive"
      ]
    },
    {
      "cell_type": "code",
      "metadata": {
        "colab": {
          "base_uri": "https://localhost:8080/"
        },
        "id": "t0sW_x4E9ykX",
        "outputId": "83bfe425-fba7-4bae-e80d-f2e5c048c363"
      },
      "source": [
        "from google.colab import drive\n",
        "drive.mount('/content/drive')"
      ],
      "execution_count": 1,
      "outputs": [
        {
          "output_type": "stream",
          "text": [
            "Mounted at /content/drive\n"
          ],
          "name": "stdout"
        }
      ]
    },
    {
      "cell_type": "markdown",
      "metadata": {
        "id": "knBVz3VR91Zt"
      },
      "source": [
        "## 下载数据\n",
        "\n",
        "下载地址：[http://www.openslr.org/47/](http://www.openslr.org/47/)"
      ]
    },
    {
      "cell_type": "code",
      "metadata": {
        "colab": {
          "base_uri": "https://localhost:8080/"
        },
        "id": "cc8ZTT-f9piA",
        "outputId": "f2256bff-71a8-452c-ad0c-b464d0f870f3"
      },
      "source": [
        "!wget https://www.openslr.org/resources/47/primewords_md_2018_set1.tar.gz"
      ],
      "execution_count": 2,
      "outputs": [
        {
          "output_type": "stream",
          "text": [
            "--2021-04-27 05:14:51--  https://www.openslr.org/resources/47/primewords_md_2018_set1.tar.gz\n",
            "Resolving www.openslr.org (www.openslr.org)... 46.101.158.64\n",
            "Connecting to www.openslr.org (www.openslr.org)|46.101.158.64|:443... connected.\n",
            "HTTP request sent, awaiting response... 200 OK\n",
            "Length: 9057625192 (8.4G) [application/x-gzip]\n",
            "Saving to: ‘primewords_md_2018_set1.tar.gz’\n",
            "\n",
            "primewords_md_2018_ 100%[===================>]   8.44G  28.2MB/s    in 4m 37s  \n",
            "\n",
            "2021-04-27 05:19:28 (31.2 MB/s) - ‘primewords_md_2018_set1.tar.gz’ saved [9057625192/9057625192]\n",
            "\n"
          ],
          "name": "stdout"
        }
      ]
    },
    {
      "cell_type": "markdown",
      "metadata": {
        "id": "AYFKIzAz-rL8"
      },
      "source": [
        "## 复制到 Google Drive"
      ]
    },
    {
      "cell_type": "markdown",
      "metadata": {
        "id": "4iuF0NjxB7J5"
      },
      "source": [
        "文件保存路径"
      ]
    },
    {
      "cell_type": "code",
      "metadata": {
        "id": "PsbZXPRhBYUo"
      },
      "source": [
        "save_path = '/content/drive/Shareddrives/TeamDrive_top_edu/原始数据/Primewords-Set1'"
      ],
      "execution_count": 3,
      "outputs": []
    },
    {
      "cell_type": "markdown",
      "metadata": {
        "id": "lhvoERllB7qC"
      },
      "source": [
        "创建保存目录"
      ]
    },
    {
      "cell_type": "code",
      "metadata": {
        "id": "7nY34s9f_oUy"
      },
      "source": [
        "!mkdir -p {save_path}"
      ],
      "execution_count": 4,
      "outputs": []
    },
    {
      "cell_type": "markdown",
      "metadata": {
        "id": "DvuFoQ_4CaX3"
      },
      "source": [
        "保存数据"
      ]
    },
    {
      "cell_type": "code",
      "metadata": {
        "id": "z6H1ME_9-4y7"
      },
      "source": [
        "!cp primewords_md_2018_set1.tar.gz {save_path}/primewords_md_2018_set1.tar.gz"
      ],
      "execution_count": 5,
      "outputs": []
    }
  ]
}