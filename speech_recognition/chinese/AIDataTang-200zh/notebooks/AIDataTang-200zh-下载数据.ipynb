{
  "nbformat": 4,
  "nbformat_minor": 0,
  "metadata": {
    "colab": {
      "name": "AIDataTang-200zh-下载数据.ipynb",
      "provenance": [],
      "collapsed_sections": [],
      "toc_visible": true
    },
    "kernelspec": {
      "name": "python3",
      "display_name": "Python 3"
    },
    "language_info": {
      "name": "python"
    }
  },
  "cells": [
    {
      "cell_type": "markdown",
      "metadata": {
        "id": "H2zXEz-P9w5s"
      },
      "source": [
        "## 挂载 Google Drive"
      ]
    },
    {
      "cell_type": "code",
      "metadata": {
        "colab": {
          "base_uri": "https://localhost:8080/"
        },
        "id": "t0sW_x4E9ykX",
        "outputId": "0adb2856-0e3f-4224-9d5e-0150916ab277"
      },
      "source": [
        "from google.colab import drive\n",
        "drive.mount('/content/drive')"
      ],
      "execution_count": null,
      "outputs": [
        {
          "output_type": "stream",
          "text": [
            "Mounted at /content/drive\n"
          ],
          "name": "stdout"
        }
      ]
    },
    {
      "cell_type": "markdown",
      "metadata": {
        "id": "knBVz3VR91Zt"
      },
      "source": [
        "## 下载数据\n",
        "\n",
        "下载地址：[http://www.openslr.org/62/](http://www.openslr.org/62/)"
      ]
    },
    {
      "cell_type": "code",
      "metadata": {
        "colab": {
          "base_uri": "https://localhost:8080/"
        },
        "id": "cc8ZTT-f9piA",
        "outputId": "bd7b948e-30f4-44e2-c8bd-41e797d1ec12"
      },
      "source": [
        "!wget https://www.openslr.org/resources/62/aidatatang_200zh.tgz"
      ],
      "execution_count": null,
      "outputs": [
        {
          "output_type": "stream",
          "text": [
            "--2021-04-27 14:21:09--  https://www.openslr.org/resources/62/aidatatang_200zh.tgz\n",
            "Resolving www.openslr.org (www.openslr.org)... 46.101.158.64\n",
            "Connecting to www.openslr.org (www.openslr.org)|46.101.158.64|:443... connected.\n",
            "HTTP request sent, awaiting response... 200 OK\n",
            "Length: 18756983399 (17G) [application/x-gzip]\n",
            "Saving to: ‘aidatatang_200zh.tgz’\n",
            "\n",
            "aidatatang_200zh.tg 100%[===================>]  17.47G  28.3MB/s    in 10m 34s \n",
            "\n",
            "2021-04-27 14:31:43 (28.2 MB/s) - ‘aidatatang_200zh.tgz’ saved [18756983399/18756983399]\n",
            "\n"
          ],
          "name": "stdout"
        }
      ]
    },
    {
      "cell_type": "markdown",
      "metadata": {
        "id": "AYFKIzAz-rL8"
      },
      "source": [
        "## 复制到 Google Drive"
      ]
    },
    {
      "cell_type": "markdown",
      "metadata": {
        "id": "4iuF0NjxB7J5"
      },
      "source": [
        "文件保存路径"
      ]
    },
    {
      "cell_type": "code",
      "metadata": {
        "id": "PsbZXPRhBYUo"
      },
      "source": [
        "save_path = '/content/drive/Shareddrives/TeamDrive_top_edu/原始数据/AIDataTang-200zh'"
      ],
      "execution_count": null,
      "outputs": []
    },
    {
      "cell_type": "markdown",
      "metadata": {
        "id": "lhvoERllB7qC"
      },
      "source": [
        "创建保存目录"
      ]
    },
    {
      "cell_type": "code",
      "metadata": {
        "id": "7nY34s9f_oUy"
      },
      "source": [
        "!mkdir -p {save_path}"
      ],
      "execution_count": null,
      "outputs": []
    },
    {
      "cell_type": "markdown",
      "metadata": {
        "id": "DvuFoQ_4CaX3"
      },
      "source": [
        "保存数据"
      ]
    },
    {
      "cell_type": "code",
      "metadata": {
        "id": "z6H1ME_9-4y7"
      },
      "source": [
        "!cp aidatatang_200zh.tgz {save_path}/aidatatang_200zh.tgz"
      ],
      "execution_count": null,
      "outputs": []
    }
  ]
}