{
  "nbformat": 4,
  "nbformat_minor": 0,
  "metadata": {
    "colab": {
      "name": "THCHS30数据分析报告.ipynb",
      "provenance": [],
      "collapsed_sections": [],
      "toc_visible": true
    },
    "kernelspec": {
      "name": "python3",
      "display_name": "Python 3"
    },
    "language_info": {
      "name": "python"
    }
  },
  "cells": [
    {
      "cell_type": "markdown",
      "metadata": {
        "id": "GyL-ZcdI871-"
      },
      "source": [
        "# THCHS30 - 数据分析报告"
      ]
    },
    {
      "cell_type": "code",
      "metadata": {
        "id": "vsxWFmwj87nY"
      },
      "source": [
        "import os\n",
        "import glob\n",
        "import librosa\n",
        "import pandas as pd\n",
        "import matplotlib.pyplot as plt\n",
        "import matplotlib.ticker as mticker\n",
        "from tqdm import tqdm"
      ],
      "execution_count": 59,
      "outputs": []
    },
    {
      "cell_type": "markdown",
      "metadata": {
        "id": "ngOrMZ33DocY"
      },
      "source": [
        "## 挂载 Google Drive"
      ]
    },
    {
      "cell_type": "code",
      "metadata": {
        "colab": {
          "base_uri": "https://localhost:8080/"
        },
        "id": "HCbJgjRR83ee",
        "outputId": "45cbaf02-41df-4e71-f819-a7503212eec9"
      },
      "source": [
        "from google.colab import drive\n",
        "drive.mount('/content/drive')"
      ],
      "execution_count": 1,
      "outputs": [
        {
          "output_type": "stream",
          "text": [
            "Mounted at /content/drive\n"
          ],
          "name": "stdout"
        }
      ]
    },
    {
      "cell_type": "markdown",
      "metadata": {
        "id": "32zM58xDD2Xl"
      },
      "source": [
        "## 解压数据\n",
        "\n",
        "数据来自：[THCHS30数据下载.ipynb](https://github.com/wu-jingtao/training-data/blob/master/speech_recognition/chinese/THCHS30/notebooks/THCHS30数据下载.ipynb)"
      ]
    },
    {
      "cell_type": "code",
      "metadata": {
        "id": "r2bTGQ-HD28l"
      },
      "source": [
        "!tar zxvf /content/drive/Shareddrives/TeamDrive_top_edu/原始数据/THCHS30/data_thchs30.tgz > unzip_log.txt"
      ],
      "execution_count": 6,
      "outputs": []
    },
    {
      "cell_type": "markdown",
      "metadata": {
        "id": "mrFsMklkcql4"
      },
      "source": [
        "## 统计音频时长"
      ]
    },
    {
      "cell_type": "code",
      "metadata": {
        "colab": {
          "base_uri": "https://localhost:8080/"
        },
        "id": "lFutGC4-c4Nn",
        "outputId": "a2a152af-37f0-460b-e239-29a2fbb1abf9"
      },
      "source": [
        "audio_duration = dict()\n",
        "\n",
        "for file in tqdm(glob.glob('/content/data_thchs30/data/*.wav')):\n",
        "  name = os.path.splitext(os.path.split(file)[1])[0]\n",
        "  audio_duration[name] = librosa.get_duration(filename=file)\n",
        "\n",
        "audio_duration = pd.DataFrame.from_dict(audio_duration, orient='index', columns=['duration'])\n",
        "audio_duration = audio_duration.sort_values('duration', ascending=False)"
      ],
      "execution_count": 51,
      "outputs": [
        {
          "output_type": "stream",
          "text": [
            "100%|██████████| 13388/13388 [00:01<00:00, 11021.98it/s]\n"
          ],
          "name": "stderr"
        }
      ]
    },
    {
      "cell_type": "markdown",
      "metadata": {
        "id": "D4VGHq1gh7VK"
      },
      "source": [
        "总时长（小时）"
      ]
    },
    {
      "cell_type": "code",
      "metadata": {
        "colab": {
          "base_uri": "https://localhost:8080/"
        },
        "id": "0xvouflVg-wS",
        "outputId": "afa4d773-0047-4dcf-b8fd-9a1fb2dd063d"
      },
      "source": [
        "audio_duration.sum() / 3600"
      ],
      "execution_count": 54,
      "outputs": [
        {
          "output_type": "execute_result",
          "data": {
            "text/plain": [
              "duration    34.159053\n",
              "dtype: float64"
            ]
          },
          "metadata": {
            "tags": []
          },
          "execution_count": 54
        }
      ]
    },
    {
      "cell_type": "markdown",
      "metadata": {
        "id": "ZDuE0lURh8nR"
      },
      "source": [
        "总体特征"
      ]
    },
    {
      "cell_type": "code",
      "metadata": {
        "colab": {
          "base_uri": "https://localhost:8080/",
          "height": 297
        },
        "id": "ih_TU0LvdViG",
        "outputId": "bdf574a8-93e6-4db6-85d9-46cbe69e70e1"
      },
      "source": [
        "audio_duration.describe()"
      ],
      "execution_count": 52,
      "outputs": [
        {
          "output_type": "execute_result",
          "data": {
            "text/html": [
              "<div>\n",
              "<style scoped>\n",
              "    .dataframe tbody tr th:only-of-type {\n",
              "        vertical-align: middle;\n",
              "    }\n",
              "\n",
              "    .dataframe tbody tr th {\n",
              "        vertical-align: top;\n",
              "    }\n",
              "\n",
              "    .dataframe thead th {\n",
              "        text-align: right;\n",
              "    }\n",
              "</style>\n",
              "<table border=\"1\" class=\"dataframe\">\n",
              "  <thead>\n",
              "    <tr style=\"text-align: right;\">\n",
              "      <th></th>\n",
              "      <th>duration</th>\n",
              "    </tr>\n",
              "  </thead>\n",
              "  <tbody>\n",
              "    <tr>\n",
              "      <th>count</th>\n",
              "      <td>13388.000000</td>\n",
              "    </tr>\n",
              "    <tr>\n",
              "      <th>mean</th>\n",
              "      <td>9.185285</td>\n",
              "    </tr>\n",
              "    <tr>\n",
              "      <th>std</th>\n",
              "      <td>1.483653</td>\n",
              "    </tr>\n",
              "    <tr>\n",
              "      <th>min</th>\n",
              "      <td>4.464000</td>\n",
              "    </tr>\n",
              "    <tr>\n",
              "      <th>25%</th>\n",
              "      <td>8.180000</td>\n",
              "    </tr>\n",
              "    <tr>\n",
              "      <th>50%</th>\n",
              "      <td>9.114000</td>\n",
              "    </tr>\n",
              "    <tr>\n",
              "      <th>75%</th>\n",
              "      <td>10.125000</td>\n",
              "    </tr>\n",
              "    <tr>\n",
              "      <th>max</th>\n",
              "      <td>16.312500</td>\n",
              "    </tr>\n",
              "  </tbody>\n",
              "</table>\n",
              "</div>"
            ],
            "text/plain": [
              "           duration\n",
              "count  13388.000000\n",
              "mean       9.185285\n",
              "std        1.483653\n",
              "min        4.464000\n",
              "25%        8.180000\n",
              "50%        9.114000\n",
              "75%       10.125000\n",
              "max       16.312500"
            ]
          },
          "metadata": {
            "tags": []
          },
          "execution_count": 52
        }
      ]
    },
    {
      "cell_type": "markdown",
      "metadata": {
        "id": "IBcDCwTEiBh7"
      },
      "source": [
        "时长分布"
      ]
    },
    {
      "cell_type": "code",
      "metadata": {
        "colab": {
          "base_uri": "https://localhost:8080/",
          "height": 320
        },
        "id": "9PKDHdgDiHEj",
        "outputId": "fb468b78-2b30-42f0-809a-096dbce5c57d"
      },
      "source": [
        "audio_duration.plot.hist(bins=50, figsize=(15, 5))\n",
        "plt.ylabel('number')\n",
        "plt.gca().xaxis.set_major_formatter(mticker.FormatStrFormatter('%.1f s'))"
      ],
      "execution_count": 69,
      "outputs": [
        {
          "output_type": "display_data",
          "data": {
            "image/png": "[encoded data removed]",
            "text/plain": [
              "<Figure size 1080x360 with 1 Axes>"
            ]
          },
          "metadata": {
            "tags": [],
            "needs_background": "light"
          }
        }
      ]
    },
    {
      "cell_type": "markdown",
      "metadata": {
        "id": "EOX5J8YAmYcV"
      },
      "source": [
        "最长的 5 条音频"
      ]
    },
    {
      "cell_type": "code",
      "metadata": {
        "colab": {
          "base_uri": "https://localhost:8080/",
          "height": 204
        },
        "id": "Yz2JzbFFmm_j",
        "outputId": "d3742d38-ef2e-4b49-e34b-9319e5c83732"
      },
      "source": [
        "audio_duration.head()"
      ],
      "execution_count": 70,
      "outputs": [
        {
          "output_type": "execute_result",
          "data": {
            "text/html": [
              "<div>\n",
              "<style scoped>\n",
              "    .dataframe tbody tr th:only-of-type {\n",
              "        vertical-align: middle;\n",
              "    }\n",
              "\n",
              "    .dataframe tbody tr th {\n",
              "        vertical-align: top;\n",
              "    }\n",
              "\n",
              "    .dataframe thead th {\n",
              "        text-align: right;\n",
              "    }\n",
              "</style>\n",
              "<table border=\"1\" class=\"dataframe\">\n",
              "  <thead>\n",
              "    <tr style=\"text-align: right;\">\n",
              "      <th></th>\n",
              "      <th>duration</th>\n",
              "    </tr>\n",
              "  </thead>\n",
              "  <tbody>\n",
              "    <tr>\n",
              "      <th>D32_980</th>\n",
              "      <td>16.3125</td>\n",
              "    </tr>\n",
              "    <tr>\n",
              "      <th>D32_964</th>\n",
              "      <td>15.6250</td>\n",
              "    </tr>\n",
              "    <tr>\n",
              "      <th>B4_276</th>\n",
              "      <td>15.6250</td>\n",
              "    </tr>\n",
              "    <tr>\n",
              "      <th>A36_178</th>\n",
              "      <td>15.5625</td>\n",
              "    </tr>\n",
              "    <tr>\n",
              "      <th>A7_183</th>\n",
              "      <td>15.2500</td>\n",
              "    </tr>\n",
              "  </tbody>\n",
              "</table>\n",
              "</div>"
            ],
            "text/plain": [
              "         duration\n",
              "D32_980   16.3125\n",
              "D32_964   15.6250\n",
              "B4_276    15.6250\n",
              "A36_178   15.5625\n",
              "A7_183    15.2500"
            ]
          },
          "metadata": {
            "tags": []
          },
          "execution_count": 70
        }
      ]
    },
    {
      "cell_type": "markdown",
      "metadata": {
        "id": "MVBccEMor7hO"
      },
      "source": [
        "## 统计句子长度"
      ]
    },
    {
      "cell_type": "markdown",
      "metadata": {
        "id": "U0moaQpwuWdL"
      },
      "source": [
        "读取音频对应的拼音"
      ]
    },
    {
      "cell_type": "code",
      "metadata": {
        "colab": {
          "base_uri": "https://localhost:8080/"
        },
        "id": "18ZEbGTpsKeW",
        "outputId": "748c3710-b72b-4683-ec8f-b0aed93a9b9b"
      },
      "source": [
        "sentences = dict()\n",
        "\n",
        "for file in tqdm(glob.glob('/content/data_thchs30/data/*.trn')):\n",
        "  name = os.path.splitext(os.path.splitext(os.path.split(file)[1])[0])[0]\n",
        "  with open(file) as f:\n",
        "    words = next(f)\n",
        "    pinyins = next(f).strip().split(' ')\n",
        "  sentences[name] = pinyins"
      ],
      "execution_count": 97,
      "outputs": [
        {
          "output_type": "stream",
          "text": [
            "100%|██████████| 13388/13388 [00:10<00:00, 1263.52it/s]\n"
          ],
          "name": "stderr"
        }
      ]
    },
    {
      "cell_type": "markdown",
      "metadata": {
        "id": "9AVGRJ4pua5i"
      },
      "source": [
        "计算字数"
      ]
    },
    {
      "cell_type": "code",
      "metadata": {
        "id": "T30qADyNtVv0"
      },
      "source": [
        "sentences_length = dict()\n",
        "for k, v in sentences.items():\n",
        "  sentences_length[k] = len(v)\n",
        "\n",
        "sentences_length = pd.DataFrame.from_dict(sentences_length, orient='index', columns=['length'])\n",
        "sentences_length = sentences_length.sort_values('length', ascending=False)"
      ],
      "execution_count": 98,
      "outputs": []
    },
    {
      "cell_type": "markdown",
      "metadata": {
        "id": "izdfhvCuufnq"
      },
      "source": [
        "总字数"
      ]
    },
    {
      "cell_type": "code",
      "metadata": {
        "colab": {
          "base_uri": "https://localhost:8080/"
        },
        "id": "qpmeWn0Gt8Ea",
        "outputId": "40ea4ec5-f5a6-45a7-a8cf-4acc144fccc5"
      },
      "source": [
        "sentences_length.sum()"
      ],
      "execution_count": 99,
      "outputs": [
        {
          "output_type": "execute_result",
          "data": {
            "text/plain": [
              "length    436604\n",
              "dtype: int64"
            ]
          },
          "metadata": {
            "tags": []
          },
          "execution_count": 99
        }
      ]
    },
    {
      "cell_type": "markdown",
      "metadata": {
        "id": "-c4WNyALutc6"
      },
      "source": [
        "总体特征"
      ]
    },
    {
      "cell_type": "code",
      "metadata": {
        "colab": {
          "base_uri": "https://localhost:8080/",
          "height": 297
        },
        "id": "4fBavUK9ujba",
        "outputId": "359330e9-440a-4f37-b5e7-d0413c2564c3"
      },
      "source": [
        "sentences_length.describe()"
      ],
      "execution_count": 100,
      "outputs": [
        {
          "output_type": "execute_result",
          "data": {
            "text/html": [
              "<div>\n",
              "<style scoped>\n",
              "    .dataframe tbody tr th:only-of-type {\n",
              "        vertical-align: middle;\n",
              "    }\n",
              "\n",
              "    .dataframe tbody tr th {\n",
              "        vertical-align: top;\n",
              "    }\n",
              "\n",
              "    .dataframe thead th {\n",
              "        text-align: right;\n",
              "    }\n",
              "</style>\n",
              "<table border=\"1\" class=\"dataframe\">\n",
              "  <thead>\n",
              "    <tr style=\"text-align: right;\">\n",
              "      <th></th>\n",
              "      <th>length</th>\n",
              "    </tr>\n",
              "  </thead>\n",
              "  <tbody>\n",
              "    <tr>\n",
              "      <th>count</th>\n",
              "      <td>13388.000000</td>\n",
              "    </tr>\n",
              "    <tr>\n",
              "      <th>mean</th>\n",
              "      <td>32.611592</td>\n",
              "    </tr>\n",
              "    <tr>\n",
              "      <th>std</th>\n",
              "      <td>4.358704</td>\n",
              "    </tr>\n",
              "    <tr>\n",
              "      <th>min</th>\n",
              "      <td>19.000000</td>\n",
              "    </tr>\n",
              "    <tr>\n",
              "      <th>25%</th>\n",
              "      <td>30.000000</td>\n",
              "    </tr>\n",
              "    <tr>\n",
              "      <th>50%</th>\n",
              "      <td>33.000000</td>\n",
              "    </tr>\n",
              "    <tr>\n",
              "      <th>75%</th>\n",
              "      <td>35.000000</td>\n",
              "    </tr>\n",
              "    <tr>\n",
              "      <th>max</th>\n",
              "      <td>48.000000</td>\n",
              "    </tr>\n",
              "  </tbody>\n",
              "</table>\n",
              "</div>"
            ],
            "text/plain": [
              "             length\n",
              "count  13388.000000\n",
              "mean      32.611592\n",
              "std        4.358704\n",
              "min       19.000000\n",
              "25%       30.000000\n",
              "50%       33.000000\n",
              "75%       35.000000\n",
              "max       48.000000"
            ]
          },
          "metadata": {
            "tags": []
          },
          "execution_count": 100
        }
      ]
    },
    {
      "cell_type": "markdown",
      "metadata": {
        "id": "pT5k3SN2vrJr"
      },
      "source": [
        "长度分布"
      ]
    },
    {
      "cell_type": "code",
      "metadata": {
        "colab": {
          "base_uri": "https://localhost:8080/",
          "height": 338
        },
        "id": "4FQ120PRvscJ",
        "outputId": "491d8bd4-5e64-4d63-fe57-fcc3f7fdd52f"
      },
      "source": [
        "sentences_length.plot.hist(bins=20, figsize=(10, 5))\n",
        "plt.ylabel('number')"
      ],
      "execution_count": 104,
      "outputs": [
        {
          "output_type": "execute_result",
          "data": {
            "text/plain": [
              "Text(0, 0.5, 'number')"
            ]
          },
          "metadata": {
            "tags": []
          },
          "execution_count": 104
        },
        {
          "output_type": "display_data",
          "data": {
            "image/png": "[encoded data removed]",
            "text/plain": [
              "<Figure size 720x360 with 1 Axes>"
            ]
          },
          "metadata": {
            "tags": [],
            "needs_background": "light"
          }
        }
      ]
    },
    {
      "cell_type": "markdown",
      "metadata": {
        "id": "wmnITuGXuxeS"
      },
      "source": [
        "最长的 5 条句子"
      ]
    },
    {
      "cell_type": "code",
      "metadata": {
        "colab": {
          "base_uri": "https://localhost:8080/",
          "height": 204
        },
        "id": "UiTKi2qlu2rL",
        "outputId": "277db359-2665-4831-f263-ca480093951c"
      },
      "source": [
        "sentences_length.head()"
      ],
      "execution_count": 101,
      "outputs": [
        {
          "output_type": "execute_result",
          "data": {
            "text/html": [
              "<div>\n",
              "<style scoped>\n",
              "    .dataframe tbody tr th:only-of-type {\n",
              "        vertical-align: middle;\n",
              "    }\n",
              "\n",
              "    .dataframe tbody tr th {\n",
              "        vertical-align: top;\n",
              "    }\n",
              "\n",
              "    .dataframe thead th {\n",
              "        text-align: right;\n",
              "    }\n",
              "</style>\n",
              "<table border=\"1\" class=\"dataframe\">\n",
              "  <thead>\n",
              "    <tr style=\"text-align: right;\">\n",
              "      <th></th>\n",
              "      <th>length</th>\n",
              "    </tr>\n",
              "  </thead>\n",
              "  <tbody>\n",
              "    <tr>\n",
              "      <th>D6_991</th>\n",
              "      <td>48</td>\n",
              "    </tr>\n",
              "    <tr>\n",
              "      <th>D21_991</th>\n",
              "      <td>48</td>\n",
              "    </tr>\n",
              "    <tr>\n",
              "      <th>D4_991</th>\n",
              "      <td>48</td>\n",
              "    </tr>\n",
              "    <tr>\n",
              "      <th>D32_991</th>\n",
              "      <td>48</td>\n",
              "    </tr>\n",
              "    <tr>\n",
              "      <th>D31_991</th>\n",
              "      <td>48</td>\n",
              "    </tr>\n",
              "  </tbody>\n",
              "</table>\n",
              "</div>"
            ],
            "text/plain": [
              "         length\n",
              "D6_991       48\n",
              "D21_991      48\n",
              "D4_991       48\n",
              "D32_991      48\n",
              "D31_991      48"
            ]
          },
          "metadata": {
            "tags": []
          },
          "execution_count": 101
        }
      ]
    },
    {
      "cell_type": "markdown",
      "metadata": {
        "id": "R-cypVniwHSR"
      },
      "source": [
        "## 统计语速变化"
      ]
    },
    {
      "cell_type": "code",
      "metadata": {
        "id": "aDOceOQ9wTmw"
      },
      "source": [
        "speed_change = audio_duration['duration'] / sentences_length['length'] * 1000\n",
        "speed_change = pd.DataFrame(speed_change, columns=['speed (ms)'])\n",
        "speed_change = speed_change.sort_values('speed (ms)', ascending=False)"
      ],
      "execution_count": 118,
      "outputs": []
    },
    {
      "cell_type": "markdown",
      "metadata": {
        "id": "iFmTrJ0OzpYt"
      },
      "source": [
        "总体特征"
      ]
    },
    {
      "cell_type": "code",
      "metadata": {
        "colab": {
          "base_uri": "https://localhost:8080/",
          "height": 297
        },
        "id": "knR20-tOyI5P",
        "outputId": "f77300e0-e29d-42c4-9094-2840fa832ace"
      },
      "source": [
        "speed_change.describe()"
      ],
      "execution_count": 119,
      "outputs": [
        {
          "output_type": "execute_result",
          "data": {
            "text/html": [
              "<div>\n",
              "<style scoped>\n",
              "    .dataframe tbody tr th:only-of-type {\n",
              "        vertical-align: middle;\n",
              "    }\n",
              "\n",
              "    .dataframe tbody tr th {\n",
              "        vertical-align: top;\n",
              "    }\n",
              "\n",
              "    .dataframe thead th {\n",
              "        text-align: right;\n",
              "    }\n",
              "</style>\n",
              "<table border=\"1\" class=\"dataframe\">\n",
              "  <thead>\n",
              "    <tr style=\"text-align: right;\">\n",
              "      <th></th>\n",
              "      <th>speed (ms)</th>\n",
              "    </tr>\n",
              "  </thead>\n",
              "  <tbody>\n",
              "    <tr>\n",
              "      <th>count</th>\n",
              "      <td>13388.000000</td>\n",
              "    </tr>\n",
              "    <tr>\n",
              "      <th>mean</th>\n",
              "      <td>283.115256</td>\n",
              "    </tr>\n",
              "    <tr>\n",
              "      <th>std</th>\n",
              "      <td>38.632655</td>\n",
              "    </tr>\n",
              "    <tr>\n",
              "      <th>min</th>\n",
              "      <td>171.351351</td>\n",
              "    </tr>\n",
              "    <tr>\n",
              "      <th>25%</th>\n",
              "      <td>255.357143</td>\n",
              "    </tr>\n",
              "    <tr>\n",
              "      <th>50%</th>\n",
              "      <td>279.513889</td>\n",
              "    </tr>\n",
              "    <tr>\n",
              "      <th>75%</th>\n",
              "      <td>306.555556</td>\n",
              "    </tr>\n",
              "    <tr>\n",
              "      <th>max</th>\n",
              "      <td>538.923077</td>\n",
              "    </tr>\n",
              "  </tbody>\n",
              "</table>\n",
              "</div>"
            ],
            "text/plain": [
              "         speed (ms)\n",
              "count  13388.000000\n",
              "mean     283.115256\n",
              "std       38.632655\n",
              "min      171.351351\n",
              "25%      255.357143\n",
              "50%      279.513889\n",
              "75%      306.555556\n",
              "max      538.923077"
            ]
          },
          "metadata": {
            "tags": []
          },
          "execution_count": 119
        }
      ]
    },
    {
      "cell_type": "markdown",
      "metadata": {
        "id": "GHcp9q6vzzZs"
      },
      "source": [
        "语速分布"
      ]
    },
    {
      "cell_type": "code",
      "metadata": {
        "colab": {
          "base_uri": "https://localhost:8080/",
          "height": 320
        },
        "id": "539V5oZ2z1Ct",
        "outputId": "3b5314e0-95c3-4aef-e8bf-5710851d19c2"
      },
      "source": [
        "speed_change.plot.hist(bins=50, figsize=(15, 5))\n",
        "plt.ylabel('number')\n",
        "plt.gca().xaxis.set_major_formatter(mticker.FormatStrFormatter('%.1f ms'))"
      ],
      "execution_count": 129,
      "outputs": [
        {
          "output_type": "display_data",
          "data": {
            "image/png": "[encoded data removed]",
            "text/plain": [
              "<Figure size 1080x360 with 1 Axes>"
            ]
          },
          "metadata": {
            "tags": [],
            "needs_background": "light"
          }
        }
      ]
    },
    {
      "cell_type": "markdown",
      "metadata": {
        "id": "RoaLG2bY0PK7"
      },
      "source": [
        "语速最快的 5 条音频"
      ]
    },
    {
      "cell_type": "code",
      "metadata": {
        "colab": {
          "base_uri": "https://localhost:8080/",
          "height": 204
        },
        "id": "AEqj_18Y0Zi0",
        "outputId": "30530556-c17d-4d61-a95c-3cc371a03655"
      },
      "source": [
        "speed_change.tail().iloc[::-1]"
      ],
      "execution_count": 124,
      "outputs": [
        {
          "output_type": "execute_result",
          "data": {
            "text/html": [
              "<div>\n",
              "<style scoped>\n",
              "    .dataframe tbody tr th:only-of-type {\n",
              "        vertical-align: middle;\n",
              "    }\n",
              "\n",
              "    .dataframe tbody tr th {\n",
              "        vertical-align: top;\n",
              "    }\n",
              "\n",
              "    .dataframe thead th {\n",
              "        text-align: right;\n",
              "    }\n",
              "</style>\n",
              "<table border=\"1\" class=\"dataframe\">\n",
              "  <thead>\n",
              "    <tr style=\"text-align: right;\">\n",
              "      <th></th>\n",
              "      <th>speed (ms)</th>\n",
              "    </tr>\n",
              "  </thead>\n",
              "  <tbody>\n",
              "    <tr>\n",
              "      <th>D12_832</th>\n",
              "      <td>171.351351</td>\n",
              "    </tr>\n",
              "    <tr>\n",
              "      <th>A11_217</th>\n",
              "      <td>186.857143</td>\n",
              "    </tr>\n",
              "    <tr>\n",
              "      <th>C32_707</th>\n",
              "      <td>187.500000</td>\n",
              "    </tr>\n",
              "    <tr>\n",
              "      <th>D13_915</th>\n",
              "      <td>188.296296</td>\n",
              "    </tr>\n",
              "    <tr>\n",
              "      <th>C32_692</th>\n",
              "      <td>189.102564</td>\n",
              "    </tr>\n",
              "  </tbody>\n",
              "</table>\n",
              "</div>"
            ],
            "text/plain": [
              "         speed (ms)\n",
              "D12_832  171.351351\n",
              "A11_217  186.857143\n",
              "C32_707  187.500000\n",
              "D13_915  188.296296\n",
              "C32_692  189.102564"
            ]
          },
          "metadata": {
            "tags": []
          },
          "execution_count": 124
        }
      ]
    },
    {
      "cell_type": "markdown",
      "metadata": {
        "id": "czGTiUXw0v_r"
      },
      "source": [
        "语速最慢的 5 条音频"
      ]
    },
    {
      "cell_type": "code",
      "metadata": {
        "colab": {
          "base_uri": "https://localhost:8080/",
          "height": 204
        },
        "id": "ixSrwyUkzMAV",
        "outputId": "00f648f6-0f7d-439e-ec4e-b9f17ae59745"
      },
      "source": [
        "speed_change.head()"
      ],
      "execution_count": 122,
      "outputs": [
        {
          "output_type": "execute_result",
          "data": {
            "text/html": [
              "<div>\n",
              "<style scoped>\n",
              "    .dataframe tbody tr th:only-of-type {\n",
              "        vertical-align: middle;\n",
              "    }\n",
              "\n",
              "    .dataframe tbody tr th {\n",
              "        vertical-align: top;\n",
              "    }\n",
              "\n",
              "    .dataframe thead th {\n",
              "        text-align: right;\n",
              "    }\n",
              "</style>\n",
              "<table border=\"1\" class=\"dataframe\">\n",
              "  <thead>\n",
              "    <tr style=\"text-align: right;\">\n",
              "      <th></th>\n",
              "      <th>speed (ms)</th>\n",
              "    </tr>\n",
              "  </thead>\n",
              "  <tbody>\n",
              "    <tr>\n",
              "      <th>C22_604</th>\n",
              "      <td>538.923077</td>\n",
              "    </tr>\n",
              "    <tr>\n",
              "      <th>C7_702</th>\n",
              "      <td>536.458333</td>\n",
              "    </tr>\n",
              "    <tr>\n",
              "      <th>C4_604</th>\n",
              "      <td>507.211538</td>\n",
              "    </tr>\n",
              "    <tr>\n",
              "      <th>C22_568</th>\n",
              "      <td>502.200000</td>\n",
              "    </tr>\n",
              "    <tr>\n",
              "      <th>C7_604</th>\n",
              "      <td>487.980769</td>\n",
              "    </tr>\n",
              "  </tbody>\n",
              "</table>\n",
              "</div>"
            ],
            "text/plain": [
              "         speed (ms)\n",
              "C22_604  538.923077\n",
              "C7_702   536.458333\n",
              "C4_604   507.211538\n",
              "C22_568  502.200000\n",
              "C7_604   487.980769"
            ]
          },
          "metadata": {
            "tags": []
          },
          "execution_count": 122
        }
      ]
    },
    {
      "cell_type": "markdown",
      "metadata": {
        "id": "GtsiaMTRmuFb"
      },
      "source": [
        "## 统计发音覆盖范围"
      ]
    },
    {
      "cell_type": "markdown",
      "metadata": {
        "id": "YIkhK9oF4hW_"
      },
      "source": [
        "### 5 种声调的分布情况"
      ]
    },
    {
      "cell_type": "code",
      "metadata": {
        "id": "86zza7NlpuM4"
      },
      "source": [
        "pinyin_distribution = dict()\n",
        "\n",
        "for pinyins in sentences.values():\n",
        "  for i in pinyins:\n",
        "    if i in pinyin_distribution:\n",
        "      pinyin_distribution[i] +=1 \n",
        "    else:\n",
        "      pinyin_distribution[i] = 1\n",
        "\n",
        "pinyin_distribution = pd.DataFrame.from_dict(pinyin_distribution, orient='index', columns=['number'])\n",
        "pinyin_distribution = pinyin_distribution.sort_values('number', ascending=False)"
      ],
      "execution_count": 132,
      "outputs": []
    },
    {
      "cell_type": "markdown",
      "metadata": {
        "id": "WcwBIo0v26Hx"
      },
      "source": [
        "总体特征"
      ]
    },
    {
      "cell_type": "code",
      "metadata": {
        "colab": {
          "base_uri": "https://localhost:8080/",
          "height": 297
        },
        "id": "wJjBRLFcrQ-v",
        "outputId": "29f81f45-997d-49ed-a00f-358efa50e027"
      },
      "source": [
        "# 从结果来看，这个数据集并没有覆盖到所有的发音，一个使用4种声调的拼音表有1644种发音，而这里使用5种声调却只有1208种\n",
        "pinyin_distribution.describe()"
      ],
      "execution_count": 134,
      "outputs": [
        {
          "output_type": "execute_result",
          "data": {
            "text/html": [
              "<div>\n",
              "<style scoped>\n",
              "    .dataframe tbody tr th:only-of-type {\n",
              "        vertical-align: middle;\n",
              "    }\n",
              "\n",
              "    .dataframe tbody tr th {\n",
              "        vertical-align: top;\n",
              "    }\n",
              "\n",
              "    .dataframe thead th {\n",
              "        text-align: right;\n",
              "    }\n",
              "</style>\n",
              "<table border=\"1\" class=\"dataframe\">\n",
              "  <thead>\n",
              "    <tr style=\"text-align: right;\">\n",
              "      <th></th>\n",
              "      <th>number</th>\n",
              "    </tr>\n",
              "  </thead>\n",
              "  <tbody>\n",
              "    <tr>\n",
              "      <th>count</th>\n",
              "      <td>1208.000000</td>\n",
              "    </tr>\n",
              "    <tr>\n",
              "      <th>mean</th>\n",
              "      <td>361.427152</td>\n",
              "    </tr>\n",
              "    <tr>\n",
              "      <th>std</th>\n",
              "      <td>628.961598</td>\n",
              "    </tr>\n",
              "    <tr>\n",
              "      <th>min</th>\n",
              "      <td>10.000000</td>\n",
              "    </tr>\n",
              "    <tr>\n",
              "      <th>25%</th>\n",
              "      <td>52.000000</td>\n",
              "    </tr>\n",
              "    <tr>\n",
              "      <th>50%</th>\n",
              "      <td>166.000000</td>\n",
              "    </tr>\n",
              "    <tr>\n",
              "      <th>75%</th>\n",
              "      <td>410.000000</td>\n",
              "    </tr>\n",
              "    <tr>\n",
              "      <th>max</th>\n",
              "      <td>12042.000000</td>\n",
              "    </tr>\n",
              "  </tbody>\n",
              "</table>\n",
              "</div>"
            ],
            "text/plain": [
              "             number\n",
              "count   1208.000000\n",
              "mean     361.427152\n",
              "std      628.961598\n",
              "min       10.000000\n",
              "25%       52.000000\n",
              "50%      166.000000\n",
              "75%      410.000000\n",
              "max    12042.000000"
            ]
          },
          "metadata": {
            "tags": []
          },
          "execution_count": 134
        }
      ]
    },
    {
      "cell_type": "markdown",
      "metadata": {
        "id": "BhmSKKug34Tf"
      },
      "source": [
        "发音分布"
      ]
    },
    {
      "cell_type": "code",
      "metadata": {
        "colab": {
          "base_uri": "https://localhost:8080/",
          "height": 338
        },
        "id": "LczICnlj35yQ",
        "outputId": "7f47c93b-d425-42fb-c9a4-7dd8b995aef2"
      },
      "source": [
        "# 大部分的发音只出现了1次\n",
        "pinyin_distribution.plot.hist(bins=30, figsize=(10, 5))\n",
        "plt.ylabel('number')"
      ],
      "execution_count": 144,
      "outputs": [
        {
          "output_type": "execute_result",
          "data": {
            "text/plain": [
              "Text(0, 0.5, 'number')"
            ]
          },
          "metadata": {
            "tags": []
          },
          "execution_count": 144
        },
        {
          "output_type": "display_data",
          "data": {
            "image/png": "[encoded data removed]",
            "text/plain": [
              "<Figure size 720x360 with 1 Axes>"
            ]
          },
          "metadata": {
            "tags": [],
            "needs_background": "light"
          }
        }
      ]
    },
    {
      "cell_type": "markdown",
      "metadata": {
        "id": "19bZnRNt4ps2"
      },
      "source": [
        "出现次数前 5 的发音"
      ]
    },
    {
      "cell_type": "code",
      "metadata": {
        "colab": {
          "base_uri": "https://localhost:8080/",
          "height": 204
        },
        "id": "zE8QR2p14sum",
        "outputId": "93bd4196-eeeb-4030-d36b-2c94fd7f7f96"
      },
      "source": [
        "pinyin_distribution.head()"
      ],
      "execution_count": 138,
      "outputs": [
        {
          "output_type": "execute_result",
          "data": {
            "text/html": [
              "<div>\n",
              "<style scoped>\n",
              "    .dataframe tbody tr th:only-of-type {\n",
              "        vertical-align: middle;\n",
              "    }\n",
              "\n",
              "    .dataframe tbody tr th {\n",
              "        vertical-align: top;\n",
              "    }\n",
              "\n",
              "    .dataframe thead th {\n",
              "        text-align: right;\n",
              "    }\n",
              "</style>\n",
              "<table border=\"1\" class=\"dataframe\">\n",
              "  <thead>\n",
              "    <tr style=\"text-align: right;\">\n",
              "      <th></th>\n",
              "      <th>number</th>\n",
              "    </tr>\n",
              "  </thead>\n",
              "  <tbody>\n",
              "    <tr>\n",
              "      <th>de5</th>\n",
              "      <td>12042</td>\n",
              "    </tr>\n",
              "    <tr>\n",
              "      <th>shi4</th>\n",
              "      <td>4835</td>\n",
              "    </tr>\n",
              "    <tr>\n",
              "      <th>shi2</th>\n",
              "      <td>4361</td>\n",
              "    </tr>\n",
              "    <tr>\n",
              "      <th>yi4</th>\n",
              "      <td>4290</td>\n",
              "    </tr>\n",
              "    <tr>\n",
              "      <th>you3</th>\n",
              "      <td>4087</td>\n",
              "    </tr>\n",
              "  </tbody>\n",
              "</table>\n",
              "</div>"
            ],
            "text/plain": [
              "      number\n",
              "de5    12042\n",
              "shi4    4835\n",
              "shi2    4361\n",
              "yi4     4290\n",
              "you3    4087"
            ]
          },
          "metadata": {
            "tags": []
          },
          "execution_count": 138
        }
      ]
    },
    {
      "cell_type": "markdown",
      "metadata": {
        "id": "VKo9FbHV4yEX"
      },
      "source": [
        "### 去除声调后的分布情况"
      ]
    },
    {
      "cell_type": "code",
      "metadata": {
        "id": "vlzkV7Q15SC4"
      },
      "source": [
        "pinyin_distribution_without_intonation = dict()\n",
        "\n",
        "for pinyins in sentences.values():\n",
        "  for i in pinyins:\n",
        "    i = i[:-1]\n",
        "    if i in pinyin_distribution_without_intonation:\n",
        "      pinyin_distribution_without_intonation[i] +=1 \n",
        "    else:\n",
        "      pinyin_distribution_without_intonation[i] = 1\n",
        "\n",
        "pinyin_distribution_without_intonation = pd.DataFrame.from_dict(pinyin_distribution_without_intonation, orient='index', columns=['number'])\n",
        "pinyin_distribution_without_intonation = pinyin_distribution_without_intonation.sort_values('number', ascending=False)"
      ],
      "execution_count": 140,
      "outputs": []
    },
    {
      "cell_type": "markdown",
      "metadata": {
        "id": "j3yWuNY65sOm"
      },
      "source": [
        "总体特征"
      ]
    },
    {
      "cell_type": "code",
      "metadata": {
        "colab": {
          "base_uri": "https://localhost:8080/",
          "height": 297
        },
        "id": "P4yDpRcB5c5I",
        "outputId": "93c51f98-82e4-40f0-df7c-7677c7db72f0"
      },
      "source": [
        "# 从结果来看，即使不带声调也没有覆盖到所有的发音，不带声调的拼音表有411种发音，而这里却只有394种\n",
        "pinyin_distribution_without_intonation.describe()"
      ],
      "execution_count": 141,
      "outputs": [
        {
          "output_type": "execute_result",
          "data": {
            "text/html": [
              "<div>\n",
              "<style scoped>\n",
              "    .dataframe tbody tr th:only-of-type {\n",
              "        vertical-align: middle;\n",
              "    }\n",
              "\n",
              "    .dataframe tbody tr th {\n",
              "        vertical-align: top;\n",
              "    }\n",
              "\n",
              "    .dataframe thead th {\n",
              "        text-align: right;\n",
              "    }\n",
              "</style>\n",
              "<table border=\"1\" class=\"dataframe\">\n",
              "  <thead>\n",
              "    <tr style=\"text-align: right;\">\n",
              "      <th></th>\n",
              "      <th>number</th>\n",
              "    </tr>\n",
              "  </thead>\n",
              "  <tbody>\n",
              "    <tr>\n",
              "      <th>count</th>\n",
              "      <td>394.000000</td>\n",
              "    </tr>\n",
              "    <tr>\n",
              "      <th>mean</th>\n",
              "      <td>1108.131980</td>\n",
              "    </tr>\n",
              "    <tr>\n",
              "      <th>std</th>\n",
              "      <td>1434.692945</td>\n",
              "    </tr>\n",
              "    <tr>\n",
              "      <th>min</th>\n",
              "      <td>14.000000</td>\n",
              "    </tr>\n",
              "    <tr>\n",
              "      <th>25%</th>\n",
              "      <td>323.500000</td>\n",
              "    </tr>\n",
              "    <tr>\n",
              "      <th>50%</th>\n",
              "      <td>655.500000</td>\n",
              "    </tr>\n",
              "    <tr>\n",
              "      <th>75%</th>\n",
              "      <td>1353.250000</td>\n",
              "    </tr>\n",
              "    <tr>\n",
              "      <th>max</th>\n",
              "      <td>12572.000000</td>\n",
              "    </tr>\n",
              "  </tbody>\n",
              "</table>\n",
              "</div>"
            ],
            "text/plain": [
              "             number\n",
              "count    394.000000\n",
              "mean    1108.131980\n",
              "std     1434.692945\n",
              "min       14.000000\n",
              "25%      323.500000\n",
              "50%      655.500000\n",
              "75%     1353.250000\n",
              "max    12572.000000"
            ]
          },
          "metadata": {
            "tags": []
          },
          "execution_count": 141
        }
      ]
    },
    {
      "cell_type": "markdown",
      "metadata": {
        "id": "9DN2Kb1l6KAl"
      },
      "source": [
        "发音分布"
      ]
    },
    {
      "cell_type": "code",
      "metadata": {
        "colab": {
          "base_uri": "https://localhost:8080/",
          "height": 338
        },
        "id": "Dn-SPrXY6J5b",
        "outputId": "dc711f1b-a0c7-439f-9057-520031642373"
      },
      "source": [
        "# 大部分的发音只出现了1次\n",
        "pinyin_distribution_without_intonation.plot.hist(bins=30, figsize=(10, 5))\n",
        "plt.ylabel('number')"
      ],
      "execution_count": 143,
      "outputs": [
        {
          "output_type": "execute_result",
          "data": {
            "text/plain": [
              "Text(0, 0.5, 'number')"
            ]
          },
          "metadata": {
            "tags": []
          },
          "execution_count": 143
        },
        {
          "output_type": "display_data",
          "data": {
            "image/png": "[encoded data removed]",
            "text/plain": [
              "<Figure size 720x360 with 1 Axes>"
            ]
          },
          "metadata": {
            "tags": [],
            "needs_background": "light"
          }
        }
      ]
    },
    {
      "cell_type": "markdown",
      "metadata": {
        "id": "a4dRpv4K6dZt"
      },
      "source": [
        "出现次数前 5 的发音"
      ]
    },
    {
      "cell_type": "code",
      "metadata": {
        "colab": {
          "base_uri": "https://localhost:8080/",
          "height": 204
        },
        "id": "A7qTRdca6fIU",
        "outputId": "71926344-f3dd-489d-9e04-f5fa0f701e63"
      },
      "source": [
        "pinyin_distribution_without_intonation.head()"
      ],
      "execution_count": 145,
      "outputs": [
        {
          "output_type": "execute_result",
          "data": {
            "text/html": [
              "<div>\n",
              "<style scoped>\n",
              "    .dataframe tbody tr th:only-of-type {\n",
              "        vertical-align: middle;\n",
              "    }\n",
              "\n",
              "    .dataframe tbody tr th {\n",
              "        vertical-align: top;\n",
              "    }\n",
              "\n",
              "    .dataframe thead th {\n",
              "        text-align: right;\n",
              "    }\n",
              "</style>\n",
              "<table border=\"1\" class=\"dataframe\">\n",
              "  <thead>\n",
              "    <tr style=\"text-align: right;\">\n",
              "      <th></th>\n",
              "      <th>number</th>\n",
              "    </tr>\n",
              "  </thead>\n",
              "  <tbody>\n",
              "    <tr>\n",
              "      <th>de</th>\n",
              "      <td>12572</td>\n",
              "    </tr>\n",
              "    <tr>\n",
              "      <th>yi</th>\n",
              "      <td>11639</td>\n",
              "    </tr>\n",
              "    <tr>\n",
              "      <th>shi</th>\n",
              "      <td>11049</td>\n",
              "    </tr>\n",
              "    <tr>\n",
              "      <th>you</th>\n",
              "      <td>7507</td>\n",
              "    </tr>\n",
              "    <tr>\n",
              "      <th>yu</th>\n",
              "      <td>6675</td>\n",
              "    </tr>\n",
              "  </tbody>\n",
              "</table>\n",
              "</div>"
            ],
            "text/plain": [
              "     number\n",
              "de    12572\n",
              "yi    11639\n",
              "shi   11049\n",
              "you    7507\n",
              "yu     6675"
            ]
          },
          "metadata": {
            "tags": []
          },
          "execution_count": 145
        }
      ]
    }
  ]
}