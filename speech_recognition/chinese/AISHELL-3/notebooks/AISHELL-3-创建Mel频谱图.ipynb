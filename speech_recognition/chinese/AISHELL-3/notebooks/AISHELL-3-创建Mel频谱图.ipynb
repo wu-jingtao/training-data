{
  "cells": [
    {
      "cell_type": "markdown",
      "metadata": {
        "id": "ibN8jtCiZBW-"
      },
      "source": [
        "# AISHELL - 3 - 创建 Mel 频谱图\n",
        "\n",
        "音频经过了以下的变换：\n",
        "\n",
        "1. 采样率设置为 `22050hz`\n",
        "1. `win_length` 设置为 `2048`，`hop_length` 设置为 `1024`\n",
        "1. Mel 频谱图 [filter-bank](https://librosa.org/doc/latest/generated/librosa.filters.mel.html) 设置为 `80`\n",
        "1. 将 Mel 频谱图转换成 [power spectrogram](https://librosa.org/doc/latest/generated/librosa.power_to_db.html)\n",
        "1. 将取值范围调整到 `[-1, 1]`\n",
        "\n",
        "文本经过以下的变换：\n",
        "\n",
        "1. 拼音经过 [拼音字典](https://github.com/wu-jingtao/training-data/blob/master/speech_recognition/chinese/拼音字典/README.md) 转换成对应的数字索引"
      ]
    },
    {
      "cell_type": "code",
      "execution_count": null,
      "metadata": {
        "id": "IatKRwnUYbzQ"
      },
      "outputs": [],
      "source": [
        "import os\n",
        "import json\n",
        "import glob\n",
        "import datetime\n",
        "import random\n",
        "import librosa\n",
        "import librosa.display\n",
        "import numpy as np\n",
        "import tensorflow as tf\n",
        "import matplotlib.pyplot as plt\n",
        "import IPython.display as ipd\n",
        "from tqdm import tqdm"
      ]
    },
    {
      "cell_type": "markdown",
      "metadata": {
        "id": "WIhDQwRIZvEy"
      },
      "source": [
        "## 挂载 Google Drive"
      ]
    },
    {
      "cell_type": "code",
      "execution_count": null,
      "metadata": {
        "colab": {
          "base_uri": "https://localhost:8080/"
        },
        "id": "wx0Bb8gtZuYt",
        "outputId": "b0570b9c-0212-4710-d3df-f18f120b7b37"
      },
      "outputs": [
        {
          "name": "stdout",
          "output_type": "stream",
          "text": [
            "Mounted at /content/drive\n"
          ]
        }
      ],
      "source": [
        "from google.colab import drive\n",
        "drive.mount('/content/drive')"
      ]
    },
    {
      "cell_type": "markdown",
      "metadata": {
        "id": "JHG9JZ4ZZ0Vy"
      },
      "source": [
        "## 解压数据\n",
        "\n",
        "数据来自：[AISHELL - 3 - 数据下载](https://github.com/wu-jingtao/training-data/blob/master/speech_recognition/chinese/AISHELL-3/notebooks/AISHELL-3-下载数据.ipynb)"
      ]
    },
    {
      "cell_type": "code",
      "execution_count": null,
      "metadata": {
        "colab": {
          "background_save": true
        },
        "id": "OnKi4kxaV2-3"
      },
      "outputs": [],
      "source": [
        "!tar zxvf /content/drive/Shareddrives/TeamDrive_top_edu/原始数据/AISHELL-3/data_aishell3.tgz > unzip_log.txt"
      ]
    },
    {
      "cell_type": "markdown",
      "metadata": {
        "id": "KkF0Q0-SeLmd"
      },
      "source": [
        "## 加载拼音字典"
      ]
    },
    {
      "cell_type": "code",
      "execution_count": null,
      "metadata": {
        "id": "dGiWZ1D5eYFm"
      },
      "outputs": [],
      "source": [
        "!wget https://raw.githubusercontent.com/wu-jingtao/training-data/master/speech_recognition/chinese/拼音字典/pinyin_mapper/intonation_5.json\n",
        "!wget https://raw.githubusercontent.com/wu-jingtao/training-data/master/speech_recognition/chinese/拼音字典/pinyin_mapper/intonation_4.json\n",
        "!wget https://raw.githubusercontent.com/wu-jingtao/training-data/master/speech_recognition/chinese/拼音字典/pinyin_mapper/intonation_0.json\n",
        "!wget https://raw.githubusercontent.com/wu-jingtao/training-data/master/speech_recognition/chinese/拼音字典/pinyin_mapper/intonation_fuzzy.json"
      ]
    },
    {
      "cell_type": "code",
      "execution_count": null,
      "metadata": {
        "id": "SEQoBgG1ecJV"
      },
      "outputs": [],
      "source": [
        "with open('intonation_5.json') as f:\n",
        "  pinyin_mapper_intonation_5 = json.load(f)\n",
        "  \n",
        "with open('intonation_4.json') as f:\n",
        "  pinyin_mapper_intonation_4 = json.load(f)\n",
        "\n",
        "with open('intonation_0.json') as f:\n",
        "  pinyin_mapper_intonation_0 = json.load(f)\n",
        "\n",
        "with open('intonation_fuzzy.json') as f:\n",
        "  pinyin_mapper_intonation_fuzzy = json.load(f)"
      ]
    },
    {
      "cell_type": "markdown",
      "metadata": {
        "id": "pV5UIdqgZThF"
      },
      "source": [
        "## 加载文件列表"
      ]
    },
    {
      "cell_type": "code",
      "execution_count": null,
      "metadata": {
        "id": "wfLFvvmuZVgl"
      },
      "outputs": [],
      "source": [
        "file_list = dict()\n",
        "\n",
        "for path in glob.glob('/content/train/**/*.wav', recursive=True) + glob.glob('/content/test/**/*.wav', recursive=True):\n",
        "  name = os.path.splitext(os.path.split(path)[1])[0]\n",
        "  file_list[name] = path"
      ]
    },
    {
      "cell_type": "markdown",
      "metadata": {
        "id": "aRslkyR5dZOu"
      },
      "source": [
        "## 加载音频句子"
      ]
    },
    {
      "cell_type": "code",
      "execution_count": null,
      "metadata": {
        "id": "0dujQxqRhQdC"
      },
      "outputs": [],
      "source": [
        "sentences = dict()\n",
        "\n",
        "with open('/content/train/content.txt') as f1:\n",
        "  with open('/content/test/content.txt') as f2:\n",
        "    for line in f1.readlines() + f2.readlines():\n",
        "      name, data = line.strip().split('\\t')\n",
        "      name = name[:-4]\n",
        "      data = data.split(' ')\n",
        "      words = data[::2]\n",
        "      pinyins = data[1::2]\n",
        "\n",
        "      # 去除带有儿化音的句子\n",
        "      if all((i in pinyin_mapper_intonation_5 for i in pinyins)):\n",
        "        sentences[name] = {'words': words, 'pinyins': pinyins}\n",
        "\n",
        "sentences = list(sentences.items())"
      ]
    },
    {
      "cell_type": "markdown",
      "metadata": {
        "id": "ARsbn6q7l_UH"
      },
      "source": [
        "打乱顺序"
      ]
    },
    {
      "cell_type": "code",
      "execution_count": null,
      "metadata": {
        "id": "W-DYYlwXmA3v"
      },
      "outputs": [],
      "source": [
        "random.shuffle(sentences)"
      ]
    },
    {
      "cell_type": "markdown",
      "metadata": {
        "id": "m5d1LcAZnc00"
      },
      "source": [
        "## 加载朗读者信息"
      ]
    },
    {
      "cell_type": "code",
      "execution_count": null,
      "metadata": {
        "id": "zIV4oNmKnk6k"
      },
      "outputs": [],
      "source": [
        "speaker_info = dict()\n",
        "\n",
        "with open('/content/spk-info.txt') as f:\n",
        "  index = 0\n",
        "  for line in f:\n",
        "    if line.startswith('S'):\n",
        "      id, *data = line.strip().split('\\t')\n",
        "      speaker_info[index] = [id, *data]\n",
        "      speaker_info[id] = [index, *data]\n",
        "      index += 1"
      ]
    },
    {
      "cell_type": "markdown",
      "metadata": {
        "id": "hHs2WHh9f1cU"
      },
      "source": [
        "## 构建 [Mel](https://librosa.org/doc/latest/generated/librosa.feature.melspectrogram.html) 频谱图 数据集"
      ]
    },
    {
      "cell_type": "code",
      "execution_count": null,
      "metadata": {
        "id": "kPs4xYVv9p3u"
      },
      "outputs": [],
      "source": [
        "def create_mel_spectrogram_dataset():\n",
        "  for name, _ in sentences:\n",
        "    audio, sr = librosa.load(file_list[name], sr=22050)\n",
        "    S = librosa.feature.melspectrogram(audio, sr, n_fft=2048, hop_length=1024, n_mels=80, center=False)\n",
        "    S_dB = librosa.power_to_db(S, ref=np.max) # 这里顺带做了音量统一\n",
        "    S_dB = (S_dB + 40) / 40\n",
        "    yield S_dB.T"
      ]
    },
    {
      "cell_type": "code",
      "execution_count": null,
      "metadata": {
        "id": "ka5Kz4owbN87"
      },
      "outputs": [],
      "source": [
        "mel_dataset = tf.data.Dataset.from_generator(create_mel_spectrogram_dataset, output_signature=tf.TensorSpec(shape=(None, 80), dtype=tf.float32))"
      ]
    },
    {
      "cell_type": "markdown",
      "metadata": {
        "id": "Xfp6fLB_qdnf"
      },
      "source": [
        "查看频谱图"
      ]
    },
    {
      "cell_type": "code",
      "execution_count": null,
      "metadata": {
        "colab": {
          "base_uri": "https://localhost:8080/",
          "height": 277
        },
        "id": "EqoSc4zwoA5u",
        "outputId": "0405253a-8db0-49ba-e99b-ed824b06c8bd"
      },
      "outputs": [
        {
          "output_type": "stream",
          "name": "stdout",
          "text": [
            "mel频谱形状 (56, 80)\n"
          ]
        },
        {
          "output_type": "execute_result",
          "data": {
            "text/plain": [
              "<matplotlib.colorbar.Colorbar at 0x7f2ebb46b7f0>"
            ]
          },
          "metadata": {},
          "execution_count": null
        },
        {
          "output_type": "display_data",
          "data": {
            "text/plain": [
              "<Figure size 1080x216 with 2 Axes>"
            ],
            "image/png": "[encoded data removed]"
          },
          "metadata": {
            "needs_background": "light"
          }
        }
      ],
      "source": [
        "sample_data = next(mel_dataset.as_numpy_iterator())\n",
        "print(f'mel频谱形状 {sample_data.shape}')\n",
        "\n",
        "plt.figure(figsize=(15, 3))\n",
        "plt.title('Mel-frequency spectrogram')\n",
        "librosa.display.specshow(sample_data.T + 1, x_axis='time', y_axis='mel', sr=22050, hop_length=1024)\n",
        "plt.colorbar()"
      ]
    },
    {
      "cell_type": "markdown",
      "metadata": {
        "id": "b2Lc53ATzBG9"
      },
      "source": [
        "查看音频"
      ]
    },
    {
      "cell_type": "code",
      "execution_count": null,
      "metadata": {
        "id": "eM3TgbM39ysI"
      },
      "outputs": [],
      "source": [
        "# 由于是使用 Griffin-Lim 算法复原的所以效果不太好，但这并不会影响到语音识别\n",
        "sample_data = sample_data.T * 40 - 40\n",
        "sample_data = librosa.db_to_power(sample_data)\n",
        "sample_data = librosa.feature.inverse.mel_to_audio(sample_data, sr=22050, n_fft=2048, hop_length=1024)\n",
        "ipd.Audio(sample_data, rate=22050)"
      ]
    },
    {
      "cell_type": "markdown",
      "metadata": {
        "id": "WwMl3IRZhKdK"
      },
      "source": [
        "## 构建 朗读者 数据集"
      ]
    },
    {
      "cell_type": "code",
      "execution_count": null,
      "metadata": {
        "id": "DdtKknZE-tHA"
      },
      "outputs": [],
      "source": [
        "def create_speaker_dataset():\n",
        "  for name, _ in sentences:\n",
        "    yield (speaker_info[name[:7]][0],)"
      ]
    },
    {
      "cell_type": "code",
      "execution_count": null,
      "metadata": {
        "id": "I-Ew-7RFfr-e"
      },
      "outputs": [],
      "source": [
        "speaker_dataset = tf.data.Dataset.from_generator(create_speaker_dataset, output_signature=tf.TensorSpec(shape=(1,), dtype=tf.int32))"
      ]
    },
    {
      "cell_type": "markdown",
      "metadata": {
        "id": "fBl1_mQigzU8"
      },
      "source": [
        "查看效果"
      ]
    },
    {
      "cell_type": "code",
      "execution_count": null,
      "metadata": {
        "colab": {
          "base_uri": "https://localhost:8080/"
        },
        "id": "mCwn-XJLuHii",
        "outputId": "10df2a01-a540-49e5-ad6f-b38476fc1ea4"
      },
      "outputs": [
        {
          "output_type": "execute_result",
          "data": {
            "text/plain": [
              "['SSB0038', 'B', 'female', 'north']"
            ]
          },
          "metadata": {},
          "execution_count": null
        }
      ],
      "source": [
        "speaker_info[next(speaker_dataset.as_numpy_iterator())[0]]"
      ]
    },
    {
      "cell_type": "markdown",
      "metadata": {
        "id": "GrERelNLziIX"
      },
      "source": [
        "## 构建 文本 数据集"
      ]
    },
    {
      "cell_type": "code",
      "execution_count": null,
      "metadata": {
        "id": "IZeJVnkoziIn"
      },
      "outputs": [],
      "source": [
        "def create_words_dataset():\n",
        "  for _, text in sentences:\n",
        "    yield text['words']"
      ]
    },
    {
      "cell_type": "code",
      "execution_count": null,
      "metadata": {
        "id": "NKPscjgHziIn"
      },
      "outputs": [],
      "source": [
        "words_dataset = tf.data.Dataset.from_generator(create_words_dataset, output_signature=tf.TensorSpec(shape=(None,), dtype=tf.string))"
      ]
    },
    {
      "cell_type": "markdown",
      "metadata": {
        "id": "b05GK3h4ziIo"
      },
      "source": [
        "查看效果"
      ]
    },
    {
      "cell_type": "code",
      "execution_count": null,
      "metadata": {
        "colab": {
          "base_uri": "https://localhost:8080/",
          "height": 35
        },
        "id": "EpLvL_EaziIo",
        "outputId": "8ff3c80f-3286-4aee-fcb9-14641f8b8081"
      },
      "outputs": [
        {
          "output_type": "execute_result",
          "data": {
            "text/plain": [
              "'他 们 把 机 器 人 做 得 非 常 友 好'"
            ],
            "application/vnd.google.colaboratory.intrinsic+json": {
              "type": "string"
            }
          },
          "metadata": {},
          "execution_count": null
        }
      ],
      "source": [
        "' '.join(map(lambda x: str(x, 'utf-8'), next(words_dataset.as_numpy_iterator())))"
      ]
    },
    {
      "cell_type": "markdown",
      "metadata": {
        "id": "hZZo09mfiTtT"
      },
      "source": [
        "## 构建 拼音 数据集"
      ]
    },
    {
      "cell_type": "code",
      "execution_count": null,
      "metadata": {
        "id": "0bpiT3Q3_h-_"
      },
      "outputs": [],
      "source": [
        "def create_pinyins_dataset():\n",
        "  for _, text in sentences:\n",
        "    yield text['pinyins']"
      ]
    },
    {
      "cell_type": "code",
      "execution_count": null,
      "metadata": {
        "id": "eG6zLyi9iVf6"
      },
      "outputs": [],
      "source": [
        "pinyins_dataset = tf.data.Dataset.from_generator(create_pinyins_dataset, output_signature=tf.TensorSpec(shape=(None,), dtype=tf.string))"
      ]
    },
    {
      "cell_type": "markdown",
      "metadata": {
        "id": "Ij6QFeAUvcvo"
      },
      "source": [
        "查看效果"
      ]
    },
    {
      "cell_type": "code",
      "execution_count": null,
      "metadata": {
        "colab": {
          "base_uri": "https://localhost:8080/",
          "height": 35
        },
        "id": "wteryZYQa500",
        "outputId": "261a416c-c612-4648-ee3b-a8b75019ee3d"
      },
      "outputs": [
        {
          "output_type": "execute_result",
          "data": {
            "text/plain": [
              "'ta1 men5 ba3 ji1 qi4 ren2 zuo4 de2 fei1 chang2 you2 hao3'"
            ],
            "application/vnd.google.colaboratory.intrinsic+json": {
              "type": "string"
            }
          },
          "metadata": {},
          "execution_count": null
        }
      ],
      "source": [
        "' '.join(map(lambda x: str(x, 'utf-8'), next(pinyins_dataset.as_numpy_iterator())))"
      ]
    },
    {
      "cell_type": "markdown",
      "metadata": {
        "id": "swxU5MsHihuB"
      },
      "source": [
        "## 构建 拼音索引 数据集"
      ]
    },
    {
      "cell_type": "code",
      "execution_count": null,
      "metadata": {
        "id": "pySl_uHCDGFh"
      },
      "outputs": [],
      "source": [
        "def create_pinyin_index_dataset(pinyin_mapper):\n",
        "  def generator():\n",
        "    for _, text in sentences:\n",
        "      yield [pinyin_mapper[i] for i in text['pinyins']]\n",
        "  return generator"
      ]
    },
    {
      "cell_type": "code",
      "execution_count": null,
      "metadata": {
        "id": "Qyhn9nlhD6oA"
      },
      "outputs": [],
      "source": [
        "# 五种声调\n",
        "pinyin_index_5_dataset = tf.data.Dataset.from_generator(create_pinyin_index_dataset(pinyin_mapper_intonation_5), output_signature=tf.TensorSpec(shape=(None,), dtype=tf.int32))\n",
        "\n",
        "# 四种声调\n",
        "pinyin_index_4_dataset = tf.data.Dataset.from_generator(create_pinyin_index_dataset(pinyin_mapper_intonation_4), output_signature=tf.TensorSpec(shape=(None,), dtype=tf.int32))\n",
        "\n",
        "# 无声调\n",
        "pinyin_index_0_dataset = tf.data.Dataset.from_generator(create_pinyin_index_dataset(pinyin_mapper_intonation_0), output_signature=tf.TensorSpec(shape=(None,), dtype=tf.int32))\n",
        "\n",
        "# 无声调 + 模糊音\n",
        "pinyin_index_fuzzy_dataset = tf.data.Dataset.from_generator(create_pinyin_index_dataset(pinyin_mapper_intonation_fuzzy), output_signature=tf.TensorSpec(shape=(None,), dtype=tf.int32))"
      ]
    },
    {
      "cell_type": "markdown",
      "metadata": {
        "id": "zLdBF5tIkthG"
      },
      "source": [
        "查看效果"
      ]
    },
    {
      "cell_type": "code",
      "execution_count": null,
      "metadata": {
        "colab": {
          "base_uri": "https://localhost:8080/"
        },
        "id": "wbSNRiBBkvEH",
        "outputId": "5a1d03e4-c6db-45be-fb12-4cb8cfe3f1df"
      },
      "outputs": [
        {
          "output_type": "stream",
          "name": "stdout",
          "text": [
            "ta1 men5 ba3 ji1 qi4 ren2 zuo4 de2 fei1 chang2 you2 hao3\n",
            "1585 989 27 655 1273 1361 2053 306 435 161 1846 582\n"
          ]
        }
      ],
      "source": [
        "sample_data = next(pinyin_index_5_dataset.as_numpy_iterator())\n",
        "sample_data = list(map(lambda x: str(x), sample_data))\n",
        "print(' '.join(map(lambda x: pinyin_mapper_intonation_5[x], sample_data)))\n",
        "print(' '.join(sample_data))"
      ]
    },
    {
      "cell_type": "markdown",
      "metadata": {
        "id": "_emJyuYLSG91"
      },
      "source": [
        "## 保存数据"
      ]
    },
    {
      "cell_type": "code",
      "execution_count": null,
      "metadata": {
        "id": "6k41SSWGVlu5"
      },
      "outputs": [],
      "source": [
        "!mkdir AISHELL-3"
      ]
    },
    {
      "cell_type": "code",
      "execution_count": null,
      "metadata": {
        "id": "6YvYkK0BST6N"
      },
      "outputs": [],
      "source": [
        "mel_cache = mel_dataset.cache('AISHELL-3/audios')\n",
        "speaker_cache = speaker_dataset.cache('AISHELL-3/speaker')\n",
        "words_cache = words_dataset.cache('AISHELL-3/words')\n",
        "pinyins_cache = pinyins_dataset.cache('AISHELL-3/pinyins')\n",
        "pinyin_index_5_cache = pinyin_index_5_dataset.cache('AISHELL-3/pinyin_index_5')\n",
        "pinyin_index_4_cache = pinyin_index_4_dataset.cache('AISHELL-3/pinyin_index_4')\n",
        "pinyin_index_0_cache = pinyin_index_0_dataset.cache('AISHELL-3/pinyin_index_0')\n",
        "pinyin_index_fuzzy_cache = pinyin_index_fuzzy_dataset.cache('AISHELL-3/pinyin_index_fuzzy')"
      ]
    },
    {
      "cell_type": "code",
      "execution_count": null,
      "metadata": {
        "colab": {
          "base_uri": "https://localhost:8080/"
        },
        "id": "4NTvrTPAfFzl",
        "outputId": "45094fdd-bc1e-41cd-d6ab-6f22f4665593"
      },
      "outputs": [
        {
          "output_type": "stream",
          "name": "stderr",
          "text": [
            "mel_cache: 100%|██████████| 86281/86281 [4:09:21<00:00,  5.77it/s]\n",
            "speaker_cache: 100%|██████████| 86281/86281 [00:36<00:00, 2342.68it/s]\n",
            "words_cache: 100%|██████████| 86281/86281 [00:42<00:00, 2020.74it/s]\n",
            "pinyins_cache: 100%|██████████| 86281/86281 [00:40<00:00, 2106.62it/s]\n",
            "pinyin_index_5_cache: 100%|██████████| 86281/86281 [00:35<00:00, 2418.12it/s]\n",
            "pinyin_index_4_cache: 100%|██████████| 86281/86281 [00:35<00:00, 2417.23it/s]\n",
            "pinyin_index_0_cache: 100%|██████████| 86281/86281 [00:40<00:00, 2106.62it/s]\n",
            "pinyin_index_fuzzy_cache: 100%|██████████| 86281/86281 [00:40<00:00, 2106.34it/s]\n"
          ]
        }
      ],
      "source": [
        "with tqdm(total=len(sentences), desc='mel_cache') as pbar:\n",
        "  for i in mel_cache: pbar.update()\n",
        "\n",
        "with tqdm(total=len(sentences), desc='speaker_cache') as pbar:\n",
        "  for i in speaker_cache: pbar.update()\n",
        "\n",
        "with tqdm(total=len(sentences), desc='words_cache') as pbar:\n",
        "  for i in words_cache: pbar.update()\n",
        "\n",
        "with tqdm(total=len(sentences), desc='pinyins_cache') as pbar:\n",
        "  for i in pinyins_cache: pbar.update()\n",
        "\n",
        "with tqdm(total=len(sentences), desc='pinyin_index_5_cache') as pbar:\n",
        "  for i in pinyin_index_5_cache: pbar.update()\n",
        "\n",
        "with tqdm(total=len(sentences), desc='pinyin_index_4_cache') as pbar:\n",
        "  for i in pinyin_index_4_cache: pbar.update()\n",
        "\n",
        "with tqdm(total=len(sentences), desc='pinyin_index_0_cache') as pbar:\n",
        "  for i in pinyin_index_0_cache: pbar.update()\n",
        "\n",
        "with tqdm(total=len(sentences), desc='pinyin_index_fuzzy_cache') as pbar:\n",
        "  for i in pinyin_index_fuzzy_cache: pbar.update()"
      ]
    },
    {
      "cell_type": "code",
      "execution_count": null,
      "metadata": {
        "id": "RwG2hSy00_Ua"
      },
      "outputs": [],
      "source": [
        "with open('AISHELL-3/speaker_info.json', 'w') as f:\n",
        "  json.dump(speaker_info, f)"
      ]
    },
    {
      "cell_type": "markdown",
      "metadata": {
        "id": "tfhx9fyYgIeG"
      },
      "source": [
        "## 创建说明文件"
      ]
    },
    {
      "cell_type": "code",
      "execution_count": null,
      "metadata": {
        "id": "Pkwotsx8xuJI"
      },
      "outputs": [],
      "source": [
        "readme = '''数据来源：http://www.openslr.org/93/\n",
        "项目地址：https://github.com/wu-jingtao/training-data/blob/master/speech_recognition/chinese/AISHELL-3/README.md\n",
        "创建时间：{}\n",
        "\n",
        "数据类型：\n",
        "audios：音频对应的 mel 频谱图\n",
        "  {}\n",
        "\n",
        "speaker：音频对应的朗读者索引\n",
        "  {}\n",
        "\n",
        "words：音频对应的文字\n",
        "  {}\n",
        "\n",
        "pinyins：音频对应的拼音\n",
        "  {}\n",
        "\n",
        "pinyin_index_5：音频对应的五声声调拼音索引\n",
        "  {}\n",
        "\n",
        "pinyin_index_4：音频对应的四声声调拼音索引\n",
        "  {}\n",
        "\n",
        "pinyin_index_0：音频对应的无声调拼音索引\n",
        "  {}\n",
        "\n",
        "pinyin_index_fuzzy：音频对应的无声调加模糊音拼音索引\n",
        "  {}\n",
        "\n",
        "示例代码：\n",
        ">>> data = tf.data.Dataset.from_generator(lambda: None, output_signature=tf.TensorSpec(shape=(None, 80), dtype=tf.float32))\n",
        ">>> data = data.cache('文件夹路径/audios')\n",
        "'''\n",
        "\n",
        "readme = readme.format(\n",
        "      datetime.datetime.today(),\n",
        "      mel_cache.element_spec,\n",
        "      speaker_cache.element_spec,\n",
        "      words_cache.element_spec,\n",
        "      pinyins_cache.element_spec,\n",
        "      pinyin_index_5_cache.element_spec,\n",
        "      pinyin_index_4_cache.element_spec,\n",
        "      pinyin_index_0_cache.element_spec,\n",
        "      pinyin_index_fuzzy_cache.element_spec\n",
        "    )\n",
        "\n",
        "with open('AISHELL-3/README.txt', 'w') as f:\n",
        "  f.write(readme)"
      ]
    },
    {
      "cell_type": "markdown",
      "metadata": {
        "id": "7NoSYS_FwttQ"
      },
      "source": [
        "## 压缩文件"
      ]
    },
    {
      "cell_type": "code",
      "execution_count": null,
      "metadata": {
        "id": "T8VHWslewwoQ"
      },
      "outputs": [],
      "source": [
        "!7z a AISHELL-3.7z AISHELL-3 > zip_log.txt"
      ]
    },
    {
      "cell_type": "markdown",
      "metadata": {
        "id": "ICJ_UagCwpMR"
      },
      "source": [
        "## 保存到 Google Drive"
      ]
    },
    {
      "cell_type": "code",
      "execution_count": null,
      "metadata": {
        "id": "aatQSKp6iH54"
      },
      "outputs": [],
      "source": [
        "!cp -r AISHELL-3 /content/drive/Shareddrives/TeamDrive_top_edu/生成数据/"
      ]
    },
    {
      "cell_type": "code",
      "execution_count": null,
      "metadata": {
        "id": "0fAXbhgb0_xs"
      },
      "outputs": [],
      "source": [
        "!cp AISHELL-3.7z /content/drive/Shareddrives/TeamDrive_top_edu/生成数据/AISHELL-3.7z"
      ]
    }
  ],
  "metadata": {
    "colab": {
      "provenance": [],
      "toc_visible": true
    },
    "kernelspec": {
      "display_name": "Python 3",
      "name": "python3"
    },
    "language_info": {
      "name": "python"
    }
  },
  "nbformat": 4,
  "nbformat_minor": 0
}