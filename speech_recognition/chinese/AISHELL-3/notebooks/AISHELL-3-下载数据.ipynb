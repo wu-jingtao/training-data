{
  "cells": [
    {
      "cell_type": "markdown",
      "metadata": {
        "id": "H2zXEz-P9w5s"
      },
      "source": [
        "## 挂载 Google Drive"
      ]
    },
    {
      "cell_type": "code",
      "execution_count": null,
      "metadata": {
        "colab": {
          "base_uri": "https://localhost:8080/"
        },
        "id": "t0sW_x4E9ykX",
        "outputId": "e84da211-632c-4819-e0c6-9990cdc1c897",
        "vscode": {
          "languageId": "python"
        }
      },
      "outputs": [
        {
          "name": "stdout",
          "output_type": "stream",
          "text": [
            "Mounted at /content/drive\n"
          ]
        }
      ],
      "source": [
        "from google.colab import drive\n",
        "drive.mount('/content/drive')"
      ]
    },
    {
      "cell_type": "markdown",
      "metadata": {
        "id": "knBVz3VR91Zt"
      },
      "source": [
        "## 下载数据\n",
        "\n",
        "下载地址：[http://www.openslr.org/93/](http://www.openslr.org/93/)"
      ]
    },
    {
      "cell_type": "code",
      "execution_count": null,
      "metadata": {
        "colab": {
          "base_uri": "https://localhost:8080/"
        },
        "id": "cc8ZTT-f9piA",
        "outputId": "395aa893-d243-441b-c45e-629eff369196",
        "vscode": {
          "languageId": "python"
        }
      },
      "outputs": [
        {
          "name": "stdout",
          "output_type": "stream",
          "text": [
            "--2023-01-27 11:55:34--  https://www.openslr.org/resources/93/data_aishell3.tgz\n",
            "Resolving www.openslr.org (www.openslr.org)... 46.101.158.64\n",
            "Connecting to www.openslr.org (www.openslr.org)|46.101.158.64|:443... connected.\n",
            "HTTP request sent, awaiting response... 302 Found\n",
            "Location: http://us.openslr.org/resources/93/data_aishell3.tgz [following]\n",
            "--2023-01-27 11:55:35--  http://us.openslr.org/resources/93/data_aishell3.tgz\n",
            "Resolving us.openslr.org (us.openslr.org)... 46.101.158.64\n",
            "Connecting to us.openslr.org (us.openslr.org)|46.101.158.64|:80... connected.\n",
            "HTTP request sent, awaiting response... 200 OK\n",
            "Length: 19057141777 (18G) [application/x-gzip]\n",
            "Saving to: ‘data_aishell3.tgz’\n",
            "\n",
            "data_aishell3.tgz   100%[===================>]  17.75G  19.6MB/s    in 15m 5s  \n",
            "\n",
            "2023-01-27 12:10:40 (20.1 MB/s) - ‘data_aishell3.tgz’ saved [19057141777/19057141777]\n",
            "\n"
          ]
        }
      ],
      "source": [
        "!wget https://www.openslr.org/resources/93/data_aishell3.tgz"
      ]
    },
    {
      "cell_type": "markdown",
      "metadata": {
        "id": "AYFKIzAz-rL8"
      },
      "source": [
        "## 复制到 Google Drive"
      ]
    },
    {
      "cell_type": "markdown",
      "metadata": {
        "id": "4iuF0NjxB7J5"
      },
      "source": [
        "文件保存路径"
      ]
    },
    {
      "cell_type": "code",
      "execution_count": null,
      "metadata": {
        "id": "PsbZXPRhBYUo",
        "vscode": {
          "languageId": "python"
        }
      },
      "outputs": [],
      "source": [
        "save_path = '/content/drive/Shareddrives/TeamDrive_top_edu/原始数据/AISHELL-3'"
      ]
    },
    {
      "cell_type": "markdown",
      "metadata": {
        "id": "lhvoERllB7qC"
      },
      "source": [
        "创建保存目录"
      ]
    },
    {
      "cell_type": "code",
      "execution_count": null,
      "metadata": {
        "id": "7nY34s9f_oUy",
        "vscode": {
          "languageId": "python"
        }
      },
      "outputs": [],
      "source": [
        "!mkdir -p {save_path}"
      ]
    },
    {
      "cell_type": "markdown",
      "metadata": {
        "id": "DvuFoQ_4CaX3"
      },
      "source": [
        "保存数据"
      ]
    },
    {
      "cell_type": "code",
      "execution_count": null,
      "metadata": {
        "id": "z6H1ME_9-4y7",
        "vscode": {
          "languageId": "python"
        }
      },
      "outputs": [],
      "source": [
        "!cp data_aishell3.tgz {save_path}/data_aishell3.tgz"
      ]
    }
  ],
  "metadata": {
    "colab": {
      "provenance": []
    },
    "kernelspec": {
      "display_name": "'Python Interactive'",
      "language": "python",
      "name": "9dcc16da-94f4-4873-8cf5-5b757e90ea3d"
    }
  },
  "nbformat": 4,
  "nbformat_minor": 0
}
