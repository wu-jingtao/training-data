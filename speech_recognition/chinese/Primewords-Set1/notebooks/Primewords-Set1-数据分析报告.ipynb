{
  "nbformat": 4,
  "nbformat_minor": 0,
  "metadata": {
    "colab": {
      "name": "Primewords-Set1-数据分析报告.ipynb",
      "provenance": [],
      "collapsed_sections": [
        "mrFsMklkcql4",
        "MVBccEMor7hO",
        "R-cypVniwHSR"
      ],
      "toc_visible": true
    },
    "kernelspec": {
      "name": "python3",
      "display_name": "Python 3"
    },
    "language_info": {
      "name": "python"
    }
  },
  "cells": [
    {
      "cell_type": "markdown",
      "metadata": {
        "id": "GyL-ZcdI871-"
      },
      "source": [
        "# Primewords-Set1 - 数据分析报告"
      ]
    },
    {
      "cell_type": "code",
      "metadata": {
        "id": "iQZe4YEEbgpM"
      },
      "source": [
        "!pip install pypinyin"
      ],
      "execution_count": null,
      "outputs": []
    },
    {
      "cell_type": "code",
      "metadata": {
        "id": "vsxWFmwj87nY"
      },
      "source": [
        "import os\n",
        "import glob\n",
        "import librosa\n",
        "import pandas as pd\n",
        "import matplotlib.pyplot as plt\n",
        "import matplotlib.ticker as mticker\n",
        "import IPython.display as ipd\n",
        "from pypinyin import lazy_pinyin, Style"
      ],
      "execution_count": null,
      "outputs": []
    },
    {
      "cell_type": "markdown",
      "metadata": {
        "id": "ngOrMZ33DocY"
      },
      "source": [
        "## 挂载 Google Drive"
      ]
    },
    {
      "cell_type": "code",
      "metadata": {
        "colab": {
          "base_uri": "https://localhost:8080/"
        },
        "id": "HCbJgjRR83ee",
        "outputId": "26a280fc-d996-44f9-bcc0-92e804d29c51"
      },
      "source": [
        "from google.colab import drive\n",
        "drive.mount('/content/drive')"
      ],
      "execution_count": null,
      "outputs": [
        {
          "output_type": "stream",
          "text": [
            "Mounted at /content/drive\n"
          ],
          "name": "stdout"
        }
      ]
    },
    {
      "cell_type": "markdown",
      "metadata": {
        "id": "32zM58xDD2Xl"
      },
      "source": [
        "## 解压数据\n",
        "\n",
        "数据来自：[Primewords-Set1 - 数据下载](https://github.com/wu-jingtao/training-data/blob/master/speech_recognition/chinese/Primewords-Set1/notebooks/Primewords-Set1-下载数据.ipynb)"
      ]
    },
    {
      "cell_type": "code",
      "metadata": {
        "id": "r2bTGQ-HD28l"
      },
      "source": [
        "!tar -zxvf /content/drive/Shareddrives/TeamDrive_top_edu/原始数据/Primewords-Set1/primewords_md_2018_set1.tar.gz > unzip_log.txt"
      ],
      "execution_count": null,
      "outputs": []
    },
    {
      "cell_type": "markdown",
      "metadata": {
        "id": "gjvUHn355EOd"
      },
      "source": [
        "## 读取文件信息数据"
      ]
    },
    {
      "cell_type": "code",
      "metadata": {
        "id": "jnWUMkpl5Mli"
      },
      "source": [
        "file_list = pd.read_json('/content/primewords_md_2018_set1/set1_transcript.json')"
      ],
      "execution_count": null,
      "outputs": []
    },
    {
      "cell_type": "markdown",
      "metadata": {
        "id": "OtrYvI-BUBLV"
      },
      "source": [
        "## 工具方法"
      ]
    },
    {
      "cell_type": "code",
      "metadata": {
        "id": "F84eIPSl8ul_"
      },
      "source": [
        "path_list = dict()\n",
        "\n",
        "for path in glob.glob('/content/primewords_md_2018_set1/**/*.wav', recursive=True):\n",
        "  name = os.path.splitext(os.path.split(path)[1])[0]\n",
        "  path_list[name] = path"
      ],
      "execution_count": null,
      "outputs": []
    },
    {
      "cell_type": "markdown",
      "metadata": {
        "id": "kP9WhFopIiLB"
      },
      "source": [
        "查看音频"
      ]
    },
    {
      "cell_type": "code",
      "metadata": {
        "id": "4aqLyb_TUEBS"
      },
      "source": [
        "def show_audio(id):\n",
        "  name = os.path.splitext(file_list.loc[id]['file'])[0]\n",
        "  path = path_list[name]\n",
        "  audio, sr = librosa.load(path, sr=None)\n",
        "  text = file_list.loc[id]['text']\n",
        "  print(text)\n",
        "  ipd.display(ipd.Audio(audio, rate=sr))"
      ],
      "execution_count": null,
      "outputs": []
    },
    {
      "cell_type": "markdown",
      "metadata": {
        "id": "mrFsMklkcql4"
      },
      "source": [
        "## 统计音频时长"
      ]
    },
    {
      "cell_type": "code",
      "metadata": {
        "id": "lFutGC4-c4Nn"
      },
      "source": [
        "audio_duration = pd.DataFrame(file_list['length'])\n",
        "audio_duration.rename(columns={'length': 'duration'}, inplace=True)\n",
        "audio_duration = audio_duration.sort_values('duration', ascending=False)"
      ],
      "execution_count": null,
      "outputs": []
    },
    {
      "cell_type": "markdown",
      "metadata": {
        "id": "D4VGHq1gh7VK"
      },
      "source": [
        "总时长（小时）"
      ]
    },
    {
      "cell_type": "code",
      "metadata": {
        "colab": {
          "base_uri": "https://localhost:8080/"
        },
        "id": "0xvouflVg-wS",
        "outputId": "86c3d9b1-69c6-43da-91b8-d61ebdc212e7"
      },
      "source": [
        "audio_duration.sum() / 3600"
      ],
      "execution_count": null,
      "outputs": [
        {
          "output_type": "execute_result",
          "data": {
            "text/plain": [
              "duration    100.002228\n",
              "dtype: float64"
            ]
          },
          "metadata": {
            "tags": []
          },
          "execution_count": 61
        }
      ]
    },
    {
      "cell_type": "markdown",
      "metadata": {
        "id": "ZDuE0lURh8nR"
      },
      "source": [
        "总体特征"
      ]
    },
    {
      "cell_type": "code",
      "metadata": {
        "colab": {
          "base_uri": "https://localhost:8080/",
          "height": 297
        },
        "id": "ih_TU0LvdViG",
        "outputId": "14c3b3eb-b81e-4367-9705-eb212735be1b"
      },
      "source": [
        "audio_duration.describe()"
      ],
      "execution_count": null,
      "outputs": [
        {
          "output_type": "execute_result",
          "data": {
            "text/html": [
              "<div>\n",
              "<style scoped>\n",
              "    .dataframe tbody tr th:only-of-type {\n",
              "        vertical-align: middle;\n",
              "    }\n",
              "\n",
              "    .dataframe tbody tr th {\n",
              "        vertical-align: top;\n",
              "    }\n",
              "\n",
              "    .dataframe thead th {\n",
              "        text-align: right;\n",
              "    }\n",
              "</style>\n",
              "<table border=\"1\" class=\"dataframe\">\n",
              "  <thead>\n",
              "    <tr style=\"text-align: right;\">\n",
              "      <th></th>\n",
              "      <th>duration</th>\n",
              "    </tr>\n",
              "  </thead>\n",
              "  <tbody>\n",
              "    <tr>\n",
              "      <th>count</th>\n",
              "      <td>50902.000000</td>\n",
              "    </tr>\n",
              "    <tr>\n",
              "      <th>mean</th>\n",
              "      <td>7.072571</td>\n",
              "    </tr>\n",
              "    <tr>\n",
              "      <th>std</th>\n",
              "      <td>2.037949</td>\n",
              "    </tr>\n",
              "    <tr>\n",
              "      <th>min</th>\n",
              "      <td>1.320000</td>\n",
              "    </tr>\n",
              "    <tr>\n",
              "      <th>25%</th>\n",
              "      <td>5.640000</td>\n",
              "    </tr>\n",
              "    <tr>\n",
              "      <th>50%</th>\n",
              "      <td>6.840000</td>\n",
              "    </tr>\n",
              "    <tr>\n",
              "      <th>75%</th>\n",
              "      <td>8.240000</td>\n",
              "    </tr>\n",
              "    <tr>\n",
              "      <th>max</th>\n",
              "      <td>20.040000</td>\n",
              "    </tr>\n",
              "  </tbody>\n",
              "</table>\n",
              "</div>"
            ],
            "text/plain": [
              "           duration\n",
              "count  50902.000000\n",
              "mean       7.072571\n",
              "std        2.037949\n",
              "min        1.320000\n",
              "25%        5.640000\n",
              "50%        6.840000\n",
              "75%        8.240000\n",
              "max       20.040000"
            ]
          },
          "metadata": {
            "tags": []
          },
          "execution_count": 62
        }
      ]
    },
    {
      "cell_type": "markdown",
      "metadata": {
        "id": "IBcDCwTEiBh7"
      },
      "source": [
        "时长分布"
      ]
    },
    {
      "cell_type": "code",
      "metadata": {
        "colab": {
          "base_uri": "https://localhost:8080/",
          "height": 320
        },
        "id": "9PKDHdgDiHEj",
        "outputId": "4b2d5de9-3522-47bb-9997-62e4596ba207"
      },
      "source": [
        "audio_duration.plot.hist(bins=50, figsize=(15, 5))\n",
        "plt.ylabel('number')\n",
        "plt.gca().xaxis.set_major_formatter(mticker.FormatStrFormatter('%.1f s'))"
      ],
      "execution_count": null,
      "outputs": [
        {
          "output_type": "display_data",
          "data": {
            "image/png": "[encoded data removed]",
            "text/plain": [
              "<Figure size 1080x360 with 1 Axes>"
            ]
          },
          "metadata": {
            "tags": [],
            "needs_background": "light"
          }
        }
      ]
    },
    {
      "cell_type": "markdown",
      "metadata": {
        "id": "EOX5J8YAmYcV"
      },
      "source": [
        "最长的 5 条音频"
      ]
    },
    {
      "cell_type": "code",
      "metadata": {
        "colab": {
          "base_uri": "https://localhost:8080/",
          "height": 204
        },
        "id": "Yz2JzbFFmm_j",
        "outputId": "ae2eb04a-a3c8-4040-c938-426b9688ea14"
      },
      "source": [
        "audio_duration.head()"
      ],
      "execution_count": null,
      "outputs": [
        {
          "output_type": "execute_result",
          "data": {
            "text/html": [
              "<div>\n",
              "<style scoped>\n",
              "    .dataframe tbody tr th:only-of-type {\n",
              "        vertical-align: middle;\n",
              "    }\n",
              "\n",
              "    .dataframe tbody tr th {\n",
              "        vertical-align: top;\n",
              "    }\n",
              "\n",
              "    .dataframe thead th {\n",
              "        text-align: right;\n",
              "    }\n",
              "</style>\n",
              "<table border=\"1\" class=\"dataframe\">\n",
              "  <thead>\n",
              "    <tr style=\"text-align: right;\">\n",
              "      <th></th>\n",
              "      <th>duration</th>\n",
              "    </tr>\n",
              "  </thead>\n",
              "  <tbody>\n",
              "    <tr>\n",
              "      <th>44222</th>\n",
              "      <td>20.04</td>\n",
              "    </tr>\n",
              "    <tr>\n",
              "      <th>47392</th>\n",
              "      <td>19.92</td>\n",
              "    </tr>\n",
              "    <tr>\n",
              "      <th>20824</th>\n",
              "      <td>19.92</td>\n",
              "    </tr>\n",
              "    <tr>\n",
              "      <th>9427</th>\n",
              "      <td>19.92</td>\n",
              "    </tr>\n",
              "    <tr>\n",
              "      <th>8766</th>\n",
              "      <td>19.80</td>\n",
              "    </tr>\n",
              "  </tbody>\n",
              "</table>\n",
              "</div>"
            ],
            "text/plain": [
              "       duration\n",
              "44222     20.04\n",
              "47392     19.92\n",
              "20824     19.92\n",
              "9427      19.92\n",
              "8766      19.80"
            ]
          },
          "metadata": {
            "tags": []
          },
          "execution_count": 63
        }
      ]
    },
    {
      "cell_type": "markdown",
      "metadata": {
        "id": "QAmcUTxyY0PO"
      },
      "source": [
        "最短的 5 条音频"
      ]
    },
    {
      "cell_type": "code",
      "metadata": {
        "colab": {
          "base_uri": "https://localhost:8080/",
          "height": 204
        },
        "id": "IabMyPefY2AW",
        "outputId": "1253d6ef-1b92-442b-c5dc-e2db05e60b3c"
      },
      "source": [
        "audio_duration.tail().iloc[::-1]"
      ],
      "execution_count": null,
      "outputs": [
        {
          "output_type": "execute_result",
          "data": {
            "text/html": [
              "<div>\n",
              "<style scoped>\n",
              "    .dataframe tbody tr th:only-of-type {\n",
              "        vertical-align: middle;\n",
              "    }\n",
              "\n",
              "    .dataframe tbody tr th {\n",
              "        vertical-align: top;\n",
              "    }\n",
              "\n",
              "    .dataframe thead th {\n",
              "        text-align: right;\n",
              "    }\n",
              "</style>\n",
              "<table border=\"1\" class=\"dataframe\">\n",
              "  <thead>\n",
              "    <tr style=\"text-align: right;\">\n",
              "      <th></th>\n",
              "      <th>duration</th>\n",
              "    </tr>\n",
              "  </thead>\n",
              "  <tbody>\n",
              "    <tr>\n",
              "      <th>37863</th>\n",
              "      <td>1.32</td>\n",
              "    </tr>\n",
              "    <tr>\n",
              "      <th>14399</th>\n",
              "      <td>1.32</td>\n",
              "    </tr>\n",
              "    <tr>\n",
              "      <th>32346</th>\n",
              "      <td>1.44</td>\n",
              "    </tr>\n",
              "    <tr>\n",
              "      <th>21959</th>\n",
              "      <td>1.76</td>\n",
              "    </tr>\n",
              "    <tr>\n",
              "      <th>7784</th>\n",
              "      <td>1.80</td>\n",
              "    </tr>\n",
              "  </tbody>\n",
              "</table>\n",
              "</div>"
            ],
            "text/plain": [
              "       duration\n",
              "37863      1.32\n",
              "14399      1.32\n",
              "32346      1.44\n",
              "21959      1.76\n",
              "7784       1.80"
            ]
          },
          "metadata": {
            "tags": []
          },
          "execution_count": 65
        }
      ]
    },
    {
      "cell_type": "markdown",
      "metadata": {
        "id": "MVBccEMor7hO"
      },
      "source": [
        "## 统计句子长度"
      ]
    },
    {
      "cell_type": "code",
      "metadata": {
        "id": "T30qADyNtVv0"
      },
      "source": [
        "sentences_length = file_list['text'].map(lambda x: len(x.replace(' ', '')))\n",
        "sentences_length = pd.DataFrame(sentences_length)\n",
        "sentences_length.rename(columns={'text': 'length'}, inplace=True)\n",
        "sentences_length = sentences_length.sort_values('length', ascending=False)"
      ],
      "execution_count": null,
      "outputs": []
    },
    {
      "cell_type": "markdown",
      "metadata": {
        "id": "izdfhvCuufnq"
      },
      "source": [
        "总字数"
      ]
    },
    {
      "cell_type": "code",
      "metadata": {
        "colab": {
          "base_uri": "https://localhost:8080/"
        },
        "id": "qpmeWn0Gt8Ea",
        "outputId": "8e5cdd84-8ceb-491b-948c-e0dcd9fa0a5c"
      },
      "source": [
        "sentences_length.sum()"
      ],
      "execution_count": null,
      "outputs": [
        {
          "output_type": "execute_result",
          "data": {
            "text/plain": [
              "length    1052203\n",
              "dtype: int64"
            ]
          },
          "metadata": {
            "tags": []
          },
          "execution_count": 79
        }
      ]
    },
    {
      "cell_type": "markdown",
      "metadata": {
        "id": "-c4WNyALutc6"
      },
      "source": [
        "总体特征"
      ]
    },
    {
      "cell_type": "code",
      "metadata": {
        "colab": {
          "base_uri": "https://localhost:8080/",
          "height": 297
        },
        "id": "4fBavUK9ujba",
        "outputId": "e7646026-4cef-472e-d279-1f3c3bb6283d"
      },
      "source": [
        "sentences_length.describe()"
      ],
      "execution_count": null,
      "outputs": [
        {
          "output_type": "execute_result",
          "data": {
            "text/html": [
              "<div>\n",
              "<style scoped>\n",
              "    .dataframe tbody tr th:only-of-type {\n",
              "        vertical-align: middle;\n",
              "    }\n",
              "\n",
              "    .dataframe tbody tr th {\n",
              "        vertical-align: top;\n",
              "    }\n",
              "\n",
              "    .dataframe thead th {\n",
              "        text-align: right;\n",
              "    }\n",
              "</style>\n",
              "<table border=\"1\" class=\"dataframe\">\n",
              "  <thead>\n",
              "    <tr style=\"text-align: right;\">\n",
              "      <th></th>\n",
              "      <th>length</th>\n",
              "    </tr>\n",
              "  </thead>\n",
              "  <tbody>\n",
              "    <tr>\n",
              "      <th>count</th>\n",
              "      <td>50902.000000</td>\n",
              "    </tr>\n",
              "    <tr>\n",
              "      <th>mean</th>\n",
              "      <td>20.671152</td>\n",
              "    </tr>\n",
              "    <tr>\n",
              "      <th>std</th>\n",
              "      <td>4.177179</td>\n",
              "    </tr>\n",
              "    <tr>\n",
              "      <th>min</th>\n",
              "      <td>1.000000</td>\n",
              "    </tr>\n",
              "    <tr>\n",
              "      <th>25%</th>\n",
              "      <td>18.000000</td>\n",
              "    </tr>\n",
              "    <tr>\n",
              "      <th>50%</th>\n",
              "      <td>20.000000</td>\n",
              "    </tr>\n",
              "    <tr>\n",
              "      <th>75%</th>\n",
              "      <td>23.000000</td>\n",
              "    </tr>\n",
              "    <tr>\n",
              "      <th>max</th>\n",
              "      <td>35.000000</td>\n",
              "    </tr>\n",
              "  </tbody>\n",
              "</table>\n",
              "</div>"
            ],
            "text/plain": [
              "             length\n",
              "count  50902.000000\n",
              "mean      20.671152\n",
              "std        4.177179\n",
              "min        1.000000\n",
              "25%       18.000000\n",
              "50%       20.000000\n",
              "75%       23.000000\n",
              "max       35.000000"
            ]
          },
          "metadata": {
            "tags": []
          },
          "execution_count": 80
        }
      ]
    },
    {
      "cell_type": "markdown",
      "metadata": {
        "id": "pT5k3SN2vrJr"
      },
      "source": [
        "长度分布"
      ]
    },
    {
      "cell_type": "code",
      "metadata": {
        "colab": {
          "base_uri": "https://localhost:8080/",
          "height": 338
        },
        "id": "4FQ120PRvscJ",
        "outputId": "b82d0ce6-1739-4f97-ca69-64000858d988"
      },
      "source": [
        "sentences_length.plot.hist(bins=20, figsize=(10, 5))\n",
        "plt.ylabel('number')"
      ],
      "execution_count": null,
      "outputs": [
        {
          "output_type": "execute_result",
          "data": {
            "text/plain": [
              "Text(0, 0.5, 'number')"
            ]
          },
          "metadata": {
            "tags": []
          },
          "execution_count": 81
        },
        {
          "output_type": "display_data",
          "data": {
            "image/png": "[encoded data removed]",
            "text/plain": [
              "<Figure size 720x360 with 1 Axes>"
            ]
          },
          "metadata": {
            "tags": [],
            "needs_background": "light"
          }
        }
      ]
    },
    {
      "cell_type": "markdown",
      "metadata": {
        "id": "wmnITuGXuxeS"
      },
      "source": [
        "最长的 5 条句子"
      ]
    },
    {
      "cell_type": "code",
      "metadata": {
        "colab": {
          "base_uri": "https://localhost:8080/",
          "height": 204
        },
        "id": "UiTKi2qlu2rL",
        "outputId": "91fcad8c-835c-4f01-a801-5ec024e29050"
      },
      "source": [
        "sentences_length.head()"
      ],
      "execution_count": null,
      "outputs": [
        {
          "output_type": "execute_result",
          "data": {
            "text/html": [
              "<div>\n",
              "<style scoped>\n",
              "    .dataframe tbody tr th:only-of-type {\n",
              "        vertical-align: middle;\n",
              "    }\n",
              "\n",
              "    .dataframe tbody tr th {\n",
              "        vertical-align: top;\n",
              "    }\n",
              "\n",
              "    .dataframe thead th {\n",
              "        text-align: right;\n",
              "    }\n",
              "</style>\n",
              "<table border=\"1\" class=\"dataframe\">\n",
              "  <thead>\n",
              "    <tr style=\"text-align: right;\">\n",
              "      <th></th>\n",
              "      <th>length</th>\n",
              "    </tr>\n",
              "  </thead>\n",
              "  <tbody>\n",
              "    <tr>\n",
              "      <th>31750</th>\n",
              "      <td>35</td>\n",
              "    </tr>\n",
              "    <tr>\n",
              "      <th>20309</th>\n",
              "      <td>35</td>\n",
              "    </tr>\n",
              "    <tr>\n",
              "      <th>34280</th>\n",
              "      <td>35</td>\n",
              "    </tr>\n",
              "    <tr>\n",
              "      <th>25335</th>\n",
              "      <td>35</td>\n",
              "    </tr>\n",
              "    <tr>\n",
              "      <th>3119</th>\n",
              "      <td>35</td>\n",
              "    </tr>\n",
              "  </tbody>\n",
              "</table>\n",
              "</div>"
            ],
            "text/plain": [
              "       length\n",
              "31750      35\n",
              "20309      35\n",
              "34280      35\n",
              "25335      35\n",
              "3119       35"
            ]
          },
          "metadata": {
            "tags": []
          },
          "execution_count": 82
        }
      ]
    },
    {
      "cell_type": "markdown",
      "metadata": {
        "id": "y2xXiFRWZKw2"
      },
      "source": [
        "最短的 5 条句子"
      ]
    },
    {
      "cell_type": "code",
      "metadata": {
        "colab": {
          "base_uri": "https://localhost:8080/",
          "height": 204
        },
        "id": "ZjLQ0O1KZM7m",
        "outputId": "ffc1bf93-0f6a-4034-de60-a7b814d90a2b"
      },
      "source": [
        "sentences_length.tail().iloc[::-1]"
      ],
      "execution_count": null,
      "outputs": [
        {
          "output_type": "execute_result",
          "data": {
            "text/html": [
              "<div>\n",
              "<style scoped>\n",
              "    .dataframe tbody tr th:only-of-type {\n",
              "        vertical-align: middle;\n",
              "    }\n",
              "\n",
              "    .dataframe tbody tr th {\n",
              "        vertical-align: top;\n",
              "    }\n",
              "\n",
              "    .dataframe thead th {\n",
              "        text-align: right;\n",
              "    }\n",
              "</style>\n",
              "<table border=\"1\" class=\"dataframe\">\n",
              "  <thead>\n",
              "    <tr style=\"text-align: right;\">\n",
              "      <th></th>\n",
              "      <th>length</th>\n",
              "    </tr>\n",
              "  </thead>\n",
              "  <tbody>\n",
              "    <tr>\n",
              "      <th>14399</th>\n",
              "      <td>1</td>\n",
              "    </tr>\n",
              "    <tr>\n",
              "      <th>37863</th>\n",
              "      <td>2</td>\n",
              "    </tr>\n",
              "    <tr>\n",
              "      <th>37078</th>\n",
              "      <td>3</td>\n",
              "    </tr>\n",
              "    <tr>\n",
              "      <th>46263</th>\n",
              "      <td>3</td>\n",
              "    </tr>\n",
              "    <tr>\n",
              "      <th>15786</th>\n",
              "      <td>3</td>\n",
              "    </tr>\n",
              "  </tbody>\n",
              "</table>\n",
              "</div>"
            ],
            "text/plain": [
              "       length\n",
              "14399       1\n",
              "37863       2\n",
              "37078       3\n",
              "46263       3\n",
              "15786       3"
            ]
          },
          "metadata": {
            "tags": []
          },
          "execution_count": 83
        }
      ]
    },
    {
      "cell_type": "markdown",
      "metadata": {
        "id": "R-cypVniwHSR"
      },
      "source": [
        "## 统计语速变化"
      ]
    },
    {
      "cell_type": "code",
      "metadata": {
        "id": "aDOceOQ9wTmw"
      },
      "source": [
        "speed_change = audio_duration['duration'] / sentences_length['length'] * 1000\n",
        "speed_change = pd.DataFrame(speed_change, columns=['speed (ms)'])\n",
        "speed_change = speed_change.sort_values('speed (ms)', ascending=False)"
      ],
      "execution_count": null,
      "outputs": []
    },
    {
      "cell_type": "markdown",
      "metadata": {
        "id": "iFmTrJ0OzpYt"
      },
      "source": [
        "总体特征"
      ]
    },
    {
      "cell_type": "code",
      "metadata": {
        "colab": {
          "base_uri": "https://localhost:8080/",
          "height": 297
        },
        "id": "knR20-tOyI5P",
        "outputId": "6fec55ba-e348-467a-b5ea-61904ccf10d1"
      },
      "source": [
        "speed_change.describe()"
      ],
      "execution_count": null,
      "outputs": [
        {
          "output_type": "execute_result",
          "data": {
            "text/html": [
              "<div>\n",
              "<style scoped>\n",
              "    .dataframe tbody tr th:only-of-type {\n",
              "        vertical-align: middle;\n",
              "    }\n",
              "\n",
              "    .dataframe tbody tr th {\n",
              "        vertical-align: top;\n",
              "    }\n",
              "\n",
              "    .dataframe thead th {\n",
              "        text-align: right;\n",
              "    }\n",
              "</style>\n",
              "<table border=\"1\" class=\"dataframe\">\n",
              "  <thead>\n",
              "    <tr style=\"text-align: right;\">\n",
              "      <th></th>\n",
              "      <th>speed (ms)</th>\n",
              "    </tr>\n",
              "  </thead>\n",
              "  <tbody>\n",
              "    <tr>\n",
              "      <th>count</th>\n",
              "      <td>50902.000000</td>\n",
              "    </tr>\n",
              "    <tr>\n",
              "      <th>mean</th>\n",
              "      <td>345.545876</td>\n",
              "    </tr>\n",
              "    <tr>\n",
              "      <th>std</th>\n",
              "      <td>87.517012</td>\n",
              "    </tr>\n",
              "    <tr>\n",
              "      <th>min</th>\n",
              "      <td>147.692308</td>\n",
              "    </tr>\n",
              "    <tr>\n",
              "      <th>25%</th>\n",
              "      <td>283.478261</td>\n",
              "    </tr>\n",
              "    <tr>\n",
              "      <th>50%</th>\n",
              "      <td>331.225000</td>\n",
              "    </tr>\n",
              "    <tr>\n",
              "      <th>75%</th>\n",
              "      <td>392.000000</td>\n",
              "    </tr>\n",
              "    <tr>\n",
              "      <th>max</th>\n",
              "      <td>1320.000000</td>\n",
              "    </tr>\n",
              "  </tbody>\n",
              "</table>\n",
              "</div>"
            ],
            "text/plain": [
              "         speed (ms)\n",
              "count  50902.000000\n",
              "mean     345.545876\n",
              "std       87.517012\n",
              "min      147.692308\n",
              "25%      283.478261\n",
              "50%      331.225000\n",
              "75%      392.000000\n",
              "max     1320.000000"
            ]
          },
          "metadata": {
            "tags": []
          },
          "execution_count": 87
        }
      ]
    },
    {
      "cell_type": "markdown",
      "metadata": {
        "id": "GHcp9q6vzzZs"
      },
      "source": [
        "语速分布"
      ]
    },
    {
      "cell_type": "code",
      "metadata": {
        "colab": {
          "base_uri": "https://localhost:8080/",
          "height": 320
        },
        "id": "539V5oZ2z1Ct",
        "outputId": "a208fb00-4c56-4ae3-ef5f-a549226c0efc"
      },
      "source": [
        "speed_change.plot.hist(bins=50, figsize=(15, 5))\n",
        "plt.ylabel('number')\n",
        "plt.gca().xaxis.set_major_formatter(mticker.FormatStrFormatter('%.1f ms'))"
      ],
      "execution_count": null,
      "outputs": [
        {
          "output_type": "display_data",
          "data": {
            "image/png": "[encoded data removed]",
            "text/plain": [
              "<Figure size 1080x360 with 1 Axes>"
            ]
          },
          "metadata": {
            "tags": [],
            "needs_background": "light"
          }
        }
      ]
    },
    {
      "cell_type": "markdown",
      "metadata": {
        "id": "RoaLG2bY0PK7"
      },
      "source": [
        "语速最快的 5 条音频"
      ]
    },
    {
      "cell_type": "code",
      "metadata": {
        "colab": {
          "base_uri": "https://localhost:8080/",
          "height": 204
        },
        "id": "AEqj_18Y0Zi0",
        "outputId": "47d934ce-8937-416e-f698-8b8ac7aee4fa"
      },
      "source": [
        "speed_change.tail().iloc[::-1]"
      ],
      "execution_count": null,
      "outputs": [
        {
          "output_type": "execute_result",
          "data": {
            "text/html": [
              "<div>\n",
              "<style scoped>\n",
              "    .dataframe tbody tr th:only-of-type {\n",
              "        vertical-align: middle;\n",
              "    }\n",
              "\n",
              "    .dataframe tbody tr th {\n",
              "        vertical-align: top;\n",
              "    }\n",
              "\n",
              "    .dataframe thead th {\n",
              "        text-align: right;\n",
              "    }\n",
              "</style>\n",
              "<table border=\"1\" class=\"dataframe\">\n",
              "  <thead>\n",
              "    <tr style=\"text-align: right;\">\n",
              "      <th></th>\n",
              "      <th>speed (ms)</th>\n",
              "    </tr>\n",
              "  </thead>\n",
              "  <tbody>\n",
              "    <tr>\n",
              "      <th>42385</th>\n",
              "      <td>147.692308</td>\n",
              "    </tr>\n",
              "    <tr>\n",
              "      <th>41688</th>\n",
              "      <td>154.285714</td>\n",
              "    </tr>\n",
              "    <tr>\n",
              "      <th>40858</th>\n",
              "      <td>157.500000</td>\n",
              "    </tr>\n",
              "    <tr>\n",
              "      <th>14873</th>\n",
              "      <td>160.000000</td>\n",
              "    </tr>\n",
              "    <tr>\n",
              "      <th>41276</th>\n",
              "      <td>161.250000</td>\n",
              "    </tr>\n",
              "  </tbody>\n",
              "</table>\n",
              "</div>"
            ],
            "text/plain": [
              "       speed (ms)\n",
              "42385  147.692308\n",
              "41688  154.285714\n",
              "40858  157.500000\n",
              "14873  160.000000\n",
              "41276  161.250000"
            ]
          },
          "metadata": {
            "tags": []
          },
          "execution_count": 89
        }
      ]
    },
    {
      "cell_type": "markdown",
      "metadata": {
        "id": "czGTiUXw0v_r"
      },
      "source": [
        "语速最慢的 5 条音频"
      ]
    },
    {
      "cell_type": "code",
      "metadata": {
        "colab": {
          "base_uri": "https://localhost:8080/",
          "height": 204
        },
        "id": "ixSrwyUkzMAV",
        "outputId": "00d392b9-f876-4860-f35a-e401a6367e71"
      },
      "source": [
        "speed_change.head()"
      ],
      "execution_count": null,
      "outputs": [
        {
          "output_type": "execute_result",
          "data": {
            "text/html": [
              "<div>\n",
              "<style scoped>\n",
              "    .dataframe tbody tr th:only-of-type {\n",
              "        vertical-align: middle;\n",
              "    }\n",
              "\n",
              "    .dataframe tbody tr th {\n",
              "        vertical-align: top;\n",
              "    }\n",
              "\n",
              "    .dataframe thead th {\n",
              "        text-align: right;\n",
              "    }\n",
              "</style>\n",
              "<table border=\"1\" class=\"dataframe\">\n",
              "  <thead>\n",
              "    <tr style=\"text-align: right;\">\n",
              "      <th></th>\n",
              "      <th>speed (ms)</th>\n",
              "    </tr>\n",
              "  </thead>\n",
              "  <tbody>\n",
              "    <tr>\n",
              "      <th>14399</th>\n",
              "      <td>1320.000000</td>\n",
              "    </tr>\n",
              "    <tr>\n",
              "      <th>40006</th>\n",
              "      <td>1114.285714</td>\n",
              "    </tr>\n",
              "    <tr>\n",
              "      <th>19530</th>\n",
              "      <td>1072.000000</td>\n",
              "    </tr>\n",
              "    <tr>\n",
              "      <th>46263</th>\n",
              "      <td>1060.000000</td>\n",
              "    </tr>\n",
              "    <tr>\n",
              "      <th>26026</th>\n",
              "      <td>1029.473684</td>\n",
              "    </tr>\n",
              "  </tbody>\n",
              "</table>\n",
              "</div>"
            ],
            "text/plain": [
              "        speed (ms)\n",
              "14399  1320.000000\n",
              "40006  1114.285714\n",
              "19530  1072.000000\n",
              "46263  1060.000000\n",
              "26026  1029.473684"
            ]
          },
          "metadata": {
            "tags": []
          },
          "execution_count": 96
        }
      ]
    },
    {
      "cell_type": "markdown",
      "metadata": {
        "id": "GtsiaMTRmuFb"
      },
      "source": [
        "## 统计发音覆盖范围"
      ]
    },
    {
      "cell_type": "markdown",
      "metadata": {
        "id": "YIkhK9oF4hW_"
      },
      "source": [
        "### 5 种声调的分布情况"
      ]
    },
    {
      "cell_type": "code",
      "metadata": {
        "id": "86zza7NlpuM4"
      },
      "source": [
        "pinyin_distribution = dict()\n",
        "\n",
        "for words in file_list['text']:\n",
        "  pinyins = lazy_pinyin(words, Style.TONE3, neutral_tone_with_five=True)\n",
        "  for i in pinyins:\n",
        "    if i in pinyin_distribution:\n",
        "      pinyin_distribution[i] +=1 \n",
        "    else:\n",
        "      pinyin_distribution[i] = 1\n",
        "\n",
        "pinyin_distribution.pop(' ')\n",
        "pinyin_distribution = pd.DataFrame.from_dict(pinyin_distribution, orient='index', columns=['number'])\n",
        "pinyin_distribution = pinyin_distribution.sort_values('number', ascending=False)"
      ],
      "execution_count": null,
      "outputs": []
    },
    {
      "cell_type": "markdown",
      "metadata": {
        "id": "WcwBIo0v26Hx"
      },
      "source": [
        "总体特征"
      ]
    },
    {
      "cell_type": "code",
      "metadata": {
        "colab": {
          "base_uri": "https://localhost:8080/",
          "height": 297
        },
        "id": "wJjBRLFcrQ-v",
        "outputId": "bef54983-11c5-443c-98e9-40df68a74494"
      },
      "source": [
        "# 从结果来看，这个数据集并没有覆盖到所有的发音，一个使用4种声调的拼音表有1644种发音，而这里使用5种声调却只有1222种\n",
        "pinyin_distribution.describe()"
      ],
      "execution_count": null,
      "outputs": [
        {
          "output_type": "execute_result",
          "data": {
            "text/html": [
              "<div>\n",
              "<style scoped>\n",
              "    .dataframe tbody tr th:only-of-type {\n",
              "        vertical-align: middle;\n",
              "    }\n",
              "\n",
              "    .dataframe tbody tr th {\n",
              "        vertical-align: top;\n",
              "    }\n",
              "\n",
              "    .dataframe thead th {\n",
              "        text-align: right;\n",
              "    }\n",
              "</style>\n",
              "<table border=\"1\" class=\"dataframe\">\n",
              "  <thead>\n",
              "    <tr style=\"text-align: right;\">\n",
              "      <th></th>\n",
              "      <th>number</th>\n",
              "    </tr>\n",
              "  </thead>\n",
              "  <tbody>\n",
              "    <tr>\n",
              "      <th>count</th>\n",
              "      <td>1222.000000</td>\n",
              "    </tr>\n",
              "    <tr>\n",
              "      <th>mean</th>\n",
              "      <td>861.049918</td>\n",
              "    </tr>\n",
              "    <tr>\n",
              "      <th>std</th>\n",
              "      <td>1830.654031</td>\n",
              "    </tr>\n",
              "    <tr>\n",
              "      <th>min</th>\n",
              "      <td>1.000000</td>\n",
              "    </tr>\n",
              "    <tr>\n",
              "      <th>25%</th>\n",
              "      <td>47.250000</td>\n",
              "    </tr>\n",
              "    <tr>\n",
              "      <th>50%</th>\n",
              "      <td>243.500000</td>\n",
              "    </tr>\n",
              "    <tr>\n",
              "      <th>75%</th>\n",
              "      <td>894.750000</td>\n",
              "    </tr>\n",
              "    <tr>\n",
              "      <th>max</th>\n",
              "      <td>30067.000000</td>\n",
              "    </tr>\n",
              "  </tbody>\n",
              "</table>\n",
              "</div>"
            ],
            "text/plain": [
              "             number\n",
              "count   1222.000000\n",
              "mean     861.049918\n",
              "std     1830.654031\n",
              "min        1.000000\n",
              "25%       47.250000\n",
              "50%      243.500000\n",
              "75%      894.750000\n",
              "max    30067.000000"
            ]
          },
          "metadata": {
            "tags": []
          },
          "execution_count": 111
        }
      ]
    },
    {
      "cell_type": "markdown",
      "metadata": {
        "id": "BhmSKKug34Tf"
      },
      "source": [
        "发音分布"
      ]
    },
    {
      "cell_type": "code",
      "metadata": {
        "colab": {
          "base_uri": "https://localhost:8080/",
          "height": 338
        },
        "id": "LczICnlj35yQ",
        "outputId": "476546b3-7dbc-4142-9b3e-98c6b715d592"
      },
      "source": [
        "pinyin_distribution.plot.hist(bins=30, figsize=(10, 5))\n",
        "plt.ylabel('number')"
      ],
      "execution_count": null,
      "outputs": [
        {
          "output_type": "execute_result",
          "data": {
            "text/plain": [
              "Text(0, 0.5, 'number')"
            ]
          },
          "metadata": {
            "tags": []
          },
          "execution_count": 112
        },
        {
          "output_type": "display_data",
          "data": {
            "image/png": "[encoded data removed]",
            "text/plain": [
              "<Figure size 720x360 with 1 Axes>"
            ]
          },
          "metadata": {
            "tags": [],
            "needs_background": "light"
          }
        }
      ]
    },
    {
      "cell_type": "markdown",
      "metadata": {
        "id": "19bZnRNt4ps2"
      },
      "source": [
        "出现次数前 5 的发音"
      ]
    },
    {
      "cell_type": "code",
      "metadata": {
        "colab": {
          "base_uri": "https://localhost:8080/",
          "height": 204
        },
        "id": "zE8QR2p14sum",
        "outputId": "d98560f5-e2bb-48bd-f12c-33515b50666d"
      },
      "source": [
        "pinyin_distribution.head()"
      ],
      "execution_count": null,
      "outputs": [
        {
          "output_type": "execute_result",
          "data": {
            "text/html": [
              "<div>\n",
              "<style scoped>\n",
              "    .dataframe tbody tr th:only-of-type {\n",
              "        vertical-align: middle;\n",
              "    }\n",
              "\n",
              "    .dataframe tbody tr th {\n",
              "        vertical-align: top;\n",
              "    }\n",
              "\n",
              "    .dataframe thead th {\n",
              "        text-align: right;\n",
              "    }\n",
              "</style>\n",
              "<table border=\"1\" class=\"dataframe\">\n",
              "  <thead>\n",
              "    <tr style=\"text-align: right;\">\n",
              "      <th></th>\n",
              "      <th>number</th>\n",
              "    </tr>\n",
              "  </thead>\n",
              "  <tbody>\n",
              "    <tr>\n",
              "      <th>de5</th>\n",
              "      <td>30067</td>\n",
              "    </tr>\n",
              "    <tr>\n",
              "      <th>shi2</th>\n",
              "      <td>19488</td>\n",
              "    </tr>\n",
              "    <tr>\n",
              "      <th>shi4</th>\n",
              "      <td>18969</td>\n",
              "    </tr>\n",
              "    <tr>\n",
              "      <th>yi1</th>\n",
              "      <td>16890</td>\n",
              "    </tr>\n",
              "    <tr>\n",
              "      <th>er4</th>\n",
              "      <td>9977</td>\n",
              "    </tr>\n",
              "  </tbody>\n",
              "</table>\n",
              "</div>"
            ],
            "text/plain": [
              "      number\n",
              "de5    30067\n",
              "shi2   19488\n",
              "shi4   18969\n",
              "yi1    16890\n",
              "er4     9977"
            ]
          },
          "metadata": {
            "tags": []
          },
          "execution_count": 113
        }
      ]
    },
    {
      "cell_type": "markdown",
      "metadata": {
        "id": "VKo9FbHV4yEX"
      },
      "source": [
        "### 去除声调后的分布情况"
      ]
    },
    {
      "cell_type": "code",
      "metadata": {
        "id": "vlzkV7Q15SC4"
      },
      "source": [
        "pinyin_distribution_without_intonation = dict()\n",
        "\n",
        "for words in file_list['text']:\n",
        "  pinyins = lazy_pinyin(words)\n",
        "  for i in pinyins:\n",
        "    if i in pinyin_distribution_without_intonation:\n",
        "      pinyin_distribution_without_intonation[i] +=1 \n",
        "    else:\n",
        "      pinyin_distribution_without_intonation[i] = 1\n",
        "\n",
        "pinyin_distribution_without_intonation.pop(' ')\n",
        "pinyin_distribution_without_intonation = pd.DataFrame.from_dict(pinyin_distribution_without_intonation, orient='index', columns=['number'])\n",
        "pinyin_distribution_without_intonation = pinyin_distribution_without_intonation.sort_values('number', ascending=False)"
      ],
      "execution_count": null,
      "outputs": []
    },
    {
      "cell_type": "markdown",
      "metadata": {
        "id": "j3yWuNY65sOm"
      },
      "source": [
        "总体特征"
      ]
    },
    {
      "cell_type": "code",
      "metadata": {
        "colab": {
          "base_uri": "https://localhost:8080/",
          "height": 297
        },
        "id": "P4yDpRcB5c5I",
        "outputId": "7963e5a6-37b9-438d-fb46-3004b2ce708a"
      },
      "source": [
        "# 从结果来看，不带声调的发音覆盖的比较好，不带声调的拼音表有411种发音，这里有402种\n",
        "pinyin_distribution_without_intonation.describe()"
      ],
      "execution_count": null,
      "outputs": [
        {
          "output_type": "execute_result",
          "data": {
            "text/html": [
              "<div>\n",
              "<style scoped>\n",
              "    .dataframe tbody tr th:only-of-type {\n",
              "        vertical-align: middle;\n",
              "    }\n",
              "\n",
              "    .dataframe tbody tr th {\n",
              "        vertical-align: top;\n",
              "    }\n",
              "\n",
              "    .dataframe thead th {\n",
              "        text-align: right;\n",
              "    }\n",
              "</style>\n",
              "<table border=\"1\" class=\"dataframe\">\n",
              "  <thead>\n",
              "    <tr style=\"text-align: right;\">\n",
              "      <th></th>\n",
              "      <th>number</th>\n",
              "    </tr>\n",
              "  </thead>\n",
              "  <tbody>\n",
              "    <tr>\n",
              "      <th>count</th>\n",
              "      <td>402.000000</td>\n",
              "    </tr>\n",
              "    <tr>\n",
              "      <th>mean</th>\n",
              "      <td>2617.420398</td>\n",
              "    </tr>\n",
              "    <tr>\n",
              "      <th>std</th>\n",
              "      <td>4225.785600</td>\n",
              "    </tr>\n",
              "    <tr>\n",
              "      <th>min</th>\n",
              "      <td>3.000000</td>\n",
              "    </tr>\n",
              "    <tr>\n",
              "      <th>25%</th>\n",
              "      <td>351.500000</td>\n",
              "    </tr>\n",
              "    <tr>\n",
              "      <th>50%</th>\n",
              "      <td>1251.500000</td>\n",
              "    </tr>\n",
              "    <tr>\n",
              "      <th>75%</th>\n",
              "      <td>3185.500000</td>\n",
              "    </tr>\n",
              "    <tr>\n",
              "      <th>max</th>\n",
              "      <td>44198.000000</td>\n",
              "    </tr>\n",
              "  </tbody>\n",
              "</table>\n",
              "</div>"
            ],
            "text/plain": [
              "             number\n",
              "count    402.000000\n",
              "mean    2617.420398\n",
              "std     4225.785600\n",
              "min        3.000000\n",
              "25%      351.500000\n",
              "50%     1251.500000\n",
              "75%     3185.500000\n",
              "max    44198.000000"
            ]
          },
          "metadata": {
            "tags": []
          },
          "execution_count": 115
        }
      ]
    },
    {
      "cell_type": "markdown",
      "metadata": {
        "id": "9DN2Kb1l6KAl"
      },
      "source": [
        "发音分布"
      ]
    },
    {
      "cell_type": "code",
      "metadata": {
        "colab": {
          "base_uri": "https://localhost:8080/",
          "height": 338
        },
        "id": "Dn-SPrXY6J5b",
        "outputId": "8969635f-e618-4788-e192-da43cb46bc3a"
      },
      "source": [
        "pinyin_distribution_without_intonation.plot.hist(bins=30, figsize=(10, 5))\n",
        "plt.ylabel('number')"
      ],
      "execution_count": null,
      "outputs": [
        {
          "output_type": "execute_result",
          "data": {
            "text/plain": [
              "Text(0, 0.5, 'number')"
            ]
          },
          "metadata": {
            "tags": []
          },
          "execution_count": 116
        },
        {
          "output_type": "display_data",
          "data": {
            "image/png": "[encoded data removed]",
            "text/plain": [
              "<Figure size 720x360 with 1 Axes>"
            ]
          },
          "metadata": {
            "tags": [],
            "needs_background": "light"
          }
        }
      ]
    },
    {
      "cell_type": "markdown",
      "metadata": {
        "id": "a4dRpv4K6dZt"
      },
      "source": [
        "出现次数前 5 的发音"
      ]
    },
    {
      "cell_type": "code",
      "metadata": {
        "colab": {
          "base_uri": "https://localhost:8080/",
          "height": 204
        },
        "id": "A7qTRdca6fIU",
        "outputId": "7d91993c-7a06-4395-e34a-685d4f855f8a"
      },
      "source": [
        "pinyin_distribution_without_intonation.head()"
      ],
      "execution_count": null,
      "outputs": [
        {
          "output_type": "execute_result",
          "data": {
            "text/html": [
              "<div>\n",
              "<style scoped>\n",
              "    .dataframe tbody tr th:only-of-type {\n",
              "        vertical-align: middle;\n",
              "    }\n",
              "\n",
              "    .dataframe tbody tr th {\n",
              "        vertical-align: top;\n",
              "    }\n",
              "\n",
              "    .dataframe thead th {\n",
              "        text-align: right;\n",
              "    }\n",
              "</style>\n",
              "<table border=\"1\" class=\"dataframe\">\n",
              "  <thead>\n",
              "    <tr style=\"text-align: right;\">\n",
              "      <th></th>\n",
              "      <th>number</th>\n",
              "    </tr>\n",
              "  </thead>\n",
              "  <tbody>\n",
              "    <tr>\n",
              "      <th>shi</th>\n",
              "      <td>44198</td>\n",
              "    </tr>\n",
              "    <tr>\n",
              "      <th>yi</th>\n",
              "      <td>34313</td>\n",
              "    </tr>\n",
              "    <tr>\n",
              "      <th>de</th>\n",
              "      <td>32403</td>\n",
              "    </tr>\n",
              "    <tr>\n",
              "      <th>zhi</th>\n",
              "      <td>18927</td>\n",
              "    </tr>\n",
              "    <tr>\n",
              "      <th>ji</th>\n",
              "      <td>17296</td>\n",
              "    </tr>\n",
              "  </tbody>\n",
              "</table>\n",
              "</div>"
            ],
            "text/plain": [
              "     number\n",
              "shi   44198\n",
              "yi    34313\n",
              "de    32403\n",
              "zhi   18927\n",
              "ji    17296"
            ]
          },
          "metadata": {
            "tags": []
          },
          "execution_count": 117
        }
      ]
    }
  ]
}