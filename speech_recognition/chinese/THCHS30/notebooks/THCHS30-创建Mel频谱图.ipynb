{
  "nbformat": 4,
  "nbformat_minor": 0,
  "metadata": {
    "colab": {
      "name": "THCHS30-创建Mel频谱图.ipynb",
      "provenance": [],
      "collapsed_sections": [],
      "toc_visible": true
    },
    "kernelspec": {
      "name": "python3",
      "display_name": "Python 3"
    },
    "language_info": {
      "name": "python"
    }
  },
  "cells": [
    {
      "cell_type": "markdown",
      "metadata": {
        "id": "ibN8jtCiZBW-"
      },
      "source": [
        "# THCHS30 - 创建 Mel 频谱图\n",
        "\n",
        "音频经过了以下变换：\n",
        "\n",
        "1. 采样率与原始音频保持一致 `16000hz`\n",
        "1. `win_length` 设置为 `100ms`，`hop_length` 设置为 `50ms`\n",
        "1. Mel 频谱图 [filter-bank](https://librosa.org/doc/latest/generated/librosa.filters.mel.html) 选择 `80`\n",
        "1. 将 Mel 频谱图转换成 [power spectrogram](https://librosa.org/doc/latest/generated/librosa.power_to_db.html)\n",
        "1. 将取值范围调整到 `[0, 1]`\n",
        "\n",
        "文本经过以下变换：\n",
        "\n",
        "1. 拼音经过 [拼音字典](https://github.com/wu-jingtao/training-data/blob/master/speech_recognition/chinese/拼音字典/README.md) 转换成对应的数字索引"
      ]
    },
    {
      "cell_type": "code",
      "metadata": {
        "id": "IatKRwnUYbzQ"
      },
      "source": [
        "import os\n",
        "import re\n",
        "import json\n",
        "import glob\n",
        "import datetime\n",
        "import random\n",
        "import librosa\n",
        "import librosa.display\n",
        "import numpy as np\n",
        "import tensorflow as tf\n",
        "import matplotlib.pyplot as plt\n",
        "import IPython.display as ipd\n",
        "from tqdm import tqdm"
      ],
      "execution_count": 20,
      "outputs": []
    },
    {
      "cell_type": "markdown",
      "metadata": {
        "id": "WIhDQwRIZvEy"
      },
      "source": [
        "## 挂载 Google Drive"
      ]
    },
    {
      "cell_type": "code",
      "metadata": {
        "colab": {
          "base_uri": "https://localhost:8080/"
        },
        "id": "wx0Bb8gtZuYt",
        "outputId": "7d467ac6-1615-4910-892d-475998d6b003"
      },
      "source": [
        "from google.colab import drive\n",
        "drive.mount('/content/drive')"
      ],
      "execution_count": 2,
      "outputs": [
        {
          "output_type": "stream",
          "text": [
            "Mounted at /content/drive\n"
          ],
          "name": "stdout"
        }
      ]
    },
    {
      "cell_type": "markdown",
      "metadata": {
        "id": "JHG9JZ4ZZ0Vy"
      },
      "source": [
        "## 解压数据\n",
        "\n",
        "数据来自：[THCHS30数据下载.ipynb](https://github.com/wu-jingtao/training-data/blob/master/speech_recognition/chinese/THCHS30/notebooks/THCHS30数据下载.ipynb)"
      ]
    },
    {
      "cell_type": "code",
      "metadata": {
        "id": "OnKi4kxaV2-3"
      },
      "source": [
        "!tar zxvf /content/drive/Shareddrives/TeamDrive_top_edu/原始数据/THCHS30/data_thchs30.tgz > unzip_log.txt"
      ],
      "execution_count": 3,
      "outputs": []
    },
    {
      "cell_type": "code",
      "metadata": {
        "id": "GLhwH0PLZ1na"
      },
      "source": [
        "!tar zxvf /content/drive/Shareddrives/TeamDrive_top_edu/原始数据/THCHS30/test-noise.tgz > unzip_noise_log.txt"
      ],
      "execution_count": 4,
      "outputs": []
    },
    {
      "cell_type": "markdown",
      "metadata": {
        "id": "KkF0Q0-SeLmd"
      },
      "source": [
        "## 加载拼音字典"
      ]
    },
    {
      "cell_type": "code",
      "metadata": {
        "id": "dGiWZ1D5eYFm"
      },
      "source": [
        "!wget https://raw.githubusercontent.com/wu-jingtao/training-data/master/speech_recognition/chinese/拼音字典/pinyin_mapper.json"
      ],
      "execution_count": null,
      "outputs": []
    },
    {
      "cell_type": "code",
      "metadata": {
        "id": "6RmPnTzVebD1"
      },
      "source": [
        "!wget https://raw.githubusercontent.com/wu-jingtao/training-data/master/speech_recognition/chinese/拼音字典/pinyin_mapper_without_intonation.json"
      ],
      "execution_count": null,
      "outputs": []
    },
    {
      "cell_type": "code",
      "metadata": {
        "id": "SEQoBgG1ecJV"
      },
      "source": [
        "with open('pinyin_mapper.json') as f:\n",
        "  pinyin_mapper = json.load(f)"
      ],
      "execution_count": 7,
      "outputs": []
    },
    {
      "cell_type": "code",
      "metadata": {
        "id": "zt5umAnwedaF"
      },
      "source": [
        "with open('pinyin_mapper_without_intonation.json') as f:\n",
        "  pinyin_mapper_without_intonation = json.load(f)"
      ],
      "execution_count": 8,
      "outputs": []
    },
    {
      "cell_type": "markdown",
      "metadata": {
        "id": "pV5UIdqgZThF"
      },
      "source": [
        "## 文件列表"
      ]
    },
    {
      "cell_type": "code",
      "metadata": {
        "id": "wfLFvvmuZVgl"
      },
      "source": [
        "audio_list = glob.glob('/content/data_thchs30/data/*.wav')\n",
        "noise_audio_list = glob.glob('/content/test-noise/0db/**/*.wav')"
      ],
      "execution_count": 9,
      "outputs": []
    },
    {
      "cell_type": "markdown",
      "metadata": {
        "id": "RK3FOh0yxZ1i"
      },
      "source": [
        "打乱列表"
      ]
    },
    {
      "cell_type": "code",
      "metadata": {
        "id": "MG_rPkw2xeln"
      },
      "source": [
        "random.shuffle(audio_list)\n",
        "random.shuffle(audio_list)\n",
        "random.shuffle(noise_audio_list)\n",
        "random.shuffle(noise_audio_list)"
      ],
      "execution_count": 11,
      "outputs": []
    },
    {
      "cell_type": "markdown",
      "metadata": {
        "id": "Cc3cpJhVxttI"
      },
      "source": [
        "查看效果"
      ]
    },
    {
      "cell_type": "code",
      "metadata": {
        "colab": {
          "base_uri": "https://localhost:8080/"
        },
        "id": "-pFv4tnyxvue",
        "outputId": "5d3b395e-0ac7-494b-a1a4-c6623d16c57c"
      },
      "source": [
        "noise_audio_list[:10]"
      ],
      "execution_count": 14,
      "outputs": [
        {
          "output_type": "execute_result",
          "data": {
            "text/plain": [
              "['/content/test-noise/0db/car/D21_877.wav',\n",
              " '/content/test-noise/0db/white/D31_872.wav',\n",
              " '/content/test-noise/0db/cafe/D13_942.wav',\n",
              " '/content/test-noise/0db/car/D4_882.wav',\n",
              " '/content/test-noise/0db/white/D31_938.wav',\n",
              " '/content/test-noise/0db/car/D11_839.wav',\n",
              " '/content/test-noise/0db/car/D32_805.wav',\n",
              " '/content/test-noise/0db/cafe/D7_998.wav',\n",
              " '/content/test-noise/0db/car/D13_919.wav',\n",
              " '/content/test-noise/0db/white/D7_780.wav']"
            ]
          },
          "metadata": {
            "tags": []
          },
          "execution_count": 14
        }
      ]
    },
    {
      "cell_type": "markdown",
      "metadata": {
        "id": "aRslkyR5dZOu"
      },
      "source": [
        "## 读取音频对应文本"
      ]
    },
    {
      "cell_type": "code",
      "metadata": {
        "id": "0dujQxqRhQdC"
      },
      "source": [
        "audio_words = dict()\n",
        "audio_pinyins = dict()\n",
        "\n",
        "for path in audio_list:\n",
        "  name = os.path.splitext(os.path.split(path)[1])[0]\n",
        "  with open(path + '.trn') as f:\n",
        "    words = next(f).strip()\n",
        "    words = list(filter(lambda x: x != ' ', words))\n",
        "    pinyins = next(f).strip().split(' ')\n",
        "    audio_words[name] = words\n",
        "    audio_pinyins[name] = pinyins"
      ],
      "execution_count": 15,
      "outputs": []
    },
    {
      "cell_type": "markdown",
      "metadata": {
        "id": "hHs2WHh9f1cU"
      },
      "source": [
        "## 构建 [Mel](https://librosa.org/doc/latest/generated/librosa.feature.melspectrogram.html) 频谱图"
      ]
    },
    {
      "cell_type": "code",
      "metadata": {
        "id": "2syulEwkiDF6"
      },
      "source": [
        "def get_melspectrogram(file_list):\n",
        "  def generator():\n",
        "    for path in file_list:\n",
        "      audio, sr = librosa.load(path, sr=None)\n",
        "      S = librosa.feature.melspectrogram(audio, sr, n_fft=sr//10, hop_length=sr//20, n_mels=80)\n",
        "      S_dB = librosa.power_to_db(S, ref=np.max) # 这里顺带做了音量统一\n",
        "      S_dB = (S_dB + 80) / 80\n",
        "      yield S_dB.T\n",
        "  return generator"
      ],
      "execution_count": 16,
      "outputs": []
    },
    {
      "cell_type": "code",
      "metadata": {
        "id": "ka5Kz4owbN87"
      },
      "source": [
        "mel = tf.data.Dataset.from_generator(get_melspectrogram(audio_list), output_signature=tf.TensorSpec(shape=(None, 80), dtype=tf.float32))\n",
        "noise_mel = tf.data.Dataset.from_generator(get_melspectrogram(noise_audio_list), output_signature=tf.TensorSpec(shape=(None, 80), dtype=tf.float32))"
      ],
      "execution_count": 17,
      "outputs": []
    },
    {
      "cell_type": "markdown",
      "metadata": {
        "id": "Xfp6fLB_qdnf"
      },
      "source": [
        "查看频谱图"
      ]
    },
    {
      "cell_type": "code",
      "metadata": {
        "colab": {
          "base_uri": "https://localhost:8080/",
          "height": 386
        },
        "id": "EqoSc4zwoA5u",
        "outputId": "866a714c-d4c5-4194-cb44-d800461f1976"
      },
      "source": [
        "sample_data = next(mel.as_numpy_iterator())\n",
        "print(f'数据形状 {sample_data.shape}')\n",
        "\n",
        "fig, ax = plt.subplots(figsize=(15, 5))\n",
        "img = librosa.display.specshow(sample_data.T, x_axis='time', y_axis='mel', sr=16000, ax=ax)\n",
        "fig.colorbar(img, ax=ax)\n",
        "ax.set(title='Mel-frequency spectrogram')"
      ],
      "execution_count": 18,
      "outputs": [
        {
          "output_type": "stream",
          "text": [
            "数据形状 (173, 80)\n"
          ],
          "name": "stdout"
        },
        {
          "output_type": "execute_result",
          "data": {
            "text/plain": [
              "[Text(0.5, 1.0, 'Mel-frequency spectrogram')]"
            ]
          },
          "metadata": {
            "tags": []
          },
          "execution_count": 18
        },
        {
          "output_type": "display_data",
          "data": {
            "image/png": "[encoded data removed]",
            "text/plain": [
              "<Figure size 1080x360 with 2 Axes>"
            ]
          },
          "metadata": {
            "tags": [],
            "needs_background": "light"
          }
        }
      ]
    },
    {
      "cell_type": "markdown",
      "metadata": {
        "id": "b2Lc53ATzBG9"
      },
      "source": [
        "查看音频"
      ]
    },
    {
      "cell_type": "code",
      "metadata": {
        "id": "CoL6yGnUzCud"
      },
      "source": [
        "# 由于是使用 Griffin-Lim 算法复原的所以效果不太好，但这并不会影响到语音识别\n",
        "sample_data = sample_data.T * 80 - 80\n",
        "sample_data = librosa.db_to_power(sample_data)\n",
        "sample_data = librosa.feature.inverse.mel_to_audio(sample_data, sr=16000, n_fft=16000//10, hop_length=16000//20)\n",
        "ipd.Audio(sample_data, rate=16000)"
      ],
      "execution_count": null,
      "outputs": []
    },
    {
      "cell_type": "markdown",
      "metadata": {
        "id": "WwMl3IRZhKdK"
      },
      "source": [
        "## 构建文本"
      ]
    },
    {
      "cell_type": "code",
      "metadata": {
        "id": "DdtKknZE-tHA"
      },
      "source": [
        "def get_words(file_list):\n",
        "  def generator():\n",
        "    for path in file_list:\n",
        "      name = os.path.splitext(os.path.split(path)[1])[0]\n",
        "      yield audio_words[name]\n",
        "  return generator"
      ],
      "execution_count": 22,
      "outputs": []
    },
    {
      "cell_type": "code",
      "metadata": {
        "id": "I-Ew-7RFfr-e"
      },
      "source": [
        "words = tf.data.Dataset.from_generator(get_words(audio_list), output_signature=tf.TensorSpec(shape=(None,), dtype=tf.string))\n",
        "noise_words = tf.data.Dataset.from_generator(get_words(noise_audio_list), output_signature=tf.TensorSpec(shape=(None,), dtype=tf.string))"
      ],
      "execution_count": 23,
      "outputs": []
    },
    {
      "cell_type": "markdown",
      "metadata": {
        "id": "fBl1_mQigzU8"
      },
      "source": [
        "查看效果"
      ]
    },
    {
      "cell_type": "code",
      "metadata": {
        "id": "mCwn-XJLuHii",
        "colab": {
          "base_uri": "https://localhost:8080/",
          "height": 35
        },
        "outputId": "e137ae89-f0cb-46b7-b90c-8d1f26f50e2f"
      },
      "source": [
        "' '.join(map(lambda x: str(x, 'utf-8'), next(words.as_numpy_iterator())))"
      ],
      "execution_count": 24,
      "outputs": [
        {
          "output_type": "execute_result",
          "data": {
            "application/vnd.google.colaboratory.intrinsic+json": {
              "type": "string"
            },
            "text/plain": [
              "'十 几 根 鎏 金 石 雕 圆 柱 承 托 着 两 层 圆 形 屋 顶 远 看 颇 似 我 国 传 统 的 重 檐 圆 亭'"
            ]
          },
          "metadata": {
            "tags": []
          },
          "execution_count": 24
        }
      ]
    },
    {
      "cell_type": "markdown",
      "metadata": {
        "id": "hZZo09mfiTtT"
      },
      "source": [
        "## 构建拼音"
      ]
    },
    {
      "cell_type": "code",
      "metadata": {
        "id": "0bpiT3Q3_h-_"
      },
      "source": [
        "def get_pinyins(file_list):\n",
        "  def generator():\n",
        "    for path in file_list:\n",
        "      name = os.path.splitext(os.path.split(path)[1])[0]\n",
        "      yield audio_pinyins[name]\n",
        "  return generator"
      ],
      "execution_count": 25,
      "outputs": []
    },
    {
      "cell_type": "code",
      "metadata": {
        "id": "eG6zLyi9iVf6"
      },
      "source": [
        "pinyins = tf.data.Dataset.from_generator(get_pinyins(audio_list), output_signature=tf.TensorSpec(shape=(None,), dtype=tf.string))\n",
        "noise_pinyins = tf.data.Dataset.from_generator(get_pinyins(noise_audio_list), output_signature=tf.TensorSpec(shape=(None,), dtype=tf.string))"
      ],
      "execution_count": 26,
      "outputs": []
    },
    {
      "cell_type": "markdown",
      "metadata": {
        "id": "Ij6QFeAUvcvo"
      },
      "source": [
        "查看效果"
      ]
    },
    {
      "cell_type": "code",
      "metadata": {
        "colab": {
          "base_uri": "https://localhost:8080/",
          "height": 52
        },
        "id": "wteryZYQa500",
        "outputId": "47512de8-0b73-4576-d214-fc85324e9953"
      },
      "source": [
        "' '.join(map(lambda x: str(x, 'utf-8'), next(pinyins.as_numpy_iterator())))"
      ],
      "execution_count": 27,
      "outputs": [
        {
          "output_type": "execute_result",
          "data": {
            "application/vnd.google.colaboratory.intrinsic+json": {
              "type": "string"
            },
            "text/plain": [
              "'shi2 ji3 gen1 liu2 jin1 shi2 diao1 yuan2 zhu4 cheng2 tuo1 zhe5 liang3 ceng2 yuan2 xing2 wu1 ding3 yuan3 kan4 po1 si4 wo3 guo2 chuan2 tong3 de5 zhong4 yan2 yuan2 ting2'"
            ]
          },
          "metadata": {
            "tags": []
          },
          "execution_count": 27
        }
      ]
    },
    {
      "cell_type": "markdown",
      "metadata": {
        "id": "swxU5MsHihuB"
      },
      "source": [
        "## 构建有声调拼音索引"
      ]
    },
    {
      "cell_type": "code",
      "metadata": {
        "id": "WVNZFUTpimJU"
      },
      "source": [
        "def get_pinyin_index(file_list):\n",
        "  def generator():\n",
        "    regex = re.compile('^([a-z]+)(\\d?)$')\n",
        "    for path in file_list:\n",
        "      name = os.path.splitext(os.path.split(path)[1])[0]\n",
        "      pinyins = audio_pinyins[name]\n",
        "      result = np.empty(shape=len(pinyins), dtype=np.int32)\n",
        "      for i, pinyin in enumerate(pinyins):\n",
        "        yin, diao = regex.match(pinyin).groups()\n",
        "        if diao != '' and diao in '1234':\n",
        "          result[i] = pinyin_mapper[pinyin]\n",
        "        else:\n",
        "          # 将第5声轻音归为1声\n",
        "          result[i] = pinyin_mapper[yin + '1']\n",
        "      yield result\n",
        "  return generator"
      ],
      "execution_count": 29,
      "outputs": []
    },
    {
      "cell_type": "code",
      "metadata": {
        "id": "_Pu4D7_dkYvH"
      },
      "source": [
        "pinyin_index = tf.data.Dataset.from_generator(get_pinyin_index(audio_list), output_signature=tf.TensorSpec(shape=(None,), dtype=tf.int32))\n",
        "noise_pinyin_index = tf.data.Dataset.from_generator(get_pinyin_index(noise_audio_list), output_signature=tf.TensorSpec(shape=(None,), dtype=tf.int32))"
      ],
      "execution_count": 30,
      "outputs": []
    },
    {
      "cell_type": "markdown",
      "metadata": {
        "id": "zLdBF5tIkthG"
      },
      "source": [
        "查看效果"
      ]
    },
    {
      "cell_type": "code",
      "metadata": {
        "colab": {
          "base_uri": "https://localhost:8080/"
        },
        "id": "wbSNRiBBkvEH",
        "outputId": "ca49e1fd-a6d6-4d06-eba5-2ce1e9d77692"
      },
      "source": [
        "sample_data = next(pinyin_index.as_numpy_iterator())\n",
        "sample_data = list(map(lambda x: str(x), sample_data))\n",
        "print(' '.join(sample_data))\n",
        "print(' '.join(map(lambda x: pinyin_mapper[x], sample_data)))"
      ],
      "execution_count": 31,
      "outputs": [
        {
          "output_type": "stream",
          "text": [
            "1197 526 400 717 548 1197 272 1485 1583 145 1340 1552 698 113 1485 1409 1376 282 1486 591 1004 1239 1374 445 173 1318 244 1575 1441 1485 1313\n",
            "shi2 ji3 gen1 liu2 jin1 shi2 diao1 yuan2 zhu4 cheng2 tuo1 zhe1 liang3 ceng2 yuan2 xing2 wu1 ding3 yuan3 kan4 po1 si4 wo3 guo2 chuan2 tong3 de1 zhong4 yan2 yuan2 ting2\n"
          ],
          "name": "stdout"
        }
      ]
    },
    {
      "cell_type": "markdown",
      "metadata": {
        "id": "3s0tYTauzaAs"
      },
      "source": [
        "## 构建无声调拼音索引"
      ]
    },
    {
      "cell_type": "code",
      "metadata": {
        "id": "mF523sBWlJ7v"
      },
      "source": [
        "def get_pinyin_index_without_intonation(file_list):\n",
        "  def generator():\n",
        "    regex = re.compile('^([a-z]+)\\d?$')\n",
        "    for path in file_list:\n",
        "      name = os.path.splitext(os.path.split(path)[1])[0]\n",
        "      pinyins = audio_pinyins[name]\n",
        "      result = np.empty(shape=len(pinyins), dtype=np.int32)\n",
        "      for i, pinyin in enumerate(pinyins):\n",
        "        yin = regex.match(pinyin).group(1)\n",
        "        result[i] = pinyin_mapper_without_intonation[yin]\n",
        "      yield result\n",
        "  return generator"
      ],
      "execution_count": 32,
      "outputs": []
    },
    {
      "cell_type": "code",
      "metadata": {
        "id": "SOqRFR70ll0N"
      },
      "source": [
        "pinyin_index_without_intonation = tf.data.Dataset.from_generator(get_pinyin_index_without_intonation(audio_list), output_signature=tf.TensorSpec(shape=(None,), dtype=tf.int32))\n",
        "noise_pinyin_index_without_intonation = tf.data.Dataset.from_generator(get_pinyin_index_without_intonation(noise_audio_list), output_signature=tf.TensorSpec(shape=(None,), dtype=tf.int32))"
      ],
      "execution_count": 33,
      "outputs": []
    },
    {
      "cell_type": "markdown",
      "metadata": {
        "id": "GYMtsLLJlsAl"
      },
      "source": [
        "查看效果"
      ]
    },
    {
      "cell_type": "code",
      "metadata": {
        "colab": {
          "base_uri": "https://localhost:8080/"
        },
        "id": "fQpNI3a5ltD1",
        "outputId": "c5c8cf63-03c0-4a5c-fe2f-06b40a29a19c"
      },
      "source": [
        "sample_data = next(pinyin_index_without_intonation.as_numpy_iterator())\n",
        "sample_data = list(map(lambda x: str(x), sample_data))\n",
        "print(' '.join(sample_data))\n",
        "print(' '.join(map(lambda x: pinyin_mapper_without_intonation[x], sample_data)))"
      ],
      "execution_count": 34,
      "outputs": [
        {
          "output_type": "stream",
          "text": [
            "299 131 100 179 137 299 68 371 395 36 335 388 174 28 371 352 344 70 371 147 251 309 343 111 43 329 61 393 360 371 328\n",
            "shi ji gen liu jin shi diao yuan zhu cheng tuo zhe liang ceng yuan xing wu ding yuan kan po si wo guo chuan tong de zhong yan yuan ting\n"
          ],
          "name": "stdout"
        }
      ]
    },
    {
      "cell_type": "markdown",
      "metadata": {
        "id": "_emJyuYLSG91"
      },
      "source": [
        "## 创建缓存数据"
      ]
    },
    {
      "cell_type": "markdown",
      "metadata": {
        "id": "tBPZ6t2Pe3wA"
      },
      "source": [
        "无噪音数据"
      ]
    },
    {
      "cell_type": "code",
      "metadata": {
        "id": "6k41SSWGVlu5"
      },
      "source": [
        "!mkdir THCHS30_mel"
      ],
      "execution_count": 35,
      "outputs": []
    },
    {
      "cell_type": "code",
      "metadata": {
        "id": "6YvYkK0BST6N"
      },
      "source": [
        "mel_cache = mel.cache('THCHS30_mel/audios')\n",
        "words_cache = words.cache('THCHS30_mel/words')\n",
        "pinyins_cache = pinyins.cache('THCHS30_mel/pinyins')\n",
        "pinyin_index_cache = pinyin_index.cache('THCHS30_mel/pinyin_index')\n",
        "pinyin_index_without_intonation_cache = pinyin_index_without_intonation.cache('THCHS30_mel/pinyin_index_without_intonation')"
      ],
      "execution_count": 36,
      "outputs": []
    },
    {
      "cell_type": "code",
      "metadata": {
        "colab": {
          "base_uri": "https://localhost:8080/"
        },
        "id": "4NTvrTPAfFzl",
        "outputId": "463388e0-36e6-4c43-e3f3-721993db65c3"
      },
      "source": [
        "with tqdm(total=len(audio_list), desc='mel_cache') as pbar:\n",
        "  for i in mel_cache: pbar.update()\n",
        "\n",
        "with tqdm(total=len(audio_list), desc='words_cache') as pbar:\n",
        "  for i in words_cache: pbar.update()\n",
        "\n",
        "with tqdm(total=len(audio_list), desc='pinyins_cache') as pbar:\n",
        "  for i in pinyins_cache: pbar.update()\n",
        "\n",
        "with tqdm(total=len(audio_list), desc='pinyin_index_cache') as pbar:\n",
        "  for i in pinyin_index_cache: pbar.update()\n",
        "\n",
        "with tqdm(total=len(audio_list), desc='pinyin_index_without_intonation_cache') as pbar:\n",
        "  for i in pinyin_index_without_intonation_cache: pbar.update()"
      ],
      "execution_count": 40,
      "outputs": [
        {
          "output_type": "stream",
          "text": [
            "mel_cache: 100%|██████████| 13388/13388 [19:02<00:00, 11.72it/s]\n",
            "words_cache: 100%|██████████| 13388/13388 [00:05<00:00, 2249.39it/s]\n",
            "pinyins_cache: 100%|██████████| 13388/13388 [00:05<00:00, 2304.94it/s]\n",
            "pinyin_index_cache: 100%|██████████| 13388/13388 [00:06<00:00, 2118.18it/s]\n",
            "pinyin_index_without_intonation_cache: 100%|██████████| 13388/13388 [00:06<00:00, 2191.75it/s]\n"
          ],
          "name": "stderr"
        }
      ]
    },
    {
      "cell_type": "markdown",
      "metadata": {
        "id": "AW0H1aUoe6Tk"
      },
      "source": [
        "有噪音数据"
      ]
    },
    {
      "cell_type": "code",
      "metadata": {
        "id": "LfJQYLkVfIOK"
      },
      "source": [
        "!mkdir THCHS30_mel_noise"
      ],
      "execution_count": 37,
      "outputs": []
    },
    {
      "cell_type": "code",
      "metadata": {
        "id": "E7D0hNyPer3U"
      },
      "source": [
        "noise_mel_cache = noise_mel.cache('THCHS30_mel_noise/audios')\n",
        "noise_words_cache = noise_words.cache('THCHS30_mel_noise/words')\n",
        "noise_pinyins_cache = noise_pinyins.cache('THCHS30_mel_noise/pinyins')\n",
        "noise_pinyin_index_cache = noise_pinyin_index.cache('THCHS30_mel_noise/pinyin_index')\n",
        "noise_pinyin_index_without_intonation_cache = noise_pinyin_index_without_intonation.cache('THCHS30_mel_noise/pinyin_index_without_intonation')"
      ],
      "execution_count": 38,
      "outputs": []
    },
    {
      "cell_type": "code",
      "metadata": {
        "colab": {
          "base_uri": "https://localhost:8080/"
        },
        "id": "9tdFa1qCU1qJ",
        "outputId": "33c05444-b11d-41ff-ee55-f7d3a7b1f6f8"
      },
      "source": [
        "with tqdm(total=len(noise_audio_list), desc='noise_mel_cache') as pbar:\n",
        "  for i in noise_mel_cache: pbar.update()\n",
        "\n",
        "with tqdm(total=len(noise_audio_list), desc='noise_words_cache') as pbar:\n",
        "  for i in noise_words_cache: pbar.update()\n",
        "\n",
        "with tqdm(total=len(noise_audio_list), desc='noise_pinyins_cache') as pbar:\n",
        "  for i in noise_pinyins_cache: pbar.update()\n",
        "\n",
        "with tqdm(total=len(noise_audio_list), desc='noise_pinyin_index_cache') as pbar:\n",
        "  for i in noise_pinyin_index_cache: pbar.update()\n",
        "\n",
        "with tqdm(total=len(noise_audio_list), desc='noise_pinyin_index_without_intonation_cache') as pbar:\n",
        "  for i in noise_pinyin_index_without_intonation_cache: pbar.update()"
      ],
      "execution_count": 41,
      "outputs": [
        {
          "output_type": "stream",
          "text": [
            "noise_mel_cache: 100%|██████████| 7485/7485 [05:05<00:00, 24.49it/s]\n",
            "noise_words_cache: 100%|██████████| 7485/7485 [00:03<00:00, 2256.71it/s]\n",
            "noise_pinyins_cache: 100%|██████████| 7485/7485 [00:03<00:00, 2195.66it/s]\n",
            "noise_pinyin_index_cache: 100%|██████████| 7485/7485 [00:03<00:00, 2155.85it/s]\n",
            "noise_pinyin_index_without_intonation_cache: 100%|██████████| 7485/7485 [00:03<00:00, 2188.94it/s]\n"
          ],
          "name": "stderr"
        }
      ]
    },
    {
      "cell_type": "markdown",
      "metadata": {
        "id": "tfhx9fyYgIeG"
      },
      "source": [
        "## 创建说明文件"
      ]
    },
    {
      "cell_type": "code",
      "metadata": {
        "id": "Pkwotsx8xuJI"
      },
      "source": [
        "readme = '''数据来源：http://www.openslr.org/18/\n",
        "项目地址：https://github.com/wu-jingtao/training-data/blob/master/speech_recognition/chinese/README.md\n",
        "创建时间：{}\n",
        "\n",
        "数据类型：\n",
        "audios：音频对应的 mel 频谱图\n",
        "  {}\n",
        "\n",
        "words：音频对应的文字\n",
        "  {}\n",
        "\n",
        "pinyins：音频对应的拼音\n",
        "  {}\n",
        "\n",
        "pinyin_index：音频对应的带声调拼音索引\n",
        "  {}\n",
        "\n",
        "pinyin_index_without_intonation：音频对应的不带声调拼音索引\n",
        "  {}\n",
        "\n",
        "示例代码：\n",
        ">>> data = tf.data.Dataset.from_generator(lambda: None, output_signature=tf.TensorSpec(shape=(None, 80), dtype=tf.float32))\n",
        ">>> data = data.cache('文件夹路径/audio')\n",
        "'''\n",
        "\n",
        "readme = readme.format(\n",
        "      datetime.datetime.today(),\n",
        "      mel_cache.element_spec,\n",
        "      words_cache.element_spec,\n",
        "      pinyins_cache.element_spec,\n",
        "      pinyin_index_cache.element_spec,\n",
        "      pinyin_index_without_intonation_cache.element_spec\n",
        "    )\n",
        "\n",
        "with open('THCHS30_mel/README.txt', 'w') as f:\n",
        "  f.write(readme)\n",
        "\n",
        "with open('THCHS30_mel_noise/README.txt', 'w') as f:\n",
        "  f.write(readme)"
      ],
      "execution_count": 42,
      "outputs": []
    },
    {
      "cell_type": "markdown",
      "metadata": {
        "id": "7NoSYS_FwttQ"
      },
      "source": [
        "## 压缩文件"
      ]
    },
    {
      "cell_type": "code",
      "metadata": {
        "id": "T8VHWslewwoQ"
      },
      "source": [
        "!7z a THCHS30_mel.7z THCHS30_mel > zip_log.txt"
      ],
      "execution_count": 43,
      "outputs": []
    },
    {
      "cell_type": "code",
      "metadata": {
        "id": "i_zS-PoAhw7U"
      },
      "source": [
        "!7z a THCHS30_mel_noise.7z THCHS30_mel_noise > zip_noise_log.txt"
      ],
      "execution_count": 44,
      "outputs": []
    },
    {
      "cell_type": "markdown",
      "metadata": {
        "id": "ICJ_UagCwpMR"
      },
      "source": [
        "## 保存到 Google Drive"
      ]
    },
    {
      "cell_type": "code",
      "metadata": {
        "id": "0fAXbhgb0_xs"
      },
      "source": [
        "!cp THCHS30_mel.7z /content/drive/Shareddrives/TeamDrive_top_edu/生成数据/THCHS30_mel.7z"
      ],
      "execution_count": 45,
      "outputs": []
    },
    {
      "cell_type": "code",
      "metadata": {
        "id": "d0BMiMmsiEGT"
      },
      "source": [
        "!cp THCHS30_mel_noise.7z /content/drive/Shareddrives/TeamDrive_top_edu/生成数据/THCHS30_mel_noise.7z"
      ],
      "execution_count": 46,
      "outputs": []
    },
    {
      "cell_type": "code",
      "metadata": {
        "id": "CD_Uf7Dh1BNL"
      },
      "source": [
        "!cp -r THCHS30_mel /content/drive/Shareddrives/TeamDrive_top_edu/生成数据/"
      ],
      "execution_count": 47,
      "outputs": []
    },
    {
      "cell_type": "code",
      "metadata": {
        "id": "aatQSKp6iH54"
      },
      "source": [
        "!cp -r THCHS30_mel_noise /content/drive/Shareddrives/TeamDrive_top_edu/生成数据/"
      ],
      "execution_count": 48,
      "outputs": []
    }
  ]
}