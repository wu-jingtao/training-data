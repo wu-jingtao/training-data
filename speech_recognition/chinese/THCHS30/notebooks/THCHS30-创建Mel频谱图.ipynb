{
  "nbformat": 4,
  "nbformat_minor": 0,
  "metadata": {
    "colab": {
      "name": "THCHS30-创建Mel频谱图.ipynb",
      "provenance": [],
      "collapsed_sections": [],
      "toc_visible": true
    },
    "kernelspec": {
      "name": "python3",
      "display_name": "Python 3"
    },
    "language_info": {
      "name": "python"
    }
  },
  "cells": [
    {
      "cell_type": "markdown",
      "metadata": {
        "id": "ibN8jtCiZBW-"
      },
      "source": [
        "# THCHS30 - 创建 Mel 频谱图\n",
        "\n",
        "音频经过了以下变换：\n",
        "\n",
        "1. 采样率与原始音频保持一致 `16000hz`\n",
        "1. `win_length` 设置为 `100ms`，`hop_length` 设置为 `50ms`\n",
        "1. Mel 频谱图 [filter-bank](https://librosa.org/doc/latest/generated/librosa.filters.mel.html) 选择 `80`\n",
        "1. 将 Mel 频谱图转换成 [power spectrogram](https://librosa.org/doc/latest/generated/librosa.power_to_db.html)\n",
        "1. 将取值范围调整到 `[0, 1]`\n",
        "\n",
        "文本经过以下变换：\n",
        "\n",
        "1. 拼音经过 [拼音字典](https://github.com/wu-jingtao/training-data/blob/master/speech_recognition/chinese/拼音字典/README.md) 转换成对应的数字索引"
      ]
    },
    {
      "cell_type": "code",
      "metadata": {
        "id": "IatKRwnUYbzQ"
      },
      "source": [
        "import os\n",
        "import json\n",
        "import glob\n",
        "import datetime\n",
        "import random\n",
        "import librosa\n",
        "import librosa.display\n",
        "import numpy as np\n",
        "import tensorflow as tf\n",
        "import matplotlib.pyplot as plt\n",
        "import IPython.display as ipd\n",
        "from tqdm import tqdm"
      ],
      "execution_count": 1,
      "outputs": []
    },
    {
      "cell_type": "markdown",
      "metadata": {
        "id": "WIhDQwRIZvEy"
      },
      "source": [
        "## 挂载 Google Drive"
      ]
    },
    {
      "cell_type": "code",
      "metadata": {
        "colab": {
          "base_uri": "https://localhost:8080/"
        },
        "id": "wx0Bb8gtZuYt",
        "outputId": "efa99471-6732-4d7e-c3d1-ffe78a20eb7d"
      },
      "source": [
        "from google.colab import drive\n",
        "drive.mount('/content/drive')"
      ],
      "execution_count": 2,
      "outputs": [
        {
          "output_type": "stream",
          "text": [
            "Mounted at /content/drive\n"
          ],
          "name": "stdout"
        }
      ]
    },
    {
      "cell_type": "markdown",
      "metadata": {
        "id": "JHG9JZ4ZZ0Vy"
      },
      "source": [
        "## 解压数据\n",
        "\n",
        "数据来自：[THCHS30数据下载.ipynb](https://github.com/wu-jingtao/training-data/blob/master/speech_recognition/chinese/THCHS30/notebooks/THCHS30数据下载.ipynb)"
      ]
    },
    {
      "cell_type": "code",
      "metadata": {
        "id": "OnKi4kxaV2-3"
      },
      "source": [
        "!tar zxvf /content/drive/Shareddrives/TeamDrive_top_edu/原始数据/THCHS30/data_thchs30.tgz > unzip_log.txt"
      ],
      "execution_count": 3,
      "outputs": []
    },
    {
      "cell_type": "code",
      "metadata": {
        "id": "GLhwH0PLZ1na"
      },
      "source": [
        "!tar zxvf /content/drive/Shareddrives/TeamDrive_top_edu/原始数据/THCHS30/test-noise.tgz > unzip_noise_log.txt"
      ],
      "execution_count": 4,
      "outputs": []
    },
    {
      "cell_type": "markdown",
      "metadata": {
        "id": "KkF0Q0-SeLmd"
      },
      "source": [
        "## 加载拼音字典"
      ]
    },
    {
      "cell_type": "code",
      "metadata": {
        "id": "dGiWZ1D5eYFm"
      },
      "source": [
        "!wget https://raw.githubusercontent.com/wu-jingtao/training-data/master/speech_recognition/chinese/拼音字典/pinyin_mapper/intonation_5.json\n",
        "!wget https://raw.githubusercontent.com/wu-jingtao/training-data/master/speech_recognition/chinese/拼音字典/pinyin_mapper/intonation_4.json\n",
        "!wget https://raw.githubusercontent.com/wu-jingtao/training-data/master/speech_recognition/chinese/拼音字典/pinyin_mapper/intonation_0.json\n",
        "!wget https://raw.githubusercontent.com/wu-jingtao/training-data/master/speech_recognition/chinese/拼音字典/pinyin_mapper/intonation_fuzzy.json"
      ],
      "execution_count": null,
      "outputs": []
    },
    {
      "cell_type": "code",
      "metadata": {
        "id": "SEQoBgG1ecJV"
      },
      "source": [
        "with open('intonation_5.json') as f:\n",
        "  pinyin_mapper_intonation_5 = json.load(f)\n",
        "  \n",
        "with open('intonation_4.json') as f:\n",
        "  pinyin_mapper_intonation_4 = json.load(f)\n",
        "\n",
        "with open('intonation_0.json') as f:\n",
        "  pinyin_mapper_intonation_0 = json.load(f)\n",
        "\n",
        "with open('intonation_fuzzy.json') as f:\n",
        "  pinyin_mapper_intonation_fuzzy = json.load(f)"
      ],
      "execution_count": 6,
      "outputs": []
    },
    {
      "cell_type": "markdown",
      "metadata": {
        "id": "pV5UIdqgZThF"
      },
      "source": [
        "## 文件列表"
      ]
    },
    {
      "cell_type": "code",
      "metadata": {
        "id": "wfLFvvmuZVgl"
      },
      "source": [
        "audio_list = glob.glob('/content/data_thchs30/data/*.wav')\n",
        "noise_audio_list = glob.glob('/content/test-noise/0db/**/*.wav')"
      ],
      "execution_count": 7,
      "outputs": []
    },
    {
      "cell_type": "markdown",
      "metadata": {
        "id": "RK3FOh0yxZ1i"
      },
      "source": [
        "打乱列表"
      ]
    },
    {
      "cell_type": "code",
      "metadata": {
        "id": "MG_rPkw2xeln"
      },
      "source": [
        "random.shuffle(audio_list)\n",
        "random.shuffle(audio_list)\n",
        "random.shuffle(noise_audio_list)\n",
        "random.shuffle(noise_audio_list)"
      ],
      "execution_count": 8,
      "outputs": []
    },
    {
      "cell_type": "markdown",
      "metadata": {
        "id": "Cc3cpJhVxttI"
      },
      "source": [
        "查看效果"
      ]
    },
    {
      "cell_type": "code",
      "metadata": {
        "colab": {
          "base_uri": "https://localhost:8080/"
        },
        "id": "-pFv4tnyxvue",
        "outputId": "4eb0a1fd-ca25-43c9-822a-69efc1522e65"
      },
      "source": [
        "noise_audio_list[:10]"
      ],
      "execution_count": 9,
      "outputs": [
        {
          "output_type": "execute_result",
          "data": {
            "text/plain": [
              "['/content/test-noise/0db/white/D8_881.wav',\n",
              " '/content/test-noise/0db/car/D11_946.wav',\n",
              " '/content/test-noise/0db/cafe/D21_882.wav',\n",
              " '/content/test-noise/0db/white/D13_899.wav',\n",
              " '/content/test-noise/0db/cafe/D11_973.wav',\n",
              " '/content/test-noise/0db/cafe/D4_828.wav',\n",
              " '/content/test-noise/0db/cafe/D7_922.wav',\n",
              " '/content/test-noise/0db/cafe/D31_925.wav',\n",
              " '/content/test-noise/0db/car/D7_798.wav',\n",
              " '/content/test-noise/0db/car/D11_876.wav']"
            ]
          },
          "metadata": {
            "tags": []
          },
          "execution_count": 9
        }
      ]
    },
    {
      "cell_type": "markdown",
      "metadata": {
        "id": "aRslkyR5dZOu"
      },
      "source": [
        "## 读取音频对应的文本"
      ]
    },
    {
      "cell_type": "code",
      "metadata": {
        "id": "0dujQxqRhQdC"
      },
      "source": [
        "audio_words = dict()\n",
        "audio_pinyins = dict()\n",
        "\n",
        "for path in audio_list:\n",
        "  name = os.path.splitext(os.path.split(path)[1])[0]\n",
        "  with open(path + '.trn') as f:\n",
        "    words = next(f).strip()\n",
        "    words = list(filter(lambda x: x != ' ', words))\n",
        "    pinyins = next(f).strip().split(' ')\n",
        "    audio_words[name] = words\n",
        "    audio_pinyins[name] = pinyins"
      ],
      "execution_count": 10,
      "outputs": []
    },
    {
      "cell_type": "markdown",
      "metadata": {
        "id": "hHs2WHh9f1cU"
      },
      "source": [
        "## 构建 [Mel](https://librosa.org/doc/latest/generated/librosa.feature.melspectrogram.html) 频谱图"
      ]
    },
    {
      "cell_type": "code",
      "metadata": {
        "id": "2syulEwkiDF6"
      },
      "source": [
        "def get_melspectrogram(file_list):\n",
        "  def generator():\n",
        "    for path in file_list:\n",
        "      audio, sr = librosa.load(path, sr=None)\n",
        "      S = librosa.feature.melspectrogram(audio, sr, n_fft=sr // 10, hop_length=sr // 20, n_mels=80)\n",
        "      S_dB = librosa.power_to_db(S, ref=np.max) # 这里顺带做了音量统一\n",
        "      S_dB = (S_dB + 80) / 80\n",
        "      yield S_dB.T\n",
        "  return generator"
      ],
      "execution_count": 11,
      "outputs": []
    },
    {
      "cell_type": "code",
      "metadata": {
        "id": "ka5Kz4owbN87"
      },
      "source": [
        "mel = tf.data.Dataset.from_generator(get_melspectrogram(audio_list), output_signature=tf.TensorSpec(shape=(None, 80), dtype=tf.float32))\n",
        "noise_mel = tf.data.Dataset.from_generator(get_melspectrogram(noise_audio_list), output_signature=tf.TensorSpec(shape=(None, 80), dtype=tf.float32))"
      ],
      "execution_count": 35,
      "outputs": []
    },
    {
      "cell_type": "markdown",
      "metadata": {
        "id": "Xfp6fLB_qdnf"
      },
      "source": [
        "查看频谱图"
      ]
    },
    {
      "cell_type": "code",
      "metadata": {
        "colab": {
          "base_uri": "https://localhost:8080/",
          "height": 277
        },
        "id": "EqoSc4zwoA5u",
        "outputId": "7aca7995-29eb-4afc-85f1-450fad525fb3"
      },
      "source": [
        "sample_data = next(mel.as_numpy_iterator())\n",
        "print(f'mel频谱形状 {sample_data.shape}')\n",
        "\n",
        "fig, ax = plt.subplots(figsize=(15, 3))\n",
        "img = librosa.display.specshow(sample_data.T, x_axis='time', y_axis='mel', sr=16000, ax=ax)\n",
        "fig.colorbar(img, ax=ax)\n",
        "ax.set(title='Mel-frequency spectrogram')"
      ],
      "execution_count": 55,
      "outputs": [
        {
          "output_type": "stream",
          "text": [
            "mel频谱形状 (162, 80)\n"
          ],
          "name": "stdout"
        },
        {
          "output_type": "execute_result",
          "data": {
            "text/plain": [
              "[Text(0.5, 1.0, 'Mel-frequency spectrogram')]"
            ]
          },
          "metadata": {
            "tags": []
          },
          "execution_count": 55
        },
        {
          "output_type": "display_data",
          "data": {
            "image/png": "[encoded data removed]",
            "text/plain": [
              "<Figure size 1080x216 with 2 Axes>"
            ]
          },
          "metadata": {
            "tags": [],
            "needs_background": "light"
          }
        }
      ]
    },
    {
      "cell_type": "markdown",
      "metadata": {
        "id": "b2Lc53ATzBG9"
      },
      "source": [
        "查看音频"
      ]
    },
    {
      "cell_type": "code",
      "metadata": {
        "id": "CoL6yGnUzCud"
      },
      "source": [
        "# 由于是使用 Griffin-Lim 算法复原的所以效果不太好，但这并不会影响到语音识别\n",
        "sample_data = sample_data.T * 80 - 80\n",
        "sample_data = librosa.db_to_power(sample_data)\n",
        "sample_data = librosa.feature.inverse.mel_to_audio(sample_data, sr=16000, n_fft=16000 // 10, hop_length=16000 // 20)\n",
        "ipd.Audio(sample_data, rate=16000)"
      ],
      "execution_count": null,
      "outputs": []
    },
    {
      "cell_type": "markdown",
      "metadata": {
        "id": "WwMl3IRZhKdK"
      },
      "source": [
        "## 构建文本"
      ]
    },
    {
      "cell_type": "code",
      "metadata": {
        "id": "DdtKknZE-tHA"
      },
      "source": [
        "def get_words(file_list):\n",
        "  def generator():\n",
        "    for path in file_list:\n",
        "      name = os.path.splitext(os.path.split(path)[1])[0]\n",
        "      yield audio_words[name]\n",
        "  return generator"
      ],
      "execution_count": 15,
      "outputs": []
    },
    {
      "cell_type": "code",
      "metadata": {
        "id": "I-Ew-7RFfr-e"
      },
      "source": [
        "words = tf.data.Dataset.from_generator(get_words(audio_list), output_signature=tf.TensorSpec(shape=(None,), dtype=tf.string))\n",
        "noise_words = tf.data.Dataset.from_generator(get_words(noise_audio_list), output_signature=tf.TensorSpec(shape=(None,), dtype=tf.string))"
      ],
      "execution_count": 36,
      "outputs": []
    },
    {
      "cell_type": "markdown",
      "metadata": {
        "id": "fBl1_mQigzU8"
      },
      "source": [
        "查看效果"
      ]
    },
    {
      "cell_type": "code",
      "metadata": {
        "id": "mCwn-XJLuHii",
        "colab": {
          "base_uri": "https://localhost:8080/",
          "height": 35
        },
        "outputId": "06ee95ee-8a54-4796-b813-9200fa017e10"
      },
      "source": [
        "' '.join(map(lambda x: str(x, 'utf-8'), next(words.as_numpy_iterator())))"
      ],
      "execution_count": 17,
      "outputs": [
        {
          "output_type": "execute_result",
          "data": {
            "application/vnd.google.colaboratory.intrinsic+json": {
              "type": "string"
            },
            "text/plain": [
              "'她 的 嗓 音 甜 润 且 音 域 宽 厚 高 低 自 然 运 用 自 如 并 有 优 美 的 装 饰 颤 音'"
            ]
          },
          "metadata": {
            "tags": []
          },
          "execution_count": 17
        }
      ]
    },
    {
      "cell_type": "markdown",
      "metadata": {
        "id": "hZZo09mfiTtT"
      },
      "source": [
        "## 构建拼音"
      ]
    },
    {
      "cell_type": "code",
      "metadata": {
        "id": "0bpiT3Q3_h-_"
      },
      "source": [
        "def get_pinyins(file_list):\n",
        "  def generator():\n",
        "    for path in file_list:\n",
        "      name = os.path.splitext(os.path.split(path)[1])[0]\n",
        "      yield audio_pinyins[name]\n",
        "  return generator"
      ],
      "execution_count": 18,
      "outputs": []
    },
    {
      "cell_type": "code",
      "metadata": {
        "id": "eG6zLyi9iVf6"
      },
      "source": [
        "pinyins = tf.data.Dataset.from_generator(get_pinyins(audio_list), output_signature=tf.TensorSpec(shape=(None,), dtype=tf.string))\n",
        "noise_pinyins = tf.data.Dataset.from_generator(get_pinyins(noise_audio_list), output_signature=tf.TensorSpec(shape=(None,), dtype=tf.string))"
      ],
      "execution_count": 37,
      "outputs": []
    },
    {
      "cell_type": "markdown",
      "metadata": {
        "id": "Ij6QFeAUvcvo"
      },
      "source": [
        "查看效果"
      ]
    },
    {
      "cell_type": "code",
      "metadata": {
        "colab": {
          "base_uri": "https://localhost:8080/",
          "height": 35
        },
        "id": "wteryZYQa500",
        "outputId": "a3deb94b-8ba7-44a1-88c2-408f8d258ed3"
      },
      "source": [
        "' '.join(map(lambda x: str(x, 'utf-8'), next(pinyins.as_numpy_iterator())))"
      ],
      "execution_count": 20,
      "outputs": [
        {
          "output_type": "execute_result",
          "data": {
            "application/vnd.google.colaboratory.intrinsic+json": {
              "type": "string"
            },
            "text/plain": [
              "'ta1 de5 sang3 yin1 tian2 run4 qie3 yin1 yu4 kuan1 hou4 gao1 di1 zi4 ran2 yun4 yong4 zi4 ru2 bing4 you3 you1 mei3 de5 zhuang1 shi4 chan4 yin1'"
            ]
          },
          "metadata": {
            "tags": []
          },
          "execution_count": 20
        }
      ]
    },
    {
      "cell_type": "markdown",
      "metadata": {
        "id": "swxU5MsHihuB"
      },
      "source": [
        "## 构建拼音索引"
      ]
    },
    {
      "cell_type": "code",
      "metadata": {
        "id": "pySl_uHCDGFh"
      },
      "source": [
        "def get_pinyin_index(dataset, pinyin_mapper):\n",
        "  def generator():\n",
        "    for sentence in dataset.as_numpy_iterator():\n",
        "      yield np.array(list(map(lambda x: pinyin_mapper[str(x, 'utf-8')], sentence)), dtype=np.int32)\n",
        "  return generator"
      ],
      "execution_count": 26,
      "outputs": []
    },
    {
      "cell_type": "code",
      "metadata": {
        "id": "Qyhn9nlhD6oA"
      },
      "source": [
        "# 五种声调\n",
        "pinyin_index_5 = tf.data.Dataset.from_generator(get_pinyin_index(pinyins, pinyin_mapper_intonation_5), output_signature=tf.TensorSpec(shape=(None,), dtype=tf.int32))\n",
        "noise_pinyin_index_5 = tf.data.Dataset.from_generator(get_pinyin_index(noise_pinyins, pinyin_mapper_intonation_5), output_signature=tf.TensorSpec(shape=(None,), dtype=tf.int32))\n",
        "\n",
        "# 四种声调\n",
        "pinyin_index_4 = tf.data.Dataset.from_generator(get_pinyin_index(pinyins, pinyin_mapper_intonation_4), output_signature=tf.TensorSpec(shape=(None,), dtype=tf.int32))\n",
        "noise_pinyin_index_4 = tf.data.Dataset.from_generator(get_pinyin_index(noise_pinyins, pinyin_mapper_intonation_4), output_signature=tf.TensorSpec(shape=(None,), dtype=tf.int32))\n",
        "\n",
        "# 无声调\n",
        "pinyin_index_0 = tf.data.Dataset.from_generator(get_pinyin_index(pinyins, pinyin_mapper_intonation_0), output_signature=tf.TensorSpec(shape=(None,), dtype=tf.int32))\n",
        "noise_pinyin_index_0 = tf.data.Dataset.from_generator(get_pinyin_index(noise_pinyins, pinyin_mapper_intonation_0), output_signature=tf.TensorSpec(shape=(None,), dtype=tf.int32))\n",
        "\n",
        "# 无声调 + 模糊音\n",
        "pinyin_index_fuzzy = tf.data.Dataset.from_generator(get_pinyin_index(pinyins, pinyin_mapper_intonation_fuzzy), output_signature=tf.TensorSpec(shape=(None,), dtype=tf.int32))\n",
        "noise_pinyin_index_fuzzy = tf.data.Dataset.from_generator(get_pinyin_index(noise_pinyins, pinyin_mapper_intonation_fuzzy), output_signature=tf.TensorSpec(shape=(None,), dtype=tf.int32))"
      ],
      "execution_count": 38,
      "outputs": []
    },
    {
      "cell_type": "markdown",
      "metadata": {
        "id": "zLdBF5tIkthG"
      },
      "source": [
        "查看效果"
      ]
    },
    {
      "cell_type": "code",
      "metadata": {
        "colab": {
          "base_uri": "https://localhost:8080/"
        },
        "id": "wbSNRiBBkvEH",
        "outputId": "0cdb92cc-2bf1-4a20-df04-abc96ec401de"
      },
      "source": [
        "sample_data = next(pinyin_index_5.as_numpy_iterator())\n",
        "sample_data = list(map(lambda x: str(x), sample_data))\n",
        "print(' '.join(sample_data))\n",
        "print(' '.join(map(lambda x: pinyin_mapper_intonation_5[x], sample_data)))"
      ],
      "execution_count": 24,
      "outputs": [
        {
          "output_type": "stream",
          "text": [
            "1585 309 1427 1825 1626 1403 1297 1825 1853 790 613 485 325 2018 1341 1868 1843 2018 1386 93 1847 1845 982 309 1995 1498 158 1825\n",
            "ta1 de5 sang3 yin1 tian2 run4 qie3 yin1 yu4 kuan1 hou4 gao1 di1 zi4 ran2 yun4 yong4 zi4 ru2 bing4 you3 you1 mei3 de5 zhuang1 shi4 chan4 yin1\n"
          ],
          "name": "stdout"
        }
      ]
    },
    {
      "cell_type": "markdown",
      "metadata": {
        "id": "_emJyuYLSG91"
      },
      "source": [
        "## 创建缓存数据"
      ]
    },
    {
      "cell_type": "markdown",
      "metadata": {
        "id": "tBPZ6t2Pe3wA"
      },
      "source": [
        "无噪音数据"
      ]
    },
    {
      "cell_type": "code",
      "metadata": {
        "id": "6k41SSWGVlu5"
      },
      "source": [
        "!mkdir THCHS30_mel"
      ],
      "execution_count": 33,
      "outputs": []
    },
    {
      "cell_type": "code",
      "metadata": {
        "id": "6YvYkK0BST6N"
      },
      "source": [
        "mel_cache = mel.cache('THCHS30_mel/audios')\n",
        "words_cache = words.cache('THCHS30_mel/words')\n",
        "pinyins_cache = pinyins.cache('THCHS30_mel/pinyins')\n",
        "pinyin_index_5_cache = pinyin_index_5.cache('THCHS30_mel/pinyin_index_5')\n",
        "pinyin_index_4_cache = pinyin_index_4.cache('THCHS30_mel/pinyin_index_4')\n",
        "pinyin_index_0_cache = pinyin_index_0.cache('THCHS30_mel/pinyin_index_0')\n",
        "pinyin_index_fuzzy_cache = pinyin_index_fuzzy.cache('THCHS30_mel/pinyin_index_fuzzy')"
      ],
      "execution_count": 39,
      "outputs": []
    },
    {
      "cell_type": "code",
      "metadata": {
        "colab": {
          "base_uri": "https://localhost:8080/"
        },
        "id": "4NTvrTPAfFzl",
        "outputId": "1241610a-85cb-4374-9227-d783447df8c5"
      },
      "source": [
        "with tqdm(total=len(audio_list), desc='mel_cache') as pbar:\n",
        "  for i in mel_cache: pbar.update()\n",
        "\n",
        "with tqdm(total=len(audio_list), desc='words_cache') as pbar:\n",
        "  for i in words_cache: pbar.update()\n",
        "\n",
        "with tqdm(total=len(audio_list), desc='pinyins_cache') as pbar:\n",
        "  for i in pinyins_cache: pbar.update()\n",
        "\n",
        "with tqdm(total=len(audio_list), desc='pinyin_index_5_cache') as pbar:\n",
        "  for i in pinyin_index_5_cache: pbar.update()\n",
        "\n",
        "with tqdm(total=len(audio_list), desc='pinyin_index_4_cache') as pbar:\n",
        "  for i in pinyin_index_4_cache: pbar.update()\n",
        "\n",
        "with tqdm(total=len(audio_list), desc='pinyin_index_0_cache') as pbar:\n",
        "  for i in pinyin_index_0_cache: pbar.update()\n",
        "\n",
        "with tqdm(total=len(audio_list), desc='pinyin_index_fuzzy_cache') as pbar:\n",
        "  for i in pinyin_index_fuzzy_cache: pbar.update()"
      ],
      "execution_count": 40,
      "outputs": [
        {
          "output_type": "stream",
          "text": [
            "mel_cache: 100%|██████████| 13388/13388 [14:12<00:00, 15.71it/s]\n",
            "words_cache: 100%|██████████| 13388/13388 [00:06<00:00, 2146.10it/s]\n",
            "pinyins_cache: 100%|██████████| 13388/13388 [00:06<00:00, 2134.81it/s]\n",
            "pinyin_index_5_cache: 100%|██████████| 13388/13388 [00:12<00:00, 1090.11it/s]\n",
            "pinyin_index_4_cache: 100%|██████████| 13388/13388 [00:12<00:00, 1093.36it/s]\n",
            "pinyin_index_0_cache: 100%|██████████| 13388/13388 [00:12<00:00, 1034.15it/s]\n",
            "pinyin_index_fuzzy_cache: 100%|██████████| 13388/13388 [00:12<00:00, 1043.77it/s]\n"
          ],
          "name": "stderr"
        }
      ]
    },
    {
      "cell_type": "markdown",
      "metadata": {
        "id": "AW0H1aUoe6Tk"
      },
      "source": [
        "有噪音数据"
      ]
    },
    {
      "cell_type": "code",
      "metadata": {
        "id": "LfJQYLkVfIOK"
      },
      "source": [
        "!mkdir THCHS30_mel_noise"
      ],
      "execution_count": 41,
      "outputs": []
    },
    {
      "cell_type": "code",
      "metadata": {
        "id": "E7D0hNyPer3U"
      },
      "source": [
        "noise_mel_cache = noise_mel.cache('THCHS30_mel_noise/audios')\n",
        "noise_words_cache = noise_words.cache('THCHS30_mel_noise/words')\n",
        "noise_pinyins_cache = noise_pinyins.cache('THCHS30_mel_noise/pinyins')\n",
        "noise_pinyin_index_5_cache = noise_pinyin_index_5.cache('THCHS30_mel_noise/pinyin_index_5')\n",
        "noise_pinyin_index_4_cache = noise_pinyin_index_4.cache('THCHS30_mel_noise/pinyin_index_4')\n",
        "noise_pinyin_index_0_cache = noise_pinyin_index_0.cache('THCHS30_mel_noise/pinyin_index_0')\n",
        "noise_pinyin_index_fuzzy_cache = noise_pinyin_index_fuzzy.cache('THCHS30_mel_noise/pinyin_index_fuzzy')"
      ],
      "execution_count": 44,
      "outputs": []
    },
    {
      "cell_type": "code",
      "metadata": {
        "colab": {
          "base_uri": "https://localhost:8080/"
        },
        "id": "9tdFa1qCU1qJ",
        "outputId": "6d710956-2fee-4004-b67b-2bbec804d852"
      },
      "source": [
        "with tqdm(total=len(noise_audio_list), desc='noise_mel_cache') as pbar:\n",
        "  for i in noise_mel_cache: pbar.update()\n",
        "\n",
        "with tqdm(total=len(noise_audio_list), desc='noise_words_cache') as pbar:\n",
        "  for i in noise_words_cache: pbar.update()\n",
        "\n",
        "with tqdm(total=len(noise_audio_list), desc='noise_pinyins_cache') as pbar:\n",
        "  for i in noise_pinyins_cache: pbar.update()\n",
        "\n",
        "with tqdm(total=len(noise_audio_list), desc='noise_pinyin_index_5_cache') as pbar:\n",
        "  for i in noise_pinyin_index_5_cache: pbar.update()\n",
        "\n",
        "with tqdm(total=len(noise_audio_list), desc='noise_pinyin_index_4_cache') as pbar:\n",
        "  for i in noise_pinyin_index_4_cache: pbar.update()\n",
        "\n",
        "with tqdm(total=len(noise_audio_list), desc='noise_pinyin_index_0_cache') as pbar:\n",
        "  for i in noise_pinyin_index_0_cache: pbar.update()\n",
        "\n",
        "with tqdm(total=len(noise_audio_list), desc='noise_pinyin_index_fuzzy_cache') as pbar:\n",
        "  for i in noise_pinyin_index_fuzzy_cache: pbar.update()"
      ],
      "execution_count": 45,
      "outputs": [
        {
          "output_type": "stream",
          "text": [
            "noise_mel_cache: 100%|██████████| 7485/7485 [02:06<00:00, 59.01it/s]\n",
            "noise_words_cache: 100%|██████████| 7485/7485 [00:03<00:00, 2177.09it/s]\n",
            "noise_pinyins_cache: 100%|██████████| 7485/7485 [00:03<00:00, 2193.45it/s]\n",
            "noise_pinyin_index_5_cache: 100%|██████████| 7485/7485 [00:06<00:00, 1097.76it/s]\n",
            "noise_pinyin_index_4_cache: 100%|██████████| 7485/7485 [00:06<00:00, 1109.53it/s]\n",
            "noise_pinyin_index_0_cache: 100%|██████████| 7485/7485 [00:06<00:00, 1104.69it/s]\n",
            "noise_pinyin_index_fuzzy_cache: 100%|██████████| 7485/7485 [00:06<00:00, 1110.54it/s]\n"
          ],
          "name": "stderr"
        }
      ]
    },
    {
      "cell_type": "markdown",
      "metadata": {
        "id": "tfhx9fyYgIeG"
      },
      "source": [
        "## 创建说明文件"
      ]
    },
    {
      "cell_type": "code",
      "metadata": {
        "id": "Pkwotsx8xuJI"
      },
      "source": [
        "readme = '''数据来源：http://www.openslr.org/18/\n",
        "项目地址：https://github.com/wu-jingtao/training-data/blob/master/speech_recognition/chinese/README.md\n",
        "创建时间：{}\n",
        "\n",
        "数据类型：\n",
        "audios：音频对应的 mel 频谱图\n",
        "  {}\n",
        "\n",
        "words：音频对应的文字\n",
        "  {}\n",
        "\n",
        "pinyins：音频对应的拼音\n",
        "  {}\n",
        "\n",
        "pinyin_index_5：音频对应的五声声调拼音索引\n",
        "  {}\n",
        "\n",
        "pinyin_index_4：音频对应的四声声调拼音索引\n",
        "  {}\n",
        "\n",
        "pinyin_index_0：音频对应的无声调拼音索引\n",
        "  {}\n",
        "\n",
        "pinyin_index_fuzzy：音频对应的无声调加模糊音拼音索引\n",
        "  {}\n",
        "\n",
        "示例代码：\n",
        ">>> data = tf.data.Dataset.from_generator(lambda: None, output_signature=tf.TensorSpec(shape=(None, 80), dtype=tf.float32))\n",
        ">>> data = data.cache('文件夹路径/audio')\n",
        "'''\n",
        "\n",
        "readme = readme.format(\n",
        "      datetime.datetime.today(),\n",
        "      mel_cache.element_spec,\n",
        "      words_cache.element_spec,\n",
        "      pinyins_cache.element_spec,\n",
        "      pinyin_index_5_cache.element_spec,\n",
        "      pinyin_index_4_cache.element_spec,\n",
        "      pinyin_index_0_cache.element_spec,\n",
        "      pinyin_index_fuzzy_cache.element_spec\n",
        "    )\n",
        "\n",
        "with open('THCHS30_mel/README.txt', 'w') as f:\n",
        "  f.write(readme)\n",
        "\n",
        "with open('THCHS30_mel_noise/README.txt', 'w') as f:\n",
        "  f.write(readme)"
      ],
      "execution_count": 47,
      "outputs": []
    },
    {
      "cell_type": "markdown",
      "metadata": {
        "id": "7NoSYS_FwttQ"
      },
      "source": [
        "## 压缩文件"
      ]
    },
    {
      "cell_type": "code",
      "metadata": {
        "id": "T8VHWslewwoQ"
      },
      "source": [
        "!7z a THCHS30_mel.7z THCHS30_mel > zip_log.txt"
      ],
      "execution_count": 48,
      "outputs": []
    },
    {
      "cell_type": "code",
      "metadata": {
        "id": "i_zS-PoAhw7U"
      },
      "source": [
        "!7z a THCHS30_mel_noise.7z THCHS30_mel_noise > zip_noise_log.txt"
      ],
      "execution_count": 49,
      "outputs": []
    },
    {
      "cell_type": "markdown",
      "metadata": {
        "id": "ICJ_UagCwpMR"
      },
      "source": [
        "## 保存到 Google Drive"
      ]
    },
    {
      "cell_type": "code",
      "metadata": {
        "id": "0fAXbhgb0_xs"
      },
      "source": [
        "!cp THCHS30_mel.7z /content/drive/Shareddrives/TeamDrive_top_edu/生成数据/THCHS30_mel.7z"
      ],
      "execution_count": 50,
      "outputs": []
    },
    {
      "cell_type": "code",
      "metadata": {
        "id": "d0BMiMmsiEGT"
      },
      "source": [
        "!cp THCHS30_mel_noise.7z /content/drive/Shareddrives/TeamDrive_top_edu/生成数据/THCHS30_mel_noise.7z"
      ],
      "execution_count": 51,
      "outputs": []
    },
    {
      "cell_type": "code",
      "metadata": {
        "id": "CD_Uf7Dh1BNL"
      },
      "source": [
        "!cp -r THCHS30_mel /content/drive/Shareddrives/TeamDrive_top_edu/生成数据/"
      ],
      "execution_count": 52,
      "outputs": []
    },
    {
      "cell_type": "code",
      "metadata": {
        "id": "aatQSKp6iH54"
      },
      "source": [
        "!cp -r THCHS30_mel_noise /content/drive/Shareddrives/TeamDrive_top_edu/生成数据/"
      ],
      "execution_count": 53,
      "outputs": []
    }
  ]
}